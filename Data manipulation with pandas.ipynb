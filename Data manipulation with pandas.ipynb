{
  "cells": [
    {
      "metadata": {
        "collapsed": true
      },
      "cell_type": "markdown",
      "source": "# Extracting and transformaing Data\n    1. Indexing DataFrames"
    },
    {
      "metadata": {},
      "cell_type": "markdown",
      "source": "### Indexing DataFrames\n    Index ordering"
    },
    {
      "metadata": {
        "trusted": true
      },
      "cell_type": "code",
      "source": "# Import pandas\nimport pandas as pd\n\n# Load data\ndata_url = 'https://assets.datacamp.com/production/repositories/502/datasets/502f4eedaf44ad1c94b3595c7691746f282e0b0a/pennsylvania2012_turnout.csv'\n\nelection = pd.read_csv(data_url, index_col = 'county')\n\n# Print data\nelection.head()",
      "execution_count": 3,
      "outputs": [
        {
          "output_type": "execute_result",
          "execution_count": 3,
          "data": {
            "text/html": "<div>\n<style scoped>\n    .dataframe tbody tr th:only-of-type {\n        vertical-align: middle;\n    }\n\n    .dataframe tbody tr th {\n        vertical-align: top;\n    }\n\n    .dataframe thead th {\n        text-align: right;\n    }\n</style>\n<table border=\"1\" class=\"dataframe\">\n  <thead>\n    <tr style=\"text-align: right;\">\n      <th></th>\n      <th>state</th>\n      <th>total</th>\n      <th>Obama</th>\n      <th>Romney</th>\n      <th>winner</th>\n      <th>voters</th>\n      <th>turnout</th>\n      <th>margin</th>\n    </tr>\n    <tr>\n      <th>county</th>\n      <th></th>\n      <th></th>\n      <th></th>\n      <th></th>\n      <th></th>\n      <th></th>\n      <th></th>\n      <th></th>\n    </tr>\n  </thead>\n  <tbody>\n    <tr>\n      <th>Adams</th>\n      <td>PA</td>\n      <td>41973</td>\n      <td>35.482334</td>\n      <td>63.112001</td>\n      <td>Romney</td>\n      <td>61156</td>\n      <td>68.632677</td>\n      <td>27.629667</td>\n    </tr>\n    <tr>\n      <th>Allegheny</th>\n      <td>PA</td>\n      <td>614671</td>\n      <td>56.640219</td>\n      <td>42.185820</td>\n      <td>Obama</td>\n      <td>924351</td>\n      <td>66.497575</td>\n      <td>14.454399</td>\n    </tr>\n    <tr>\n      <th>Armstrong</th>\n      <td>PA</td>\n      <td>28322</td>\n      <td>30.696985</td>\n      <td>67.901278</td>\n      <td>Romney</td>\n      <td>42147</td>\n      <td>67.198140</td>\n      <td>37.204293</td>\n    </tr>\n    <tr>\n      <th>Beaver</th>\n      <td>PA</td>\n      <td>80015</td>\n      <td>46.032619</td>\n      <td>52.637630</td>\n      <td>Romney</td>\n      <td>115157</td>\n      <td>69.483401</td>\n      <td>6.605012</td>\n    </tr>\n    <tr>\n      <th>Bedford</th>\n      <td>PA</td>\n      <td>21444</td>\n      <td>22.057452</td>\n      <td>76.986570</td>\n      <td>Romney</td>\n      <td>32189</td>\n      <td>66.619031</td>\n      <td>54.929118</td>\n    </tr>\n  </tbody>\n</table>\n</div>",
            "text/plain": "          state   total      Obama     Romney  winner  voters    turnout  \\\ncounty                                                                     \nAdams        PA   41973  35.482334  63.112001  Romney   61156  68.632677   \nAllegheny    PA  614671  56.640219  42.185820   Obama  924351  66.497575   \nArmstrong    PA   28322  30.696985  67.901278  Romney   42147  67.198140   \nBeaver       PA   80015  46.032619  52.637630  Romney  115157  69.483401   \nBedford      PA   21444  22.057452  76.986570  Romney   32189  66.619031   \n\n              margin  \ncounty                \nAdams      27.629667  \nAllegheny  14.454399  \nArmstrong  37.204293  \nBeaver      6.605012  \nBedford    54.929118  "
          },
          "metadata": {}
        }
      ]
    },
    {
      "metadata": {
        "trusted": true
      },
      "cell_type": "code",
      "source": "election.loc['Beaver', ['winner', 'margin']]",
      "execution_count": 6,
      "outputs": [
        {
          "output_type": "execute_result",
          "execution_count": 6,
          "data": {
            "text/plain": "winner     Romney\nmargin    6.60501\nName: Beaver, dtype: object"
          },
          "metadata": {}
        }
      ]
    },
    {
      "metadata": {},
      "cell_type": "markdown",
      "source": "# 1.1 Postional and labeled indexing\n\n    Find x and y such that election.iloc[x,y] == election.loc['Beford', 'winner']. That is, what is th row position of 'Bedford', and the column position of 'winner'? Remember that the first position in Python is 0, not 1!\n    To answer this question, first explor the DataFrame using election.head()in the IPython Shell and inspect it with your eyes. \n    \n    Instructions:\n        * Explore the DataFrame in the IPython Shell using election.head()\n        * Assign the row position of election.loc['Bedford']to x.\n        * Assign the column position of election['winner']to y.\n        * Hit 'Submit Answer' to print the boolean equivalence of the .loc and .iloc selections."
    },
    {
      "metadata": {
        "trusted": true
      },
      "cell_type": "code",
      "source": "# Assign the row position of election.loc['Bedford']: x\nx = 4\n\n# Assign the column position of election['winner']:y\ny = 4\n\n# Print the boolean equivalence (==)\nelection.iloc[x,y] == election.loc['Bedford', 'winner']",
      "execution_count": 11,
      "outputs": [
        {
          "output_type": "execute_result",
          "execution_count": 11,
          "data": {
            "text/plain": "True"
          },
          "metadata": {}
        }
      ]
    },
    {
      "metadata": {},
      "cell_type": "markdown",
      "source": "# 1.2 Indexing and column rearrangement\n    There are circumstances in which it's useful to modify the order of your DataFrame columns. We do that now by extracting just two columns form the Pennsylvania election results DataFrame.\n    Your job is to read the CSV file and set the index to 'county', You will then assign a new DataFrame by selecting the list of columns['winner', 'total', 'voters']. The CSV file is provided to you in the variable filename.\n    \n    Instructions:\n    * Import pandas as pd.\n    * Read in file name using pd.read_csv() and set the index to 'county' by specifying the index_colparameter.\n    * Create a separate DataFrame results with the columns ['winner', 'total', 'voters'].\n    * Print the output using results.head(). "
    },
    {
      "metadata": {
        "trusted": true
      },
      "cell_type": "code",
      "source": "# Import pandas\nimport pandas as pd\n\n# Read in filename and set the index: election\ndata_url = 'https://assets.datacamp.com/production/repositories/502/datasets/502f4eedaf44ad1c94b3595c7691746f282e0b0a/pennsylvania2012_turnout.csv'\n\nelection = pd.read_csv(data_url, index_col = 'county')\n\n# Create a separate dataframe with the columns ['winner', 'total', 'voters']: results\nresults = election[['winner', 'total', 'voters']]\n\n# Print the output of results.head()\nresults.head()",
      "execution_count": 13,
      "outputs": [
        {
          "output_type": "execute_result",
          "execution_count": 13,
          "data": {
            "text/html": "<div>\n<style scoped>\n    .dataframe tbody tr th:only-of-type {\n        vertical-align: middle;\n    }\n\n    .dataframe tbody tr th {\n        vertical-align: top;\n    }\n\n    .dataframe thead th {\n        text-align: right;\n    }\n</style>\n<table border=\"1\" class=\"dataframe\">\n  <thead>\n    <tr style=\"text-align: right;\">\n      <th></th>\n      <th>winner</th>\n      <th>total</th>\n      <th>voters</th>\n    </tr>\n    <tr>\n      <th>county</th>\n      <th></th>\n      <th></th>\n      <th></th>\n    </tr>\n  </thead>\n  <tbody>\n    <tr>\n      <th>Adams</th>\n      <td>Romney</td>\n      <td>41973</td>\n      <td>61156</td>\n    </tr>\n    <tr>\n      <th>Allegheny</th>\n      <td>Obama</td>\n      <td>614671</td>\n      <td>924351</td>\n    </tr>\n    <tr>\n      <th>Armstrong</th>\n      <td>Romney</td>\n      <td>28322</td>\n      <td>42147</td>\n    </tr>\n    <tr>\n      <th>Beaver</th>\n      <td>Romney</td>\n      <td>80015</td>\n      <td>115157</td>\n    </tr>\n    <tr>\n      <th>Bedford</th>\n      <td>Romney</td>\n      <td>21444</td>\n      <td>32189</td>\n    </tr>\n  </tbody>\n</table>\n</div>",
            "text/plain": "           winner   total  voters\ncounty                           \nAdams      Romney   41973   61156\nAllegheny   Obama  614671  924351\nArmstrong  Romney   28322   42147\nBeaver     Romney   80015  115157\nBedford    Romney   21444   32189"
          },
          "metadata": {}
        }
      ]
    },
    {
      "metadata": {},
      "cell_type": "markdown",
      "source": "# 2. Slicing DataFrames"
    },
    {
      "metadata": {},
      "cell_type": "markdown",
      "source": "## 2.1 Slicing rows\n    The Pennsylvania US election results data set that you have been using so far is ordered by county name. This means that county names can be sliced alphabetically. In this exercise, you are going to perform slicing on the county names of the election DataFrame from the previous exercises, which has been pre-loaded.\n    \n    Instruction:\n    * Slice the row labels 'Perry' to 'Potter' and assign the output to p_counties.\n    * Print the p_counties DataFrame. This has been done for you.\n    * Slice the row labels 'Potter' to 'Perry' in reverse order. To do this for hypothetical row labels 'a' and 'b'. you could use stepsize of -1 like so: df.loc['b':'a':-1].\n    * Print the p_counties_rev DataFrame."
    },
    {
      "metadata": {
        "trusted": true
      },
      "cell_type": "code",
      "source": "# Slice the row labels 'Potter' to 'Perry' in reverse order: p_counties_rev\np_counties_rev = election.loc['Potter':'Perry':-1, :]\n\n# Print the p_counties_rev DataFrame\np_counties_rev",
      "execution_count": 14,
      "outputs": [
        {
          "output_type": "execute_result",
          "execution_count": 14,
          "data": {
            "text/html": "<div>\n<style scoped>\n    .dataframe tbody tr th:only-of-type {\n        vertical-align: middle;\n    }\n\n    .dataframe tbody tr th {\n        vertical-align: top;\n    }\n\n    .dataframe thead th {\n        text-align: right;\n    }\n</style>\n<table border=\"1\" class=\"dataframe\">\n  <thead>\n    <tr style=\"text-align: right;\">\n      <th></th>\n      <th>state</th>\n      <th>total</th>\n      <th>Obama</th>\n      <th>Romney</th>\n      <th>winner</th>\n      <th>voters</th>\n      <th>turnout</th>\n      <th>margin</th>\n    </tr>\n    <tr>\n      <th>county</th>\n      <th></th>\n      <th></th>\n      <th></th>\n      <th></th>\n      <th></th>\n      <th></th>\n      <th></th>\n      <th></th>\n    </tr>\n  </thead>\n  <tbody>\n    <tr>\n      <th>Potter</th>\n      <td>PA</td>\n      <td>7205</td>\n      <td>26.259542</td>\n      <td>72.158223</td>\n      <td>Romney</td>\n      <td>10913</td>\n      <td>66.022175</td>\n      <td>45.898681</td>\n    </tr>\n    <tr>\n      <th>Pike</th>\n      <td>PA</td>\n      <td>23164</td>\n      <td>43.904334</td>\n      <td>54.882576</td>\n      <td>Romney</td>\n      <td>41840</td>\n      <td>55.363289</td>\n      <td>10.978242</td>\n    </tr>\n    <tr>\n      <th>Philadelphia</th>\n      <td>PA</td>\n      <td>653598</td>\n      <td>85.224251</td>\n      <td>14.051451</td>\n      <td>Obama</td>\n      <td>1099197</td>\n      <td>59.461407</td>\n      <td>71.172800</td>\n    </tr>\n    <tr>\n      <th>Perry</th>\n      <td>PA</td>\n      <td>18240</td>\n      <td>29.769737</td>\n      <td>68.591009</td>\n      <td>Romney</td>\n      <td>27245</td>\n      <td>66.948064</td>\n      <td>38.821272</td>\n    </tr>\n  </tbody>\n</table>\n</div>",
            "text/plain": "             state   total      Obama     Romney  winner   voters    turnout  \\\ncounty                                                                         \nPotter          PA    7205  26.259542  72.158223  Romney    10913  66.022175   \nPike            PA   23164  43.904334  54.882576  Romney    41840  55.363289   \nPhiladelphia    PA  653598  85.224251  14.051451   Obama  1099197  59.461407   \nPerry           PA   18240  29.769737  68.591009  Romney    27245  66.948064   \n\n                 margin  \ncounty                   \nPotter        45.898681  \nPike          10.978242  \nPhiladelphia  71.172800  \nPerry         38.821272  "
          },
          "metadata": {}
        }
      ]
    },
    {
      "metadata": {},
      "cell_type": "markdown",
      "source": "## 2.2 Slicing columns\n    Similar to row slicing, columns can be sliced by value. In this exercise, your job is to slice column names from the Pennsylvania election results DataFrame using .iloc[]. \n    \n    Instructions:\n    * Slice the columns the starting column to 'Obama' and assign the result to left_columns.\n    * Slice the columns from 'Obama' to 'winner' and assign the result to middle_columns.\n    * Slice the columns from 'Romney' to the end and assign the result to right_columns.\n    * The code to print the first 5 rows of left_columns, middle_columns, and right_columns."
    },
    {
      "metadata": {
        "trusted": true
      },
      "cell_type": "code",
      "source": "# Slice the columns from the starting column to 'Obama': left_columns\nleft_columns = election.loc[:, :'Obama']\n\n# Print the output of left_columns.head()\nleft_columns.head()",
      "execution_count": 15,
      "outputs": [
        {
          "output_type": "execute_result",
          "execution_count": 15,
          "data": {
            "text/html": "<div>\n<style scoped>\n    .dataframe tbody tr th:only-of-type {\n        vertical-align: middle;\n    }\n\n    .dataframe tbody tr th {\n        vertical-align: top;\n    }\n\n    .dataframe thead th {\n        text-align: right;\n    }\n</style>\n<table border=\"1\" class=\"dataframe\">\n  <thead>\n    <tr style=\"text-align: right;\">\n      <th></th>\n      <th>state</th>\n      <th>total</th>\n      <th>Obama</th>\n    </tr>\n    <tr>\n      <th>county</th>\n      <th></th>\n      <th></th>\n      <th></th>\n    </tr>\n  </thead>\n  <tbody>\n    <tr>\n      <th>Adams</th>\n      <td>PA</td>\n      <td>41973</td>\n      <td>35.482334</td>\n    </tr>\n    <tr>\n      <th>Allegheny</th>\n      <td>PA</td>\n      <td>614671</td>\n      <td>56.640219</td>\n    </tr>\n    <tr>\n      <th>Armstrong</th>\n      <td>PA</td>\n      <td>28322</td>\n      <td>30.696985</td>\n    </tr>\n    <tr>\n      <th>Beaver</th>\n      <td>PA</td>\n      <td>80015</td>\n      <td>46.032619</td>\n    </tr>\n    <tr>\n      <th>Bedford</th>\n      <td>PA</td>\n      <td>21444</td>\n      <td>22.057452</td>\n    </tr>\n  </tbody>\n</table>\n</div>",
            "text/plain": "          state   total      Obama\ncounty                            \nAdams        PA   41973  35.482334\nAllegheny    PA  614671  56.640219\nArmstrong    PA   28322  30.696985\nBeaver       PA   80015  46.032619\nBedford      PA   21444  22.057452"
          },
          "metadata": {}
        }
      ]
    },
    {
      "metadata": {
        "trusted": true
      },
      "cell_type": "code",
      "source": "# Slice the columns from 'Obama' to 'winner': middle_columns\nmiddle_columns = election.loc[:, 'Obama':'winner']\n\n# Print the output of middle_columns.head()\nmiddle_columns.head()",
      "execution_count": 16,
      "outputs": [
        {
          "output_type": "execute_result",
          "execution_count": 16,
          "data": {
            "text/html": "<div>\n<style scoped>\n    .dataframe tbody tr th:only-of-type {\n        vertical-align: middle;\n    }\n\n    .dataframe tbody tr th {\n        vertical-align: top;\n    }\n\n    .dataframe thead th {\n        text-align: right;\n    }\n</style>\n<table border=\"1\" class=\"dataframe\">\n  <thead>\n    <tr style=\"text-align: right;\">\n      <th></th>\n      <th>Obama</th>\n      <th>Romney</th>\n      <th>winner</th>\n    </tr>\n    <tr>\n      <th>county</th>\n      <th></th>\n      <th></th>\n      <th></th>\n    </tr>\n  </thead>\n  <tbody>\n    <tr>\n      <th>Adams</th>\n      <td>35.482334</td>\n      <td>63.112001</td>\n      <td>Romney</td>\n    </tr>\n    <tr>\n      <th>Allegheny</th>\n      <td>56.640219</td>\n      <td>42.185820</td>\n      <td>Obama</td>\n    </tr>\n    <tr>\n      <th>Armstrong</th>\n      <td>30.696985</td>\n      <td>67.901278</td>\n      <td>Romney</td>\n    </tr>\n    <tr>\n      <th>Beaver</th>\n      <td>46.032619</td>\n      <td>52.637630</td>\n      <td>Romney</td>\n    </tr>\n    <tr>\n      <th>Bedford</th>\n      <td>22.057452</td>\n      <td>76.986570</td>\n      <td>Romney</td>\n    </tr>\n  </tbody>\n</table>\n</div>",
            "text/plain": "               Obama     Romney  winner\ncounty                                 \nAdams      35.482334  63.112001  Romney\nAllegheny  56.640219  42.185820   Obama\nArmstrong  30.696985  67.901278  Romney\nBeaver     46.032619  52.637630  Romney\nBedford    22.057452  76.986570  Romney"
          },
          "metadata": {}
        }
      ]
    },
    {
      "metadata": {
        "trusted": true
      },
      "cell_type": "code",
      "source": "# Slice the columns from 'Romney' to the end: 'right_columns'\nright_columns = election.loc[:, 'Romney':]\n\n# Print the output of right_columns.head()\nright_columns.head()",
      "execution_count": 17,
      "outputs": [
        {
          "output_type": "execute_result",
          "execution_count": 17,
          "data": {
            "text/html": "<div>\n<style scoped>\n    .dataframe tbody tr th:only-of-type {\n        vertical-align: middle;\n    }\n\n    .dataframe tbody tr th {\n        vertical-align: top;\n    }\n\n    .dataframe thead th {\n        text-align: right;\n    }\n</style>\n<table border=\"1\" class=\"dataframe\">\n  <thead>\n    <tr style=\"text-align: right;\">\n      <th></th>\n      <th>Romney</th>\n      <th>winner</th>\n      <th>voters</th>\n      <th>turnout</th>\n      <th>margin</th>\n    </tr>\n    <tr>\n      <th>county</th>\n      <th></th>\n      <th></th>\n      <th></th>\n      <th></th>\n      <th></th>\n    </tr>\n  </thead>\n  <tbody>\n    <tr>\n      <th>Adams</th>\n      <td>63.112001</td>\n      <td>Romney</td>\n      <td>61156</td>\n      <td>68.632677</td>\n      <td>27.629667</td>\n    </tr>\n    <tr>\n      <th>Allegheny</th>\n      <td>42.185820</td>\n      <td>Obama</td>\n      <td>924351</td>\n      <td>66.497575</td>\n      <td>14.454399</td>\n    </tr>\n    <tr>\n      <th>Armstrong</th>\n      <td>67.901278</td>\n      <td>Romney</td>\n      <td>42147</td>\n      <td>67.198140</td>\n      <td>37.204293</td>\n    </tr>\n    <tr>\n      <th>Beaver</th>\n      <td>52.637630</td>\n      <td>Romney</td>\n      <td>115157</td>\n      <td>69.483401</td>\n      <td>6.605012</td>\n    </tr>\n    <tr>\n      <th>Bedford</th>\n      <td>76.986570</td>\n      <td>Romney</td>\n      <td>32189</td>\n      <td>66.619031</td>\n      <td>54.929118</td>\n    </tr>\n  </tbody>\n</table>\n</div>",
            "text/plain": "              Romney  winner  voters    turnout     margin\ncounty                                                    \nAdams      63.112001  Romney   61156  68.632677  27.629667\nAllegheny  42.185820   Obama  924351  66.497575  14.454399\nArmstrong  67.901278  Romney   42147  67.198140  37.204293\nBeaver     52.637630  Romney  115157  69.483401   6.605012\nBedford    76.986570  Romney   32189  66.619031  54.929118"
          },
          "metadata": {}
        }
      ]
    },
    {
      "metadata": {},
      "cell_type": "markdown",
      "source": "## Subselecting DataFrames with lists\n    You can use lists to select specific row and labels with .loc[] accessor. In this exercise, your job is to select counties['Philadelphia', 'Centre', 'Fulton'] and the columns['winner', 'Obama', 'Romney'] from the election DataFrame.\n    \n    Instruction:\n    * Create the list row labels['Philadelphia', 'Centre', 'Fulton'] and assign it to rows.\n    * Create the list of column labels ['winner', 'Obama', 'Romney'] and assign it to cols.\n    * Create a new DataFrame by selecting with rows and cols in .loc[] and assign it to three_counties.\n    * Print the three_counties DataFrame."
    },
    {
      "metadata": {
        "trusted": true
      },
      "cell_type": "code",
      "source": "# Create the list of row labels: rows\nrows = ['Philadelphia', 'Centre', 'Fulton']\n\n# Create the list of column labels: cols\ncols = ['winner', 'Obama', 'Romney']\n\n# Create the new DataFrame: three_counties\nthree_counties = election.loc[rows, cols]\n\n# Print the three_counties DataFrame\nthree_counties",
      "execution_count": 19,
      "outputs": [
        {
          "output_type": "execute_result",
          "execution_count": 19,
          "data": {
            "text/html": "<div>\n<style scoped>\n    .dataframe tbody tr th:only-of-type {\n        vertical-align: middle;\n    }\n\n    .dataframe tbody tr th {\n        vertical-align: top;\n    }\n\n    .dataframe thead th {\n        text-align: right;\n    }\n</style>\n<table border=\"1\" class=\"dataframe\">\n  <thead>\n    <tr style=\"text-align: right;\">\n      <th></th>\n      <th>winner</th>\n      <th>Obama</th>\n      <th>Romney</th>\n    </tr>\n    <tr>\n      <th>county</th>\n      <th></th>\n      <th></th>\n      <th></th>\n    </tr>\n  </thead>\n  <tbody>\n    <tr>\n      <th>Philadelphia</th>\n      <td>Obama</td>\n      <td>85.224251</td>\n      <td>14.051451</td>\n    </tr>\n    <tr>\n      <th>Centre</th>\n      <td>Romney</td>\n      <td>48.948416</td>\n      <td>48.977486</td>\n    </tr>\n    <tr>\n      <th>Fulton</th>\n      <td>Romney</td>\n      <td>21.096291</td>\n      <td>77.748861</td>\n    </tr>\n  </tbody>\n</table>\n</div>",
            "text/plain": "              winner      Obama     Romney\ncounty                                    \nPhiladelphia   Obama  85.224251  14.051451\nCentre        Romney  48.948416  48.977486\nFulton        Romney  21.096291  77.748861"
          },
          "metadata": {}
        }
      ]
    },
    {
      "metadata": {},
      "cell_type": "markdown",
      "source": "# 3. Filtering DataFrames"
    },
    {
      "metadata": {},
      "cell_type": "markdown",
      "source": "## 3.1 Thresholding data\n    In this exercise, we have provided the Pennsylvania election results and included a column called 'turnout' that contains the percentage of voter turnout per county. Your job is to prepare a boolean array to select all of the rows and columns where voter turnout exceeded 70%.\n    \n    Instructions:\n    * Create a boolean array of the condition where the 'turnout' column is greater than 70 and assign it to high_turnout.\n    * Filter the election DataFrame with the high_turnout array and assign it to high_turnout_df. \n    * Print the filtered DataFrame."
    },
    {
      "metadata": {
        "trusted": true
      },
      "cell_type": "code",
      "source": "# Create the boolean array: high_turnout\nhigh_turnout = election['turnout']>70\n\n# Filter the election DataFrame with the high_turnout array: high_turnout_df\nhigh_turnout_df = election[high_turnout]\n\n# Print the high_turnout_results DataFrame\nhigh_turnout_df",
      "execution_count": 20,
      "outputs": [
        {
          "output_type": "execute_result",
          "execution_count": 20,
          "data": {
            "text/html": "<div>\n<style scoped>\n    .dataframe tbody tr th:only-of-type {\n        vertical-align: middle;\n    }\n\n    .dataframe tbody tr th {\n        vertical-align: top;\n    }\n\n    .dataframe thead th {\n        text-align: right;\n    }\n</style>\n<table border=\"1\" class=\"dataframe\">\n  <thead>\n    <tr style=\"text-align: right;\">\n      <th></th>\n      <th>state</th>\n      <th>total</th>\n      <th>Obama</th>\n      <th>Romney</th>\n      <th>winner</th>\n      <th>voters</th>\n      <th>turnout</th>\n      <th>margin</th>\n    </tr>\n    <tr>\n      <th>county</th>\n      <th></th>\n      <th></th>\n      <th></th>\n      <th></th>\n      <th></th>\n      <th></th>\n      <th></th>\n      <th></th>\n    </tr>\n  </thead>\n  <tbody>\n    <tr>\n      <th>Bucks</th>\n      <td>PA</td>\n      <td>319407</td>\n      <td>49.966970</td>\n      <td>48.801686</td>\n      <td>Obama</td>\n      <td>435606</td>\n      <td>73.324748</td>\n      <td>1.165284</td>\n    </tr>\n    <tr>\n      <th>Butler</th>\n      <td>PA</td>\n      <td>88924</td>\n      <td>31.920516</td>\n      <td>66.816607</td>\n      <td>Romney</td>\n      <td>122762</td>\n      <td>72.436096</td>\n      <td>34.896091</td>\n    </tr>\n    <tr>\n      <th>Chester</th>\n      <td>PA</td>\n      <td>248295</td>\n      <td>49.228539</td>\n      <td>49.650617</td>\n      <td>Romney</td>\n      <td>337822</td>\n      <td>73.498766</td>\n      <td>0.422079</td>\n    </tr>\n    <tr>\n      <th>Forest</th>\n      <td>PA</td>\n      <td>2308</td>\n      <td>38.734835</td>\n      <td>59.835355</td>\n      <td>Romney</td>\n      <td>3232</td>\n      <td>71.410891</td>\n      <td>21.100520</td>\n    </tr>\n    <tr>\n      <th>Franklin</th>\n      <td>PA</td>\n      <td>62802</td>\n      <td>30.110506</td>\n      <td>68.583803</td>\n      <td>Romney</td>\n      <td>87406</td>\n      <td>71.850903</td>\n      <td>38.473297</td>\n    </tr>\n    <tr>\n      <th>Montgomery</th>\n      <td>PA</td>\n      <td>401787</td>\n      <td>56.637223</td>\n      <td>42.286834</td>\n      <td>Obama</td>\n      <td>551105</td>\n      <td>72.905708</td>\n      <td>14.350390</td>\n    </tr>\n    <tr>\n      <th>Westmoreland</th>\n      <td>PA</td>\n      <td>168709</td>\n      <td>37.567646</td>\n      <td>61.306154</td>\n      <td>Romney</td>\n      <td>238006</td>\n      <td>70.884347</td>\n      <td>23.738508</td>\n    </tr>\n  </tbody>\n</table>\n</div>",
            "text/plain": "             state   total      Obama     Romney  winner  voters    turnout  \\\ncounty                                                                        \nBucks           PA  319407  49.966970  48.801686   Obama  435606  73.324748   \nButler          PA   88924  31.920516  66.816607  Romney  122762  72.436096   \nChester         PA  248295  49.228539  49.650617  Romney  337822  73.498766   \nForest          PA    2308  38.734835  59.835355  Romney    3232  71.410891   \nFranklin        PA   62802  30.110506  68.583803  Romney   87406  71.850903   \nMontgomery      PA  401787  56.637223  42.286834   Obama  551105  72.905708   \nWestmoreland    PA  168709  37.567646  61.306154  Romney  238006  70.884347   \n\n                 margin  \ncounty                   \nBucks          1.165284  \nButler        34.896091  \nChester        0.422079  \nForest        21.100520  \nFranklin      38.473297  \nMontgomery    14.350390  \nWestmoreland  23.738508  "
          },
          "metadata": {}
        }
      ]
    },
    {
      "metadata": {},
      "cell_type": "markdown",
      "source": "## Filtering columns using other columns\n    The election results DataFrame has a column labeled 'margin' which expresses the number of extra voters the winner received over the losing candidate. This number is given as a percentage of the total votes cast. It is reasonable to assume that in counties where this margin was less than 1%, the results would be too-close-to-call.\n    Your job is to use boolean selection to filter the rows where the margin was less than 1. You will then convert these rows of the 'winner' column to np.nan to indicate that these results are too close to declare a winner.\n    \n    Instructions:\n    * Import numpy as mp.\n    * Create a boolean array for the condition where the 'margin' colum is less than 1 and assign to too_close.\n    * Convert the entries in the 'winner' column where the result was too close to call to np.nan.\n    * Print the output of election.info(). "
    },
    {
      "metadata": {
        "trusted": true
      },
      "cell_type": "code",
      "source": "# Import numpy \nimport numpy as np",
      "execution_count": 23,
      "outputs": []
    },
    {
      "metadata": {
        "trusted": true
      },
      "cell_type": "code",
      "source": "# Create the boolean array: too_close\ntoo_close = election['margin']<1\n\n# Assign np.nan to the 'winner' column where the results were too close to call\nelection.loc[too_close, 'winner'] = np.nan\n\n# Print the output of election.info()\nelection.info()",
      "execution_count": 24,
      "outputs": [
        {
          "output_type": "stream",
          "text": "<class 'pandas.core.frame.DataFrame'>\nIndex: 67 entries, Adams to York\nData columns (total 8 columns):\nstate      67 non-null object\ntotal      67 non-null int64\nObama      67 non-null float64\nRomney     67 non-null float64\nwinner     64 non-null object\nvoters     67 non-null int64\nturnout    67 non-null float64\nmargin     67 non-null float64\ndtypes: float64(4), int64(2), object(2)\nmemory usage: 7.2+ KB\n",
          "name": "stdout"
        }
      ]
    },
    {
      "metadata": {},
      "cell_type": "markdown",
      "source": "## Filtering using NaNs\n    In certain scenarios, it may be necessary to remove rows and columns with missing data from a DataFrame. The .dropna() is used to perform this action. You will now practice using this method on a dataset obtained from Vanderbilt University, which consists of data from passengers on the Titanic.\n    \n    Expore the DataFrame in the IPython Shell and you will note that there are many NaNs. You will focus specifically on the 'age' and 'cabin' columns in this exercise. Your job is to use .dropna() to remove rows where any of these two columns contains missing data and rows where all of these two columns contain missing data.\n    \n    You will use the .shape attribute, which returns the number of rows and columns in a tuple from a DataFrame, or the number of rows from a Series, to see the effect of dropping missing values from a DataFrame.\n    \n    Finally, you will use the thres= Keyword argument to drop columns from the full dataset that have less than 1000 non-missing values.\n    \n    Instructions:\n    * Select the 'age' and 'cabin' columns of titanic and create a new DataFrame df.\n    * Print the shade of df.\n    * Drop rows in df with how = 'any' and print the shape.\n    * Drop rows in df with how = 'all' and print the shape.\n    * Drop columns from the titanic Dataframe that have less than 1000 non-missing values by specifying the thresh and axis keyword arguments. Print the output of .info() from this."
    },
    {
      "metadata": {
        "trusted": true
      },
      "cell_type": "code",
      "source": "titanic_url = 'https://assets.datacamp.com/production/repositories/502/datasets/e280ed94bf4539afb57d8b1cbcc14bcf660d3c63/titanic.csv'\n\ntitanic = pd.read_csv(titanic_url)",
      "execution_count": 25,
      "outputs": []
    },
    {
      "metadata": {
        "trusted": true
      },
      "cell_type": "code",
      "source": "# Select the 'age' and 'cabin' columns: df\ndf = titanic[['age', 'cabin']]\n\n# Print the shape of df\ndf.shape",
      "execution_count": 27,
      "outputs": [
        {
          "output_type": "execute_result",
          "execution_count": 27,
          "data": {
            "text/plain": "(1309, 2)"
          },
          "metadata": {}
        }
      ]
    },
    {
      "metadata": {
        "trusted": true
      },
      "cell_type": "code",
      "source": "# Drop rows in df with how='any' and print the shape\ndf.dropna(how = 'any').shape",
      "execution_count": 28,
      "outputs": [
        {
          "output_type": "execute_result",
          "execution_count": 28,
          "data": {
            "text/plain": "(272, 2)"
          },
          "metadata": {}
        }
      ]
    },
    {
      "metadata": {
        "trusted": true
      },
      "cell_type": "code",
      "source": "# Drop rows in df with how = 'all' and print the shape\ndf.dropna(how = 'all').shape",
      "execution_count": 29,
      "outputs": [
        {
          "output_type": "execute_result",
          "execution_count": 29,
          "data": {
            "text/plain": "(1069, 2)"
          },
          "metadata": {}
        }
      ]
    },
    {
      "metadata": {
        "trusted": true
      },
      "cell_type": "code",
      "source": "# Drop columns in titanic with less than 1000 non-missing values\ntitanic.dropna(thresh=1000, axis='columns').info()",
      "execution_count": 31,
      "outputs": [
        {
          "output_type": "stream",
          "text": "<class 'pandas.core.frame.DataFrame'>\nRangeIndex: 1309 entries, 0 to 1308\nData columns (total 10 columns):\npclass      1309 non-null int64\nsurvived    1309 non-null int64\nname        1309 non-null object\nsex         1309 non-null object\nage         1046 non-null float64\nsibsp       1309 non-null int64\nparch       1309 non-null int64\nticket      1309 non-null object\nfare        1308 non-null float64\nembarked    1307 non-null object\ndtypes: float64(2), int64(4), object(4)\nmemory usage: 102.3+ KB\n",
          "name": "stdout"
        }
      ]
    },
    {
      "metadata": {},
      "cell_type": "markdown",
      "source": "# 4. Transforming DataFrames"
    },
    {
      "metadata": {},
      "cell_type": "markdown",
      "source": "## 4.1 Using apply() to transform a column\n    The .apply() method can be used on a pandas DataFrame to apply an arbitrary Python function to every element. In this exercise you will take daily weather data in Pittsburgh in 2013 obtained from Weather Underground.\n    \n    A function to convert degrees Fahrenheit to degrees Celsius has been weitten for you. Your job is to use .apply() method to perform this conversion on the 'Mean TemperatureF' and 'Mean Dew PointF' columns of the weather DataFrame.\n    \n    \n    Instructions:\n    * Apply the to_celsius() function over the ['Mean TemperatureF', 'Mean Dew PointF'] columns of the weather DataFrame.\n    * Reassign the columns of df_celsius to ['Mean TemperatureC', 'Mean Dew PointC']"
    },
    {
      "metadata": {
        "trusted": true
      },
      "cell_type": "code",
      "source": "weather_url = 'https://assets.datacamp.com/production/repositories/502/datasets/6c4984cb81ea50971c1660434cc4535a6669a848/pittsburgh2013.csv'\n\nweather = pd.read_csv(weather_url)",
      "execution_count": 32,
      "outputs": []
    },
    {
      "metadata": {
        "trusted": true
      },
      "cell_type": "code",
      "source": "# Write a function  to convert degrees Fahrenheit to degrees Celsius: to_celsius\ndef to_celsius(F):\n    return 5/9*(F -32)",
      "execution_count": 33,
      "outputs": []
    },
    {
      "metadata": {
        "trusted": true
      },
      "cell_type": "code",
      "source": "# Apply the function over 'Mean TemperatureF' and 'Mean Dew PointF': df_celsius\ndf_celsius = weather[['Mean TemperatureF', 'Mean Dew PointF']]\n\n# Print the output of df_celsius.head()\ndf_celsius.head()",
      "execution_count": 34,
      "outputs": [
        {
          "output_type": "execute_result",
          "execution_count": 34,
          "data": {
            "text/html": "<div>\n<style scoped>\n    .dataframe tbody tr th:only-of-type {\n        vertical-align: middle;\n    }\n\n    .dataframe tbody tr th {\n        vertical-align: top;\n    }\n\n    .dataframe thead th {\n        text-align: right;\n    }\n</style>\n<table border=\"1\" class=\"dataframe\">\n  <thead>\n    <tr style=\"text-align: right;\">\n      <th></th>\n      <th>Mean TemperatureF</th>\n      <th>Mean Dew PointF</th>\n    </tr>\n  </thead>\n  <tbody>\n    <tr>\n      <th>0</th>\n      <td>28</td>\n      <td>27</td>\n    </tr>\n    <tr>\n      <th>1</th>\n      <td>21</td>\n      <td>12</td>\n    </tr>\n    <tr>\n      <th>2</th>\n      <td>24</td>\n      <td>15</td>\n    </tr>\n    <tr>\n      <th>3</th>\n      <td>28</td>\n      <td>19</td>\n    </tr>\n    <tr>\n      <th>4</th>\n      <td>30</td>\n      <td>20</td>\n    </tr>\n  </tbody>\n</table>\n</div>",
            "text/plain": "   Mean TemperatureF  Mean Dew PointF\n0                 28               27\n1                 21               12\n2                 24               15\n3                 28               19\n4                 30               20"
          },
          "metadata": {}
        }
      ]
    },
    {
      "metadata": {
        "trusted": true
      },
      "cell_type": "code",
      "source": "# Apply the function over 'Mean TemperatureF' and 'Mean Dew PointF': df_celsius\ndf_celsius = weather[['Mean TemperatureF', 'Mean Dew PointF']].apply(to_celsius)\n\n# Reassign the columns df_celsius\ndf_celsius.columns = ['Mean TemperatureC', 'Mean Dew PointC']\n\n# Print the output of df_celsius.head()\ndf_celsius.head()",
      "execution_count": 35,
      "outputs": [
        {
          "output_type": "execute_result",
          "execution_count": 35,
          "data": {
            "text/html": "<div>\n<style scoped>\n    .dataframe tbody tr th:only-of-type {\n        vertical-align: middle;\n    }\n\n    .dataframe tbody tr th {\n        vertical-align: top;\n    }\n\n    .dataframe thead th {\n        text-align: right;\n    }\n</style>\n<table border=\"1\" class=\"dataframe\">\n  <thead>\n    <tr style=\"text-align: right;\">\n      <th></th>\n      <th>Mean TemperatureC</th>\n      <th>Mean Dew PointC</th>\n    </tr>\n  </thead>\n  <tbody>\n    <tr>\n      <th>0</th>\n      <td>-2.222222</td>\n      <td>-2.777778</td>\n    </tr>\n    <tr>\n      <th>1</th>\n      <td>-6.111111</td>\n      <td>-11.111111</td>\n    </tr>\n    <tr>\n      <th>2</th>\n      <td>-4.444444</td>\n      <td>-9.444444</td>\n    </tr>\n    <tr>\n      <th>3</th>\n      <td>-2.222222</td>\n      <td>-7.222222</td>\n    </tr>\n    <tr>\n      <th>4</th>\n      <td>-1.111111</td>\n      <td>-6.666667</td>\n    </tr>\n  </tbody>\n</table>\n</div>",
            "text/plain": "   Mean TemperatureC  Mean Dew PointC\n0          -2.222222        -2.777778\n1          -6.111111       -11.111111\n2          -4.444444        -9.444444\n3          -2.222222        -7.222222\n4          -1.111111        -6.666667"
          },
          "metadata": {}
        }
      ]
    },
    {
      "metadata": {},
      "cell_type": "markdown",
      "source": "## 4.2 Using .map() with a dictionary\n    The .map() method is used to transform values according to a Python dictionary look-up. In this exercise you will practice this method while returning to working with the election DataFrame.\n    \n    Your job is to use a dictionary to map the values 'Obama' and 'Romney' in the 'winner' column to the values 'blue' and 'red', and assign the output to the new column 'color'.\n    \n    Instructions:\n    * Create a dictionary with key:value pairs 'Obama':'blue' and 'Romney':'red'.\n    * Use the .map() method on the 'winner' column using the red_vs_blue dictionary you created.\n    * Print the output of election.head()\n   "
    },
    {
      "metadata": {
        "trusted": true
      },
      "cell_type": "code",
      "source": "# Create the dictionary: red_vs_blue\nred_vs_blue = {'Obama':'blue', 'Romney':'red'}\n\n#Use the dictionary to map the 'winner' column to the new column: election['color']\nelection['color'] = election['winner'].map(red_vs_blue)",
      "execution_count": 37,
      "outputs": []
    },
    {
      "metadata": {
        "trusted": true
      },
      "cell_type": "code",
      "source": "# Print the output of election.head()\nelection.head()",
      "execution_count": 38,
      "outputs": [
        {
          "output_type": "execute_result",
          "execution_count": 38,
          "data": {
            "text/html": "<div>\n<style scoped>\n    .dataframe tbody tr th:only-of-type {\n        vertical-align: middle;\n    }\n\n    .dataframe tbody tr th {\n        vertical-align: top;\n    }\n\n    .dataframe thead th {\n        text-align: right;\n    }\n</style>\n<table border=\"1\" class=\"dataframe\">\n  <thead>\n    <tr style=\"text-align: right;\">\n      <th></th>\n      <th>state</th>\n      <th>total</th>\n      <th>Obama</th>\n      <th>Romney</th>\n      <th>winner</th>\n      <th>voters</th>\n      <th>turnout</th>\n      <th>margin</th>\n      <th>color</th>\n    </tr>\n    <tr>\n      <th>county</th>\n      <th></th>\n      <th></th>\n      <th></th>\n      <th></th>\n      <th></th>\n      <th></th>\n      <th></th>\n      <th></th>\n      <th></th>\n    </tr>\n  </thead>\n  <tbody>\n    <tr>\n      <th>Adams</th>\n      <td>PA</td>\n      <td>41973</td>\n      <td>35.482334</td>\n      <td>63.112001</td>\n      <td>Romney</td>\n      <td>61156</td>\n      <td>68.632677</td>\n      <td>27.629667</td>\n      <td>red</td>\n    </tr>\n    <tr>\n      <th>Allegheny</th>\n      <td>PA</td>\n      <td>614671</td>\n      <td>56.640219</td>\n      <td>42.185820</td>\n      <td>Obama</td>\n      <td>924351</td>\n      <td>66.497575</td>\n      <td>14.454399</td>\n      <td>blue</td>\n    </tr>\n    <tr>\n      <th>Armstrong</th>\n      <td>PA</td>\n      <td>28322</td>\n      <td>30.696985</td>\n      <td>67.901278</td>\n      <td>Romney</td>\n      <td>42147</td>\n      <td>67.198140</td>\n      <td>37.204293</td>\n      <td>red</td>\n    </tr>\n    <tr>\n      <th>Beaver</th>\n      <td>PA</td>\n      <td>80015</td>\n      <td>46.032619</td>\n      <td>52.637630</td>\n      <td>Romney</td>\n      <td>115157</td>\n      <td>69.483401</td>\n      <td>6.605012</td>\n      <td>red</td>\n    </tr>\n    <tr>\n      <th>Bedford</th>\n      <td>PA</td>\n      <td>21444</td>\n      <td>22.057452</td>\n      <td>76.986570</td>\n      <td>Romney</td>\n      <td>32189</td>\n      <td>66.619031</td>\n      <td>54.929118</td>\n      <td>red</td>\n    </tr>\n  </tbody>\n</table>\n</div>",
            "text/plain": "          state   total      Obama     Romney  winner  voters    turnout  \\\ncounty                                                                     \nAdams        PA   41973  35.482334  63.112001  Romney   61156  68.632677   \nAllegheny    PA  614671  56.640219  42.185820   Obama  924351  66.497575   \nArmstrong    PA   28322  30.696985  67.901278  Romney   42147  67.198140   \nBeaver       PA   80015  46.032619  52.637630  Romney  115157  69.483401   \nBedford      PA   21444  22.057452  76.986570  Romney   32189  66.619031   \n\n              margin color  \ncounty                      \nAdams      27.629667   red  \nAllegheny  14.454399  blue  \nArmstrong  37.204293   red  \nBeaver      6.605012   red  \nBedford    54.929118   red  "
          },
          "metadata": {}
        }
      ]
    },
    {
      "metadata": {},
      "cell_type": "markdown",
      "source": "## 4.3 Using vectorized functions\n    \n    When performance is paramount, you should avoid using .apply() and .map() because those constructs perform Python for-loops over the data stored in a pandas Series or DataFrame. By using vectorized functions instead, you can loop over the data at the same speed as compiled code (C, Fortran, etc.)! NumPy, SciPy and pandas come with a variety of vectorized functions (called Universal Functions or UFuncs in NumPy).\n    You can even write your own vectorized functions, but for now we will focus on the ones distributed by NumPy and pandas.\n    In this exercise you're going to import the zscore function from scipy.stats and use it to compute the deviation in voter turnout in Pennsylvania from the mean in fractions of the standard deviation. In statistics, the z-score is the number of standard deviations by which an observation is above the mean - so if it is negative, it means the observation is below the mean.\n    Instead of using .apply() as you did in the earlier exercises, the zscore UFunc will take a pandas Series as input and return a NumPy array. You will then assign the values of the NumPy array to a new column in the DataFrame. You will be working with the election DataFrame - it has been pre-loaded for you.\n\n    Instructions:\n        * Import zscore from scipy.stats.\n        * Call zscore with election['turnout'] as input .\n        * Print the output of type(turnout_zscore). This has been done for you.\n        * Assign turnout_zscore to a new column in election as 'turnout_zscore'.\n        * Print the output of election.head()."
    },
    {
      "metadata": {
        "trusted": true
      },
      "cell_type": "code",
      "source": "# Import zscore from scipy.stats\nfrom scipy.stats import zscore\n\n# Call zscore with election['turnout'] as input: turnout_zscore\nturnout_zscore = zscore(election['turnout'])\n\n# Print the type of turnout_zscore\ntype(turnout_zscore)",
      "execution_count": 39,
      "outputs": [
        {
          "output_type": "execute_result",
          "execution_count": 39,
          "data": {
            "text/plain": "numpy.ndarray"
          },
          "metadata": {}
        }
      ]
    },
    {
      "metadata": {
        "trusted": true
      },
      "cell_type": "code",
      "source": "# Assign turnout_zscore to a new column: election['turnout_zscore']\nelection['turnout_zscore'] = turnout_zscore\n\n# Print the output of election.head()\nelection.head()",
      "execution_count": 40,
      "outputs": [
        {
          "output_type": "execute_result",
          "execution_count": 40,
          "data": {
            "text/html": "<div>\n<style scoped>\n    .dataframe tbody tr th:only-of-type {\n        vertical-align: middle;\n    }\n\n    .dataframe tbody tr th {\n        vertical-align: top;\n    }\n\n    .dataframe thead th {\n        text-align: right;\n    }\n</style>\n<table border=\"1\" class=\"dataframe\">\n  <thead>\n    <tr style=\"text-align: right;\">\n      <th></th>\n      <th>state</th>\n      <th>total</th>\n      <th>Obama</th>\n      <th>Romney</th>\n      <th>winner</th>\n      <th>voters</th>\n      <th>turnout</th>\n      <th>margin</th>\n      <th>color</th>\n      <th>turnout_zscore</th>\n    </tr>\n    <tr>\n      <th>county</th>\n      <th></th>\n      <th></th>\n      <th></th>\n      <th></th>\n      <th></th>\n      <th></th>\n      <th></th>\n      <th></th>\n      <th></th>\n      <th></th>\n    </tr>\n  </thead>\n  <tbody>\n    <tr>\n      <th>Adams</th>\n      <td>PA</td>\n      <td>41973</td>\n      <td>35.482334</td>\n      <td>63.112001</td>\n      <td>Romney</td>\n      <td>61156</td>\n      <td>68.632677</td>\n      <td>27.629667</td>\n      <td>red</td>\n      <td>0.853734</td>\n    </tr>\n    <tr>\n      <th>Allegheny</th>\n      <td>PA</td>\n      <td>614671</td>\n      <td>56.640219</td>\n      <td>42.185820</td>\n      <td>Obama</td>\n      <td>924351</td>\n      <td>66.497575</td>\n      <td>14.454399</td>\n      <td>blue</td>\n      <td>0.439846</td>\n    </tr>\n    <tr>\n      <th>Armstrong</th>\n      <td>PA</td>\n      <td>28322</td>\n      <td>30.696985</td>\n      <td>67.901278</td>\n      <td>Romney</td>\n      <td>42147</td>\n      <td>67.198140</td>\n      <td>37.204293</td>\n      <td>red</td>\n      <td>0.575650</td>\n    </tr>\n    <tr>\n      <th>Beaver</th>\n      <td>PA</td>\n      <td>80015</td>\n      <td>46.032619</td>\n      <td>52.637630</td>\n      <td>Romney</td>\n      <td>115157</td>\n      <td>69.483401</td>\n      <td>6.605012</td>\n      <td>red</td>\n      <td>1.018647</td>\n    </tr>\n    <tr>\n      <th>Bedford</th>\n      <td>PA</td>\n      <td>21444</td>\n      <td>22.057452</td>\n      <td>76.986570</td>\n      <td>Romney</td>\n      <td>32189</td>\n      <td>66.619031</td>\n      <td>54.929118</td>\n      <td>red</td>\n      <td>0.463391</td>\n    </tr>\n  </tbody>\n</table>\n</div>",
            "text/plain": "          state   total      Obama     Romney  winner  voters    turnout  \\\ncounty                                                                     \nAdams        PA   41973  35.482334  63.112001  Romney   61156  68.632677   \nAllegheny    PA  614671  56.640219  42.185820   Obama  924351  66.497575   \nArmstrong    PA   28322  30.696985  67.901278  Romney   42147  67.198140   \nBeaver       PA   80015  46.032619  52.637630  Romney  115157  69.483401   \nBedford      PA   21444  22.057452  76.986570  Romney   32189  66.619031   \n\n              margin color  turnout_zscore  \ncounty                                      \nAdams      27.629667   red        0.853734  \nAllegheny  14.454399  blue        0.439846  \nArmstrong  37.204293   red        0.575650  \nBeaver      6.605012   red        1.018647  \nBedford    54.929118   red        0.463391  "
          },
          "metadata": {}
        }
      ]
    },
    {
      "metadata": {
        "trusted": true
      },
      "cell_type": "code",
      "source": "",
      "execution_count": null,
      "outputs": []
    }
  ],
  "metadata": {
    "kernelspec": {
      "name": "python36",
      "display_name": "Python 3.6",
      "language": "python"
    },
    "language_info": {
      "mimetype": "text/x-python",
      "nbconvert_exporter": "python",
      "name": "python",
      "pygments_lexer": "ipython3",
      "version": "3.6.6",
      "file_extension": ".py",
      "codemirror_mode": {
        "version": 3,
        "name": "ipython"
      }
    }
  },
  "nbformat": 4,
  "nbformat_minor": 2
}