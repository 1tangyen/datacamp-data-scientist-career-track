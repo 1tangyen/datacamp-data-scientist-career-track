{
  "nbformat": 4,
  "nbformat_minor": 0,
  "metadata": {
    "colab": {
      "name": "Statistical Thinking in Python (Part 2).ipynb",
      "provenance": [],
      "authorship_tag": "ABX9TyO7rc9tyqighGtdyzqhYEHo"
    },
    "kernelspec": {
      "name": "python3",
      "display_name": "Python 3"
    }
  },
  "cells": [
    {
      "cell_type": "markdown",
      "metadata": {
        "id": "01Sg2_xBrdi5"
      },
      "source": [
        "# **Chapter 1: Parameter estimation by optimization**"
      ]
    },
    {
      "cell_type": "code",
      "metadata": {
        "id": "5KMlxfnIrAtV"
      },
      "source": [
        "import numpy as np\n",
        "import pandas as pd\n",
        "import matplotlib.pyplot as plt"
      ],
      "execution_count": 1,
      "outputs": []
    },
    {
      "cell_type": "code",
      "metadata": {
        "id": "SU-Z88TMrjro"
      },
      "source": [
        "nohitter_times = np.array([ 843, 1613, 1101,  215,  684,  814,  278,  324,  161,  219,  545,\n",
        " 715,  966,  624,   29,  450,  107,   20,   91, 1325,  124, 1468,\n",
        " 104, 1309,  429,   62, 1878, 1104,  123,  251,   93,  188,  983,\n",
        " 166,   96,  702,   23,  524,   26,  299,   59,   39,   12,    2,\n",
        " 308, 1114,  813,  887,  645, 2088,   42, 2090,   11,  886, 1665,\n",
        " 1084, 2900, 2432,  750, 4021, 1070, 1765, 1322,   26,  548, 1525,\n",
        "  77, 2181, 2752,  127, 2147,  211,   41, 1575,  151,  479,  697,\n",
        " 557, 2267,  542,  392,   73,  603,  233,  255,  528,  397, 1529,\n",
        " 1023, 1194,  462,  583,   37,  943,  996,  480, 1497,  717,  224,\n",
        " 219, 1531,  498,   44,  288,  267,  600,   52,  269, 1086,  386,\n",
        " 176, 2199,  216,   54,  675, 1243,  463,  650,  171,  327,  110,\n",
        " 774,  509,    8,  197,  136,   12, 1124,   64,  380,  811,  232,\n",
        " 192,  731,  715,  226,  605,  539, 1491,  323,  240,  179,  702,\n",
        " 156,   82, 1397,  354,  778,  603, 1001,  385,  986,  203,  149,\n",
        " 576,  445,  180, 1403,  252,  675, 1351, 2983, 1568,   45,  899,\n",
        " 3260, 1025,   31,  100, 2055, 4043,   79,  238, 3931, 2351,  595,\n",
        " 110,  215,    0,  563,  206,  660,  242,  577,  179,  157,  192,\n",
        " 192, 1848,  792, 1693,   55,  388,  225, 1134, 1172, 1555,   31,\n",
        " 1582, 1044,  378, 1687, 2915,  280,  765, 2819,  511, 1521,  745,\n",
        " 2491,  580, 2072, 6450,  578,  745, 1075, 1103, 1549, 1520,  138,\n",
        " 1202,  296,  277,  351,  391,  950,  459,   62, 1056, 1128,  139,\n",
        " 420,   87,   71,  814,  603, 1349,  162, 1027,  783,  326,  101,\n",
        "876,  381,  905,  156,  419,  239,  119,  129,  467])"
      ],
      "execution_count": 3,
      "outputs": []
    },
    {
      "cell_type": "markdown",
      "metadata": {
        "id": "YLgFmWIVr8nl"
      },
      "source": [
        "## How often do we get no-hitters?"
      ]
    },
    {
      "cell_type": "code",
      "metadata": {
        "id": "Nh2J25BErvMd",
        "outputId": "8e156494-f832-47e6-b8b2-cc7e464d5de8",
        "colab": {
          "base_uri": "https://localhost:8080/",
          "height": 485
        }
      },
      "source": [
        "plt.style.available"
      ],
      "execution_count": 4,
      "outputs": [
        {
          "output_type": "execute_result",
          "data": {
            "text/plain": [
              "['Solarize_Light2',\n",
              " '_classic_test_patch',\n",
              " 'bmh',\n",
              " 'classic',\n",
              " 'dark_background',\n",
              " 'fast',\n",
              " 'fivethirtyeight',\n",
              " 'ggplot',\n",
              " 'grayscale',\n",
              " 'seaborn',\n",
              " 'seaborn-bright',\n",
              " 'seaborn-colorblind',\n",
              " 'seaborn-dark',\n",
              " 'seaborn-dark-palette',\n",
              " 'seaborn-darkgrid',\n",
              " 'seaborn-deep',\n",
              " 'seaborn-muted',\n",
              " 'seaborn-notebook',\n",
              " 'seaborn-paper',\n",
              " 'seaborn-pastel',\n",
              " 'seaborn-poster',\n",
              " 'seaborn-talk',\n",
              " 'seaborn-ticks',\n",
              " 'seaborn-white',\n",
              " 'seaborn-whitegrid',\n",
              " 'tableau-colorblind10']"
            ]
          },
          "metadata": {
            "tags": []
          },
          "execution_count": 4
        }
      ]
    },
    {
      "cell_type": "code",
      "metadata": {
        "id": "v3SzQFhWr4FJ"
      },
      "source": [
        "plt.style.use('seaborn-darkgrid')"
      ],
      "execution_count": 5,
      "outputs": []
    },
    {
      "cell_type": "code",
      "metadata": {
        "id": "134LUv1er4ON",
        "outputId": "d8e2fc69-d9f2-476a-f5f7-e8690b739981",
        "colab": {
          "base_uri": "https://localhost:8080/",
          "height": 276
        }
      },
      "source": [
        "np.random.seed(42)\n",
        "\n",
        "tau = np.mean(nohitter_times)\n",
        "\n",
        "inter_nohitter_time = np.random.exponential(tau, 100000)\n",
        "\n",
        "plt.hist(inter_nohitter_time, bins=50, density=True, histtype='step')\n",
        "plt.xlabel('Games between no-hitters')\n",
        "plt.ylabel('PDF')\n",
        "plt.show()"
      ],
      "execution_count": 6,
      "outputs": [
        {
          "output_type": "display_data",
          "data": {
            "image/png": "[encoded data removed]",
            "text/plain": [
              "<Figure size 432x288 with 1 Axes>"
            ]
          },
          "metadata": {
            "tags": []
          }
        }
      ]
    },
    {
      "cell_type": "markdown",
      "metadata": {
        "id": "xZt364RutI4M"
      },
      "source": [
        "## Do the data follow our story?"
      ]
    },
    {
      "cell_type": "code",
      "metadata": {
        "id": "EFd7Y_vsr5Ps"
      },
      "source": [
        "def ecdf(data):\n",
        "    \"\"\"Computer ECDF for a one-dimentional array of measurements\"\"\"\n",
        "    n=len(data)\n",
        "    x=np.sort(data)\n",
        "    y=np.arange(1, 1+n)/n\n",
        "\n",
        "    return x, y"
      ],
      "execution_count": 8,
      "outputs": []
    },
    {
      "cell_type": "code",
      "metadata": {
        "id": "dL824IMpr5TV",
        "outputId": "1b3ad85b-b879-49ca-97d6-859d392f1f18",
        "colab": {
          "base_uri": "https://localhost:8080/",
          "height": 276
        }
      },
      "source": [
        "x, y = ecdf(nohitter_times)\n",
        "x_theor, y_theor = ecdf(inter_nohitter_time)\n",
        "\n",
        "plt.plot(x_theor, y_theor)\n",
        "plt.plot(x, y, marker='.', linestyle='none')\n",
        "\n",
        "plt.margins(0.02)\n",
        "plt.xlabel('Games between no-hitters')\n",
        "plt.ylabel('CDF')\n",
        "\n",
        "plt.show()"
      ],
      "execution_count": 9,
      "outputs": [
        {
          "output_type": "display_data",
          "data": {
            "image/png": "[encoded data removed]",
            "text/plain": [
              "<Figure size 432x288 with 1 Axes>"
            ]
          },
          "metadata": {
            "tags": []
          }
        }
      ]
    },
    {
      "cell_type": "markdown",
      "metadata": {
        "id": "Lvyn9pGJue9e"
      },
      "source": [
        "## How is this parameter optimal?"
      ]
    },
    {
      "cell_type": "code",
      "metadata": {
        "id": "N96UyBU-uI1k",
        "outputId": "834565ad-c541-4be4-dffe-3925ef045a9a",
        "colab": {
          "base_uri": "https://localhost:8080/",
          "height": 294
        }
      },
      "source": [
        "plt.plot(x_theor, y_theor)\n",
        "plt.plot(x, y, marker='.', linestyle='none')\n",
        "plt.margins(0.02)\n",
        "plt.xlabel('Games between no-hitters')\n",
        "plt.ylabel('CDF')\n",
        "\n",
        "samples_half = np.random.exponential(tau/2, 10000)\n",
        "samples_double = np.random.exponential(tau*2, 10000)\n",
        "\n",
        "x_half, y_half = ecdf(samples_half)\n",
        "x_double, y_double = ecdf(samples_double)\n",
        "\n",
        "plt.plot(x_half, y_half)\n",
        "plt.plot(x_double, y_double)"
      ],
      "execution_count": 10,
      "outputs": [
        {
          "output_type": "execute_result",
          "data": {
            "text/plain": [
              "[<matplotlib.lines.Line2D at 0x7f7d575e91d0>]"
            ]
          },
          "metadata": {
            "tags": []
          },
          "execution_count": 10
        },
        {
          "output_type": "display_data",
          "data": {
            "image/png": "[encoded data removed]",
            "text/plain": [
              "<Figure size 432x288 with 1 Axes>"
            ]
          },
          "metadata": {
            "tags": []
          }
        }
      ]
    },
    {
      "cell_type": "markdown",
      "metadata": {
        "id": "zxGMVLt8vWsr"
      },
      "source": [
        "## EDA of literacy/fertility data"
      ]
    },
    {
      "cell_type": "code",
      "metadata": {
        "id": "tBQWOoE0vU4g"
      },
      "source": [
        "female_literacy_fertility = 'https://assets.datacamp.com/production/repositories/470/datasets/f1e7f8a98c18da5c60b625cb8af04c3217f4a5c3/female_literacy_fertility.csv'\n",
        "\n",
        "df = pd.read_csv(female_literacy_fertility)"
      ],
      "execution_count": 11,
      "outputs": []
    },
    {
      "cell_type": "code",
      "metadata": {
        "id": "nt6FAKOQvuHr",
        "outputId": "0f5a7379-8d8a-4d6b-cf48-1a9da5c44bea",
        "colab": {
          "base_uri": "https://localhost:8080/",
          "height": 55
        }
      },
      "source": [
        "df.columns"
      ],
      "execution_count": 12,
      "outputs": [
        {
          "output_type": "execute_result",
          "data": {
            "text/plain": [
              "Index(['Country ', 'Continent', 'female literacy', 'fertility', 'population'], dtype='object')"
            ]
          },
          "metadata": {
            "tags": []
          },
          "execution_count": 12
        }
      ]
    },
    {
      "cell_type": "code",
      "metadata": {
        "id": "HwadXzzgvvvO"
      },
      "source": [
        "fertility = df['fertility'].values\n",
        "illiteracy = (100 - df['female literacy']).values"
      ],
      "execution_count": 13,
      "outputs": []
    },
    {
      "cell_type": "code",
      "metadata": {
        "id": "9EWgiJ2rv_sd"
      },
      "source": [
        "def pearson_r(x, y):\n",
        "  \"\"\"Computer Pearson correlation coefficient between two arrays.\"\"\"\n",
        "  corr_mat = np.corrcoef(x, y)\n",
        "  return corr_mat[0, 1]"
      ],
      "execution_count": 16,
      "outputs": []
    },
    {
      "cell_type": "code",
      "metadata": {
        "id": "9XlltDdbwb8S",
        "outputId": "d64d00c0-74bd-4d2e-a320-41678b36412f",
        "colab": {
          "base_uri": "https://localhost:8080/",
          "height": 403
        }
      },
      "source": [
        "plt.figure(figsize= (8,6))\n",
        "plt.plot(illiteracy, fertility, marker='.', linestyle='none')\n",
        "plt.margins(2)\n",
        "plt.xlabel('percent illiterate')\n",
        "plt.ylabel('fertility')\n",
        "\n",
        "print(pearson_r(illiteracy, fertility))"
      ],
      "execution_count": 17,
      "outputs": [
        {
          "output_type": "stream",
          "text": [
            "0.8041324026815344\n"
          ],
          "name": "stdout"
        },
        {
          "output_type": "display_data",
          "data": {
            "image/png": "[encoded data removed]",
            "text/plain": [
              "<Figure size 576x432 with 1 Axes>"
            ]
          },
          "metadata": {
            "tags": []
          }
        }
      ]
    },
    {
      "cell_type": "markdown",
      "metadata": {
        "id": "p-S16B-IxEna"
      },
      "source": [
        "## Linear regression"
      ]
    },
    {
      "cell_type": "code",
      "metadata": {
        "id": "dSVvScIow7rJ",
        "outputId": "01bc6762-3fee-4ecc-bef1-75cd897442ec",
        "colab": {
          "base_uri": "https://localhost:8080/",
          "height": 439
        }
      },
      "source": [
        "plt.figure(figsize = (8, 6))\n",
        "plt.plot(illiteracy, fertility, marker='.', linestyle='none')\n",
        "plt.margins(0.02)\n",
        "plt.xlabel('percent illiterate')\n",
        "plt.ylabel('fertility')\n",
        "\n",
        "a, b = np.polyfit(illiteracy, fertility, 1)\n",
        "\n",
        "print('slope = ', a, 'children per woman / percent illiterate')\n",
        "print('intercept = ', b, 'children per woman')\n",
        "\n",
        "x = np.array([0, 100])\n",
        "y = a * x + b\n",
        "\n",
        "plt.plot(x, y)"
      ],
      "execution_count": 20,
      "outputs": [
        {
          "output_type": "stream",
          "text": [
            "slope =  0.04979854809063423 children per woman / percent illiterate\n",
            "intercept =  1.888050610636557 children per woman\n"
          ],
          "name": "stdout"
        },
        {
          "output_type": "execute_result",
          "data": {
            "text/plain": [
              "[<matplotlib.lines.Line2D at 0x7f7d53f25c88>]"
            ]
          },
          "metadata": {
            "tags": []
          },
          "execution_count": 20
        },
        {
          "output_type": "display_data",
          "data": {
            "image/png": "[encoded data removed]",
            "text/plain": [
              "<Figure size 576x432 with 1 Axes>"
            ]
          },
          "metadata": {
            "tags": []
          }
        }
      ]
    },
    {
      "cell_type": "markdown",
      "metadata": {
        "id": "Q1g3oNJyzkKm"
      },
      "source": [
        "## How is it optimal?"
      ]
    },
    {
      "cell_type": "code",
      "metadata": {
        "id": "0lUCbbQRy4kI",
        "outputId": "513be13f-816c-4b0b-c426-ea08d55ff7f9",
        "colab": {
          "base_uri": "https://localhost:8080/",
          "height": 385
        }
      },
      "source": [
        "plt.figure(figsize = (8, 6))\n",
        "a_vals = np.linspace(0, 0.1, 200)\n",
        "\n",
        "rss = np.empty_like(a_vals)\n",
        "\n",
        "for i, a in enumerate(a_vals):\n",
        "  rss[i] = np.sum((fertility - a * illiteracy - b) ** 2)\n",
        "\n",
        "plt.plot(a_vals, rss, '-')\n",
        "plt.xlabel('slope (children per woman / percent illiterate)')\n",
        "plt.ylabel('sum of square of residuals')\n",
        "plt.show()"
      ],
      "execution_count": 22,
      "outputs": [
        {
          "output_type": "display_data",
          "data": {
            "image/png": "[encoded data removed]",
            "text/plain": [
              "<Figure size 576x432 with 1 Axes>"
            ]
          },
          "metadata": {
            "tags": []
          }
        }
      ]
    },
    {
      "cell_type": "markdown",
      "metadata": {
        "id": "2YgJYfuh1nt7"
      },
      "source": [
        "## Linear regression on appropriate Anscombe data"
      ]
    },
    {
      "cell_type": "code",
      "metadata": {
        "id": "Zd4-iydO0Q52"
      },
      "source": [
        "anscombe_url = 'https://assets.datacamp.com/production/repositories/470/datasets/fe820c6cbe9bcf4060eeb9e31dd86aa04264153a/anscombe.csv'\n",
        "anscombe = pd.read_csv(anscombe_url, skiprows = 1)"
      ],
      "execution_count": 25,
      "outputs": []
    },
    {
      "cell_type": "code",
      "metadata": {
        "id": "t9A4LzMK1zlk",
        "outputId": "1b8a9047-af45-4805-dac4-a1e43e68ca1c",
        "colab": {
          "base_uri": "https://localhost:8080/",
          "height": 35
        }
      },
      "source": [
        "len(anscombe)"
      ],
      "execution_count": 26,
      "outputs": [
        {
          "output_type": "execute_result",
          "data": {
            "text/plain": [
              "11"
            ]
          },
          "metadata": {
            "tags": []
          },
          "execution_count": 26
        }
      ]
    },
    {
      "cell_type": "code",
      "metadata": {
        "id": "1vd3kRmc1_D_"
      },
      "source": [
        "x = anscombe['x'].values\n",
        "y = anscombe['y'].values"
      ],
      "execution_count": 27,
      "outputs": []
    },
    {
      "cell_type": "code",
      "metadata": {
        "id": "ckYZzsIT2Pca",
        "outputId": "259f1a6c-5f99-4387-e745-8f7202cc7fa5",
        "colab": {
          "base_uri": "https://localhost:8080/",
          "height": 35
        }
      },
      "source": [
        "a, b = np.polyfit(x, y, deg =1)\n",
        "print(a, b)"
      ],
      "execution_count": 28,
      "outputs": [
        {
          "output_type": "stream",
          "text": [
            "0.5000909090909095 3.000090909090909\n"
          ],
          "name": "stdout"
        }
      ]
    },
    {
      "cell_type": "code",
      "metadata": {
        "id": "nzdOZXDL2UjR",
        "outputId": "226fe69b-4c8b-4d5d-aea6-242d8bdc82d5",
        "colab": {
          "base_uri": "https://localhost:8080/",
          "height": 385
        }
      },
      "source": [
        "x_theor = np.array([3, 15])\n",
        "y_theor = a * x_theor + b\n",
        "\n",
        "plt.figure(figsize = (8, 6))\n",
        "plt.plot(x, y, marker = '.', linestyle='none')\n",
        "plt.plot(x_theor, y_theor)\n",
        "\n",
        "plt.xlabel('x')\n",
        "plt.ylabel('y')\n",
        "plt.show()"
      ],
      "execution_count": 31,
      "outputs": [
        {
          "output_type": "display_data",
          "data": {
            "image/png": "[encoded data removed]",
            "text/plain": [
              "<Figure size 576x432 with 1 Axes>"
            ]
          },
          "metadata": {
            "tags": []
          }
        }
      ]
    },
    {
      "cell_type": "markdown",
      "metadata": {
        "id": "Av2Jj4nD240_"
      },
      "source": [
        "## Linear regression on all Anscombe data"
      ]
    },
    {
      "cell_type": "code",
      "metadata": {
        "id": "zCZ6F2VW2uLw"
      },
      "source": [
        "x1 = anscombe['x'].values\n",
        "x2 = anscombe['x.1'].values\n",
        "x3 = anscombe['x.2'].values\n",
        "x4 = anscombe['x.3'].values"
      ],
      "execution_count": 32,
      "outputs": []
    },
    {
      "cell_type": "code",
      "metadata": {
        "id": "Zq_8yn3e2_L3"
      },
      "source": [
        "y1 = anscombe['y'].values\n",
        "y2 = anscombe['y.1'].values\n",
        "y3 = anscombe['y.2'].values\n",
        "y4 = anscombe['y.3'].values"
      ],
      "execution_count": 33,
      "outputs": []
    },
    {
      "cell_type": "code",
      "metadata": {
        "id": "mc_2w_I43H5i"
      },
      "source": [
        "anscombe_x = [x1, x2, x3, x4]\n",
        "anscombe_y = [y1, y2, y3, y4]"
      ],
      "execution_count": 34,
      "outputs": []
    },
    {
      "cell_type": "code",
      "metadata": {
        "id": "S7ex3ayx3QcV",
        "outputId": "2102f25a-1d7d-4173-c650-c856c7649f23",
        "colab": {
          "base_uri": "https://localhost:8080/",
          "height": 89
        }
      },
      "source": [
        "for x, y in zip(anscombe_x, anscombe_y):\n",
        "  a, b = np.polyfit(x, y, deg=1)\n",
        "\n",
        "  print('slope:', a, 'intercept:', b)"
      ],
      "execution_count": 35,
      "outputs": [
        {
          "output_type": "stream",
          "text": [
            "slope: 0.5000909090909095 intercept: 3.000090909090909\n",
            "slope: 0.5000000000000004 intercept: 3.0009090909090896\n",
            "slope: 0.4997272727272731 intercept: 3.0024545454545453\n",
            "slope: 0.4999090909090908 intercept: 3.0017272727272735\n"
          ],
          "name": "stdout"
        }
      ]
    },
    {
      "cell_type": "code",
      "metadata": {
        "id": "iwDY2nO13hPA"
      },
      "source": [
        ""
      ],
      "execution_count": null,
      "outputs": []
    }
  ]
}