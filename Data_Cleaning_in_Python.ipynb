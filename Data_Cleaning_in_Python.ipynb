{
  "nbformat": 4,
  "nbformat_minor": 0,
  "metadata": {
    "colab": {
      "name": "Data Cleaning in Python.ipynb",
      "provenance": [],
      "authorship_tag": "ABX9TyMJpYejIULji2Tqjx+75QlI"
    },
    "kernelspec": {
      "name": "python3",
      "display_name": "Python 3"
    }
  },
  "cells": [
    {
      "cell_type": "markdown",
      "metadata": {
        "id": "JNZCZUoK577k",
        "colab_type": "text"
      },
      "source": [
        "# Loading Data"
      ]
    },
    {
      "cell_type": "code",
      "metadata": {
        "id": "A6-5Pd7rwK_e",
        "colab_type": "code",
        "colab": {}
      },
      "source": [
        "ride_sharing_new = 'https://assets.datacamp.com/production/repositories/5737/datasets/023d88638863562a427a87539e371d9f2a7190f3/ride_sharing_new.csv'\n",
        "\n",
        "airlines_url = 'https://assets.datacamp.com/production/repositories/5737/datasets/ba95dfa6d750e4bf2ddda2349cfe0af80ab765ff/airlines_final.csv'\n",
        "\n",
        "banking = 'https://assets.datacamp.com/production/repositories/5737/datasets/1dad1a5b295d27a02615c633449edd2c907fed5d/banking_dirty.csv'\n",
        "\n",
        "restaurants = 'https://assets.datacamp.com/production/repositories/5737/datasets/e993edc10bc1f1ae458a560a9c41617bc2e259ae/restaurants_L2.csv'\n",
        "\n",
        "restaurantsII = 'https://assets.datacamp.com/production/repositories/5737/datasets/e993edc10bc1f1ae458a560a9c41617bc2e259ae/restaurants_L2.csv'\n"
      ],
      "execution_count": 67,
      "outputs": []
    },
    {
      "cell_type": "markdown",
      "metadata": {
        "id": "e7yALwAV6oZW",
        "colab_type": "text"
      },
      "source": [
        "\n",
        "\n",
        "1.   Common Data Problems\n",
        "2.   Text categorial data problems\n",
        "3.   Advanced data problems\n",
        "4.   Record linkage\n",
        "\n"
      ]
    },
    {
      "cell_type": "markdown",
      "metadata": {
        "id": "Att6MmNw7Cxl",
        "colab_type": "text"
      },
      "source": [
        "# **Common data problems**\n",
        "# Data type constraints\n",
        "## Common data types"
      ]
    },
    {
      "cell_type": "code",
      "metadata": {
        "id": "_bGXkvSv6ZlJ",
        "colab_type": "code",
        "colab": {
          "base_uri": "https://localhost:8080/",
          "height": 341
        },
        "outputId": "626f582a-7e1a-4b7f-94f3-3036c6288969"
      },
      "source": [
        "import pandas as pd\n",
        "ride_sharing = pd.read_csv(ride_sharing_new)\n",
        "\n",
        "# Print the information of ride_sharing\n",
        "print(ride_sharing.info())"
      ],
      "execution_count": 25,
      "outputs": [
        {
          "output_type": "stream",
          "text": [
            "<class 'pandas.core.frame.DataFrame'>\n",
            "RangeIndex: 25760 entries, 0 to 25759\n",
            "Data columns (total 10 columns):\n",
            " #   Column           Non-Null Count  Dtype \n",
            "---  ------           --------------  ----- \n",
            " 0   Unnamed: 0       25760 non-null  int64 \n",
            " 1   duration         25760 non-null  object\n",
            " 2   station_A_id     25760 non-null  int64 \n",
            " 3   station_A_name   25760 non-null  object\n",
            " 4   station_B_id     25760 non-null  int64 \n",
            " 5   station_B_name   25760 non-null  object\n",
            " 6   bike_id          25760 non-null  int64 \n",
            " 7   user_type        25760 non-null  int64 \n",
            " 8   user_birth_year  25760 non-null  int64 \n",
            " 9   user_gender      25760 non-null  object\n",
            "dtypes: int64(6), object(4)\n",
            "memory usage: 2.0+ MB\n",
            "None\n"
          ],
          "name": "stdout"
        }
      ]
    },
    {
      "cell_type": "code",
      "metadata": {
        "id": "-25RQld17ciK",
        "colab_type": "code",
        "colab": {
          "base_uri": "https://localhost:8080/",
          "height": 179
        },
        "outputId": "3be2b6f6-7786-48b5-bf2a-6053166c88eb"
      },
      "source": [
        "#  Print summary statistics of user_type column\n",
        "print(ride_sharing['user_type'].describe())"
      ],
      "execution_count": 26,
      "outputs": [
        {
          "output_type": "stream",
          "text": [
            "count    25760.000000\n",
            "mean         2.008385\n",
            "std          0.704541\n",
            "min          1.000000\n",
            "25%          2.000000\n",
            "50%          2.000000\n",
            "75%          3.000000\n",
            "max          3.000000\n",
            "Name: user_type, dtype: float64\n"
          ],
          "name": "stdout"
        }
      ]
    },
    {
      "cell_type": "markdown",
      "metadata": {
        "id": "j1enxBEr76K_",
        "colab_type": "text"
      },
      "source": [
        "## Summing strings and concatenating numbers"
      ]
    },
    {
      "cell_type": "code",
      "metadata": {
        "id": "DXpLHhlg7zU1",
        "colab_type": "code",
        "colab": {}
      },
      "source": [
        "# Strip duration of minutes\n",
        "ride_sharing['duration_trim'] = ride_sharing['duration'].str.strip('minutes')"
      ],
      "execution_count": 27,
      "outputs": []
    },
    {
      "cell_type": "code",
      "metadata": {
        "id": "iOa7xH5t8Im4",
        "colab_type": "code",
        "colab": {}
      },
      "source": [
        "# Convert duration to integer\n",
        "ride_sharing['duration_time'] = ride_sharing['duration_trim'].astype('int')"
      ],
      "execution_count": 28,
      "outputs": []
    },
    {
      "cell_type": "code",
      "metadata": {
        "id": "oWZPC0-U8gEb",
        "colab_type": "code",
        "colab": {}
      },
      "source": [
        "# Write an assert statement making sure of conversion\n",
        "assert ride_sharing['duration_time'].dtype == 'int'"
      ],
      "execution_count": 29,
      "outputs": []
    },
    {
      "cell_type": "code",
      "metadata": {
        "id": "G32y31tS8sxb",
        "colab_type": "code",
        "colab": {
          "base_uri": "https://localhost:8080/",
          "height": 269
        },
        "outputId": "37a4959b-4995-42e8-9603-fa79d39f03b4"
      },
      "source": [
        "# Print formed columns and calculate average ride duration\n",
        "print(ride_sharing[['duration', 'duration_trim', 'duration_time']])"
      ],
      "execution_count": 30,
      "outputs": [
        {
          "output_type": "stream",
          "text": [
            "         duration duration_trim  duration_time\n",
            "0      12 minutes           12              12\n",
            "1      24 minutes           24              24\n",
            "2       8 minutes            8               8\n",
            "3       4 minutes            4               4\n",
            "4      11 minutes           11              11\n",
            "...           ...           ...            ...\n",
            "25755  11 minutes           11              11\n",
            "25756  10 minutes           10              10\n",
            "25757  14 minutes           14              14\n",
            "25758  14 minutes           14              14\n",
            "25759  29 minutes           29              29\n",
            "\n",
            "[25760 rows x 3 columns]\n"
          ],
          "name": "stdout"
        }
      ]
    },
    {
      "cell_type": "code",
      "metadata": {
        "id": "tBgUSKBt8_Vz",
        "colab_type": "code",
        "colab": {
          "base_uri": "https://localhost:8080/",
          "height": 35
        },
        "outputId": "d309263d-d4fb-49a1-b838-6116528a026b"
      },
      "source": [
        "print(ride_sharing['duration_time'].mean())"
      ],
      "execution_count": 31,
      "outputs": [
        {
          "output_type": "stream",
          "text": [
            "11.389052795031056\n"
          ],
          "name": "stdout"
        }
      ]
    },
    {
      "cell_type": "markdown",
      "metadata": {
        "id": "nHtbG1z59MJ_",
        "colab_type": "text"
      },
      "source": [
        "#Data range constraints\n",
        "## Tire size constraints"
      ]
    },
    {
      "cell_type": "code",
      "metadata": {
        "id": "BECKWh499qET",
        "colab_type": "code",
        "colab": {}
      },
      "source": [
        "import numpy as np\n",
        "np.random.seed(42)\n",
        "sz = len(ride_sharing['duration_time'])\n",
        "ride_sharing['tire_sizes']  = np.random.choice(\n",
        "    a=[26, 27, 29],  \n",
        "    size=sz,  \n",
        "    p=[0.5, 0.3, 0.2]  \n",
        " )"
      ],
      "execution_count": 32,
      "outputs": []
    },
    {
      "cell_type": "code",
      "metadata": {
        "id": "7_Hp9TO7-tzx",
        "colab_type": "code",
        "colab": {}
      },
      "source": [
        "# Convert tire_sizes to integer\n",
        "ride_sharing['tire_sizes'] = ride_sharing['tire_sizes'].astype('int')"
      ],
      "execution_count": 33,
      "outputs": []
    },
    {
      "cell_type": "code",
      "metadata": {
        "id": "XLz5m3T-_fO1",
        "colab_type": "code",
        "colab": {}
      },
      "source": [
        "# Set all values above 27 tp 27\n",
        "ride_sharing.loc[ride_sharing['tire_sizes'] > 27, 'tire_sizes'] = 27"
      ],
      "execution_count": 34,
      "outputs": []
    },
    {
      "cell_type": "code",
      "metadata": {
        "id": "lDgQ-ZnlAMED",
        "colab_type": "code",
        "colab": {}
      },
      "source": [
        "# Recovert tire_sizes back to categorical\n",
        "ride_sharing['tire_sizes'] = ride_sharing['tire_sizes'].astype('category')"
      ],
      "execution_count": 35,
      "outputs": []
    },
    {
      "cell_type": "code",
      "metadata": {
        "id": "yhFqvj1vAZN_",
        "colab_type": "code",
        "colab": {
          "base_uri": "https://localhost:8080/",
          "height": 107
        },
        "outputId": "f3853d9f-f87e-4c09-bc1e-c2817b956048"
      },
      "source": [
        "print(ride_sharing['tire_sizes'].describe())"
      ],
      "execution_count": 36,
      "outputs": [
        {
          "output_type": "stream",
          "text": [
            "count     25760\n",
            "unique        2\n",
            "top          27\n",
            "freq      12936\n",
            "Name: tire_sizes, dtype: int64\n"
          ],
          "name": "stdout"
        }
      ]
    },
    {
      "cell_type": "markdown",
      "metadata": {
        "id": "b0NbnsSOBdAm",
        "colab_type": "text"
      },
      "source": [
        "## Back to the future"
      ]
    },
    {
      "cell_type": "code",
      "metadata": {
        "id": "WcNGB0qdCLlj",
        "colab_type": "code",
        "colab": {
          "base_uri": "https://localhost:8080/",
          "height": 377
        },
        "outputId": "3df71828-8d48-4715-d51f-07134ab03bfb"
      },
      "source": [
        "ride_sharing.info()"
      ],
      "execution_count": 37,
      "outputs": [
        {
          "output_type": "stream",
          "text": [
            "<class 'pandas.core.frame.DataFrame'>\n",
            "RangeIndex: 25760 entries, 0 to 25759\n",
            "Data columns (total 13 columns):\n",
            " #   Column           Non-Null Count  Dtype   \n",
            "---  ------           --------------  -----   \n",
            " 0   Unnamed: 0       25760 non-null  int64   \n",
            " 1   duration         25760 non-null  object  \n",
            " 2   station_A_id     25760 non-null  int64   \n",
            " 3   station_A_name   25760 non-null  object  \n",
            " 4   station_B_id     25760 non-null  int64   \n",
            " 5   station_B_name   25760 non-null  object  \n",
            " 6   bike_id          25760 non-null  int64   \n",
            " 7   user_type        25760 non-null  int64   \n",
            " 8   user_birth_year  25760 non-null  int64   \n",
            " 9   user_gender      25760 non-null  object  \n",
            " 10  duration_trim    25760 non-null  object  \n",
            " 11  duration_time    25760 non-null  int64   \n",
            " 12  tire_sizes       25760 non-null  category\n",
            "dtypes: category(1), int64(7), object(5)\n",
            "memory usage: 2.4+ MB\n"
          ],
          "name": "stdout"
        }
      ]
    },
    {
      "cell_type": "code",
      "metadata": {
        "id": "0B3acB1YCndu",
        "colab_type": "code",
        "colab": {}
      },
      "source": [
        "# There is no 'ride_dt' column fill it randomly\n",
        "sz = len(ride_sharing['duration_time'])\n",
        "ride_sharing['ride_dt'] = np.random.choice(\n",
        "    a = ['2020-01-01', '2021-01-01'],\n",
        "    size = sz,\n",
        "    p = [0.9, 0.1]\n",
        ")"
      ],
      "execution_count": 38,
      "outputs": []
    },
    {
      "cell_type": "code",
      "metadata": {
        "id": "kv3GvH7gCGZg",
        "colab_type": "code",
        "colab": {}
      },
      "source": [
        "# Convert ride data to datetime\n",
        "ride_sharing['ride_dt'] = pd.to_datetime(ride_sharing['ride_dt'])"
      ],
      "execution_count": 39,
      "outputs": []
    },
    {
      "cell_type": "code",
      "metadata": {
        "id": "Z4D5zsIWDMyM",
        "colab_type": "code",
        "colab": {}
      },
      "source": [
        "# Save today's date\n",
        "import datetime as dt\n",
        "today = dt.date.today()"
      ],
      "execution_count": 41,
      "outputs": []
    },
    {
      "cell_type": "code",
      "metadata": {
        "id": "VVY_h3ksDSHn",
        "colab_type": "code",
        "colab": {}
      },
      "source": [
        "# Set all in the future to today's date\n",
        "ride_sharing.loc[ride_sharing['ride_dt'] > pd.to_datetime('today'), 'ride_dt'] = today"
      ],
      "execution_count": 44,
      "outputs": []
    },
    {
      "cell_type": "code",
      "metadata": {
        "id": "j2w6RGfwDmyu",
        "colab_type": "code",
        "colab": {
          "base_uri": "https://localhost:8080/",
          "height": 35
        },
        "outputId": "0d38a6f3-c2d8-432a-f984-0c4939d27de3"
      },
      "source": [
        "# Print maximum of ride_dt column\n",
        "print(ride_sharing['ride_dt'].max())"
      ],
      "execution_count": 45,
      "outputs": [
        {
          "output_type": "stream",
          "text": [
            "2020-07-30\n"
          ],
          "name": "stdout"
        }
      ]
    },
    {
      "cell_type": "markdown",
      "metadata": {
        "id": "UOXCam6ZEGp9",
        "colab_type": "text"
      },
      "source": [
        "# Uniqueness constraints\n",
        "## Finding duplicates"
      ]
    },
    {
      "cell_type": "code",
      "metadata": {
        "id": "2rbpjLHIEDJ8",
        "colab_type": "code",
        "colab": {
          "base_uri": "https://localhost:8080/",
          "height": 395
        },
        "outputId": "f1c1dc1f-cf88-46eb-83d6-fb9e873bbdda"
      },
      "source": [
        "ride_sharing.info()"
      ],
      "execution_count": 46,
      "outputs": [
        {
          "output_type": "stream",
          "text": [
            "<class 'pandas.core.frame.DataFrame'>\n",
            "RangeIndex: 25760 entries, 0 to 25759\n",
            "Data columns (total 14 columns):\n",
            " #   Column           Non-Null Count  Dtype   \n",
            "---  ------           --------------  -----   \n",
            " 0   Unnamed: 0       25760 non-null  int64   \n",
            " 1   duration         25760 non-null  object  \n",
            " 2   station_A_id     25760 non-null  int64   \n",
            " 3   station_A_name   25760 non-null  object  \n",
            " 4   station_B_id     25760 non-null  int64   \n",
            " 5   station_B_name   25760 non-null  object  \n",
            " 6   bike_id          25760 non-null  int64   \n",
            " 7   user_type        25760 non-null  int64   \n",
            " 8   user_birth_year  25760 non-null  int64   \n",
            " 9   user_gender      25760 non-null  object  \n",
            " 10  duration_trim    25760 non-null  object  \n",
            " 11  duration_time    25760 non-null  int64   \n",
            " 12  tire_sizes       25760 non-null  category\n",
            " 13  ride_dt          25760 non-null  object  \n",
            "dtypes: category(1), int64(7), object(6)\n",
            "memory usage: 2.6+ MB\n"
          ],
          "name": "stdout"
        }
      ]
    },
    {
      "cell_type": "code",
      "metadata": {
        "id": "5QWJo85QEj9F",
        "colab_type": "code",
        "colab": {}
      },
      "source": [
        "# Find duplicates\n",
        "duplicates = ride_sharing.duplicated(subset='bike_id', keep = False)"
      ],
      "execution_count": 48,
      "outputs": []
    },
    {
      "cell_type": "code",
      "metadata": {
        "id": "4tOZOsTkE17p",
        "colab_type": "code",
        "colab": {
          "base_uri": "https://localhost:8080/",
          "height": 269
        },
        "outputId": "d72fbea8-2e17-4d83-b079-f08566d315bc"
      },
      "source": [
        "# Sort your duplicated rides\n",
        "duplicated_rides = ride_sharing[duplicates].sort_values('bike_id')\n",
        "\n",
        "# Print relevant columns of duplicated_rides\n",
        "print(duplicated_rides[['bike_id', 'duration', 'user_birth_year']])"
      ],
      "execution_count": 49,
      "outputs": [
        {
          "output_type": "stream",
          "text": [
            "       bike_id    duration  user_birth_year\n",
            "3638        11  12 minutes             1988\n",
            "6088        11   5 minutes             1985\n",
            "10857       11   4 minutes             1987\n",
            "10045       27  13 minutes             1989\n",
            "16104       27  10 minutes             1970\n",
            "...        ...         ...              ...\n",
            "8812      6638  10 minutes             1986\n",
            "6815      6638   5 minutes             1995\n",
            "8456      6638   7 minutes             1983\n",
            "8300      6638   6 minutes             1962\n",
            "8380      6638   8 minutes             1984\n",
            "\n",
            "[25717 rows x 3 columns]\n"
          ],
          "name": "stdout"
        }
      ]
    },
    {
      "cell_type": "code",
      "metadata": {
        "id": "rtw8x2V9FW5e",
        "colab_type": "code",
        "colab": {
          "base_uri": "https://localhost:8080/",
          "height": 107
        },
        "outputId": "6176c430-a0d6-4ebd-b97f-553d99ecc3c7"
      },
      "source": [
        "ride_sharing.columns"
      ],
      "execution_count": 51,
      "outputs": [
        {
          "output_type": "execute_result",
          "data": {
            "text/plain": [
              "Index(['Unnamed: 0', 'duration', 'station_A_id', 'station_A_name',\n",
              "       'station_B_id', 'station_B_name', 'bike_id', 'user_type',\n",
              "       'user_birth_year', 'user_gender', 'duration_trim', 'duration_time',\n",
              "       'tire_sizes', 'ride_dt'],\n",
              "      dtype='object')"
            ]
          },
          "metadata": {
            "tags": []
          },
          "execution_count": 51
        }
      ]
    },
    {
      "cell_type": "markdown",
      "metadata": {
        "id": "XqTxyCWHFrsq",
        "colab_type": "text"
      },
      "source": [
        "## Testing duplicates"
      ]
    },
    {
      "cell_type": "code",
      "metadata": {
        "id": "2qTdYG8WFgU1",
        "colab_type": "code",
        "colab": {}
      },
      "source": [
        "# Drop complete duplicates from ride_sharing\n",
        "ride_dup = ride_sharing.drop_duplicates().copy()\n",
        "\n",
        "ride_dup['duration'] = ride_dup['duration'].str.replace(\" minutes\", \"\").astype('int')"
      ],
      "execution_count": 54,
      "outputs": []
    },
    {
      "cell_type": "code",
      "metadata": {
        "id": "UIM4QflyF7_D",
        "colab_type": "code",
        "colab": {}
      },
      "source": [
        "# Create statistics dictionary for aggregation function\n",
        "statistics = {'user_birth_year':'min', 'duration':'mean'}"
      ],
      "execution_count": 55,
      "outputs": []
    },
    {
      "cell_type": "code",
      "metadata": {
        "id": "Ozs9rdhwGNpL",
        "colab_type": "code",
        "colab": {}
      },
      "source": [
        "# Group by ride_id and compute new statistics\n",
        "ride_unique = ride_dup.groupby('bike_id').agg(statistics).reset_index()\n",
        "\n",
        "# Find duplicated values again\n",
        "duplicates = ride_unique.duplicated(subset='bike_id', keep = False)\n",
        "duplicated_rides = ride_unique[duplicates == True]\n",
        "\n",
        "# Assert duplicates are processed\n",
        "assert duplicated_rides.shape[0] == 0"
      ],
      "execution_count": 57,
      "outputs": []
    },
    {
      "cell_type": "markdown",
      "metadata": {
        "id": "wYjYNQapJG9J",
        "colab_type": "text"
      },
      "source": [
        "#**Text and Categorical data problems**\n",
        "# Membership constraints\n",
        "## Finding consistency "
      ]
    },
    {
      "cell_type": "code",
      "metadata": {
        "id": "LsI67b0NHB_a",
        "colab_type": "code",
        "colab": {}
      },
      "source": [
        "import pandas as pd\n",
        "import numpy as np"
      ],
      "execution_count": 66,
      "outputs": []
    },
    {
      "cell_type": "code",
      "metadata": {
        "id": "HYvaCi6GJxYC",
        "colab_type": "code",
        "colab": {
          "base_uri": "https://localhost:8080/",
          "height": 309
        },
        "outputId": "3be49a23-9fc3-428c-bc0e-4cd3ec2aa346"
      },
      "source": [
        "airlines = pd.read_csv(airlines_url)\n",
        "airlines.head()"
      ],
      "execution_count": 68,
      "outputs": [
        {
          "output_type": "execute_result",
          "data": {
            "text/html": [
              "<div>\n",
              "<style scoped>\n",
              "    .dataframe tbody tr th:only-of-type {\n",
              "        vertical-align: middle;\n",
              "    }\n",
              "\n",
              "    .dataframe tbody tr th {\n",
              "        vertical-align: top;\n",
              "    }\n",
              "\n",
              "    .dataframe thead th {\n",
              "        text-align: right;\n",
              "    }\n",
              "</style>\n",
              "<table border=\"1\" class=\"dataframe\">\n",
              "  <thead>\n",
              "    <tr style=\"text-align: right;\">\n",
              "      <th></th>\n",
              "      <th>Unnamed: 0</th>\n",
              "      <th>id</th>\n",
              "      <th>day</th>\n",
              "      <th>airline</th>\n",
              "      <th>destination</th>\n",
              "      <th>dest_region</th>\n",
              "      <th>dest_size</th>\n",
              "      <th>boarding_area</th>\n",
              "      <th>dept_time</th>\n",
              "      <th>wait_min</th>\n",
              "      <th>cleanliness</th>\n",
              "      <th>safety</th>\n",
              "      <th>satisfaction</th>\n",
              "    </tr>\n",
              "  </thead>\n",
              "  <tbody>\n",
              "    <tr>\n",
              "      <th>0</th>\n",
              "      <td>0</td>\n",
              "      <td>1351</td>\n",
              "      <td>Tuesday</td>\n",
              "      <td>UNITED INTL</td>\n",
              "      <td>KANSAI</td>\n",
              "      <td>Asia</td>\n",
              "      <td>Hub</td>\n",
              "      <td>Gates 91-102</td>\n",
              "      <td>2018-12-31</td>\n",
              "      <td>115.0</td>\n",
              "      <td>Clean</td>\n",
              "      <td>Neutral</td>\n",
              "      <td>Very satisfied</td>\n",
              "    </tr>\n",
              "    <tr>\n",
              "      <th>1</th>\n",
              "      <td>1</td>\n",
              "      <td>373</td>\n",
              "      <td>Friday</td>\n",
              "      <td>ALASKA</td>\n",
              "      <td>SAN JOSE DEL CABO</td>\n",
              "      <td>Canada/Mexico</td>\n",
              "      <td>Small</td>\n",
              "      <td>Gates 50-59</td>\n",
              "      <td>2018-12-31</td>\n",
              "      <td>135.0</td>\n",
              "      <td>Clean</td>\n",
              "      <td>Very safe</td>\n",
              "      <td>Very satisfied</td>\n",
              "    </tr>\n",
              "    <tr>\n",
              "      <th>2</th>\n",
              "      <td>2</td>\n",
              "      <td>2820</td>\n",
              "      <td>Thursday</td>\n",
              "      <td>DELTA</td>\n",
              "      <td>LOS ANGELES</td>\n",
              "      <td>West US</td>\n",
              "      <td>Hub</td>\n",
              "      <td>Gates 40-48</td>\n",
              "      <td>2018-12-31</td>\n",
              "      <td>70.0</td>\n",
              "      <td>Average</td>\n",
              "      <td>Somewhat safe</td>\n",
              "      <td>Neutral</td>\n",
              "    </tr>\n",
              "    <tr>\n",
              "      <th>3</th>\n",
              "      <td>3</td>\n",
              "      <td>1157</td>\n",
              "      <td>Tuesday</td>\n",
              "      <td>SOUTHWEST</td>\n",
              "      <td>LOS ANGELES</td>\n",
              "      <td>West US</td>\n",
              "      <td>Hub</td>\n",
              "      <td>Gates 20-39</td>\n",
              "      <td>2018-12-31</td>\n",
              "      <td>190.0</td>\n",
              "      <td>Clean</td>\n",
              "      <td>Very safe</td>\n",
              "      <td>Somewhat satsified</td>\n",
              "    </tr>\n",
              "    <tr>\n",
              "      <th>4</th>\n",
              "      <td>4</td>\n",
              "      <td>2992</td>\n",
              "      <td>Wednesday</td>\n",
              "      <td>AMERICAN</td>\n",
              "      <td>MIAMI</td>\n",
              "      <td>East US</td>\n",
              "      <td>Hub</td>\n",
              "      <td>Gates 50-59</td>\n",
              "      <td>2018-12-31</td>\n",
              "      <td>559.0</td>\n",
              "      <td>Somewhat clean</td>\n",
              "      <td>Very safe</td>\n",
              "      <td>Somewhat satsified</td>\n",
              "    </tr>\n",
              "  </tbody>\n",
              "</table>\n",
              "</div>"
            ],
            "text/plain": [
              "   Unnamed: 0    id  ...         safety        satisfaction\n",
              "0           0  1351  ...        Neutral      Very satisfied\n",
              "1           1   373  ...      Very safe      Very satisfied\n",
              "2           2  2820  ...  Somewhat safe             Neutral\n",
              "3           3  1157  ...      Very safe  Somewhat satsified\n",
              "4           4  2992  ...      Very safe  Somewhat satsified\n",
              "\n",
              "[5 rows x 13 columns]"
            ]
          },
          "metadata": {
            "tags": []
          },
          "execution_count": 68
        }
      ]
    },
    {
      "cell_type": "code",
      "metadata": {
        "id": "THcJE84tJ3dV",
        "colab_type": "code",
        "colab": {}
      },
      "source": [
        "categories = pd.DataFrame(\n",
        "    {\n",
        "        'cleanliness': ['Clean', 'Average', 'Somewhat clean', 'Somewhat dirty', 'Dirty'],\n",
        "        'safety': ['Neutral', 'Very safe', 'Somewhat safe', 'Very unsafe', 'Somewhat unsafe'],\n",
        "        'satisfaction': ['Very satisfied', 'Neutral', 'Somewhat satisfied', 'Somewhat unsatisfied', 'Very unsatisfied']\n",
        "    }\n",
        ")\n",
        "\n",
        "airlines = airlines.drop(labels=['Unnamed: 0'], axis=1)"
      ],
      "execution_count": 69,
      "outputs": []
    },
    {
      "cell_type": "code",
      "metadata": {
        "id": "kKDXNwrIKAYU",
        "colab_type": "code",
        "colab": {
          "base_uri": "https://localhost:8080/",
          "height": 292
        },
        "outputId": "2280157b-6af7-48f6-d16f-12ce4f281128"
      },
      "source": [
        "airlines.head()"
      ],
      "execution_count": 70,
      "outputs": [
        {
          "output_type": "execute_result",
          "data": {
            "text/html": [
              "<div>\n",
              "<style scoped>\n",
              "    .dataframe tbody tr th:only-of-type {\n",
              "        vertical-align: middle;\n",
              "    }\n",
              "\n",
              "    .dataframe tbody tr th {\n",
              "        vertical-align: top;\n",
              "    }\n",
              "\n",
              "    .dataframe thead th {\n",
              "        text-align: right;\n",
              "    }\n",
              "</style>\n",
              "<table border=\"1\" class=\"dataframe\">\n",
              "  <thead>\n",
              "    <tr style=\"text-align: right;\">\n",
              "      <th></th>\n",
              "      <th>id</th>\n",
              "      <th>day</th>\n",
              "      <th>airline</th>\n",
              "      <th>destination</th>\n",
              "      <th>dest_region</th>\n",
              "      <th>dest_size</th>\n",
              "      <th>boarding_area</th>\n",
              "      <th>dept_time</th>\n",
              "      <th>wait_min</th>\n",
              "      <th>cleanliness</th>\n",
              "      <th>safety</th>\n",
              "      <th>satisfaction</th>\n",
              "    </tr>\n",
              "  </thead>\n",
              "  <tbody>\n",
              "    <tr>\n",
              "      <th>0</th>\n",
              "      <td>1351</td>\n",
              "      <td>Tuesday</td>\n",
              "      <td>UNITED INTL</td>\n",
              "      <td>KANSAI</td>\n",
              "      <td>Asia</td>\n",
              "      <td>Hub</td>\n",
              "      <td>Gates 91-102</td>\n",
              "      <td>2018-12-31</td>\n",
              "      <td>115.0</td>\n",
              "      <td>Clean</td>\n",
              "      <td>Neutral</td>\n",
              "      <td>Very satisfied</td>\n",
              "    </tr>\n",
              "    <tr>\n",
              "      <th>1</th>\n",
              "      <td>373</td>\n",
              "      <td>Friday</td>\n",
              "      <td>ALASKA</td>\n",
              "      <td>SAN JOSE DEL CABO</td>\n",
              "      <td>Canada/Mexico</td>\n",
              "      <td>Small</td>\n",
              "      <td>Gates 50-59</td>\n",
              "      <td>2018-12-31</td>\n",
              "      <td>135.0</td>\n",
              "      <td>Clean</td>\n",
              "      <td>Very safe</td>\n",
              "      <td>Very satisfied</td>\n",
              "    </tr>\n",
              "    <tr>\n",
              "      <th>2</th>\n",
              "      <td>2820</td>\n",
              "      <td>Thursday</td>\n",
              "      <td>DELTA</td>\n",
              "      <td>LOS ANGELES</td>\n",
              "      <td>West US</td>\n",
              "      <td>Hub</td>\n",
              "      <td>Gates 40-48</td>\n",
              "      <td>2018-12-31</td>\n",
              "      <td>70.0</td>\n",
              "      <td>Average</td>\n",
              "      <td>Somewhat safe</td>\n",
              "      <td>Neutral</td>\n",
              "    </tr>\n",
              "    <tr>\n",
              "      <th>3</th>\n",
              "      <td>1157</td>\n",
              "      <td>Tuesday</td>\n",
              "      <td>SOUTHWEST</td>\n",
              "      <td>LOS ANGELES</td>\n",
              "      <td>West US</td>\n",
              "      <td>Hub</td>\n",
              "      <td>Gates 20-39</td>\n",
              "      <td>2018-12-31</td>\n",
              "      <td>190.0</td>\n",
              "      <td>Clean</td>\n",
              "      <td>Very safe</td>\n",
              "      <td>Somewhat satsified</td>\n",
              "    </tr>\n",
              "    <tr>\n",
              "      <th>4</th>\n",
              "      <td>2992</td>\n",
              "      <td>Wednesday</td>\n",
              "      <td>AMERICAN</td>\n",
              "      <td>MIAMI</td>\n",
              "      <td>East US</td>\n",
              "      <td>Hub</td>\n",
              "      <td>Gates 50-59</td>\n",
              "      <td>2018-12-31</td>\n",
              "      <td>559.0</td>\n",
              "      <td>Somewhat clean</td>\n",
              "      <td>Very safe</td>\n",
              "      <td>Somewhat satsified</td>\n",
              "    </tr>\n",
              "  </tbody>\n",
              "</table>\n",
              "</div>"
            ],
            "text/plain": [
              "     id        day  ...         safety        satisfaction\n",
              "0  1351    Tuesday  ...        Neutral      Very satisfied\n",
              "1   373     Friday  ...      Very safe      Very satisfied\n",
              "2  2820   Thursday  ...  Somewhat safe             Neutral\n",
              "3  1157    Tuesday  ...      Very safe  Somewhat satsified\n",
              "4  2992  Wednesday  ...      Very safe  Somewhat satsified\n",
              "\n",
              "[5 rows x 12 columns]"
            ]
          },
          "metadata": {
            "tags": []
          },
          "execution_count": 70
        }
      ]
    },
    {
      "cell_type": "code",
      "metadata": {
        "id": "GXmUNW6gKCUv",
        "colab_type": "code",
        "colab": {
          "base_uri": "https://localhost:8080/",
          "height": 125
        },
        "outputId": "c8633b41-233e-4eae-faba-c8d3803ce385"
      },
      "source": [
        "# Print categories DataFrame\n",
        "print(categories)"
      ],
      "execution_count": 72,
      "outputs": [
        {
          "output_type": "stream",
          "text": [
            "      cleanliness           safety          satisfaction\n",
            "0           Clean          Neutral        Very satisfied\n",
            "1         Average        Very safe               Neutral\n",
            "2  Somewhat clean    Somewhat safe    Somewhat satisfied\n",
            "3  Somewhat dirty      Very unsafe  Somewhat unsatisfied\n",
            "4           Dirty  Somewhat unsafe      Very unsatisfied\n"
          ],
          "name": "stdout"
        }
      ]
    },
    {
      "cell_type": "code",
      "metadata": {
        "id": "JzQQVsOoKpOn",
        "colab_type": "code",
        "colab": {
          "base_uri": "https://localhost:8080/",
          "height": 143
        },
        "outputId": "62002d7e-956d-47e5-81eb-7ca331612a71"
      },
      "source": [
        "# Print unique values of survey columns in airlines\n",
        "print('Cleaniness: ', airlines['cleanliness'].unique(), '\\n')\n",
        "print('Safety: ', airlines['safety'].unique(), '\\n' )\n",
        "print('Satisfaction: ', airlines['satisfaction'].unique(), '\\n')"
      ],
      "execution_count": 75,
      "outputs": [
        {
          "output_type": "stream",
          "text": [
            "Cleaniness:  ['Clean' 'Average' 'Somewhat clean' 'Somewhat dirty' 'Dirty'] \n",
            "\n",
            "Safety:  ['Neutral' 'Very safe' 'Somewhat safe' 'Very unsafe' 'Somewhat unsafe'] \n",
            "\n",
            "Satisfaction:  ['Very satisfied' 'Neutral' 'Somewhat satsified' 'Somewhat unsatisfied'\n",
            " 'Very unsatisfied'] \n",
            "\n"
          ],
          "name": "stdout"
        }
      ]
    },
    {
      "cell_type": "code",
      "metadata": {
        "id": "p1ORxvCELbsj",
        "colab_type": "code",
        "colab": {
          "base_uri": "https://localhost:8080/",
          "height": 91
        },
        "outputId": "12361c34-2272-4c6d-e679-de950f418f25"
      },
      "source": [
        "# Find the cleanliness category in airlines not in catgories\n",
        "cat_clean = set(airlines['cleanliness']).difference(categories['cleanliness'])\n",
        "\n",
        "# Find rows with that category\n",
        "cat_clean_rows = airlines['cleanliness'].isin(cat_clean)\n",
        "\n",
        "# print rows with inconsistent category\n",
        "print(airlines[cat_clean_rows])"
      ],
      "execution_count": 76,
      "outputs": [
        {
          "output_type": "stream",
          "text": [
            "Empty DataFrame\n",
            "Columns: [id, day, airline, destination, dest_region, dest_size, boarding_area, dept_time, wait_min, cleanliness, safety, satisfaction]\n",
            "Index: []\n"
          ],
          "name": "stdout"
        }
      ]
    },
    {
      "cell_type": "code",
      "metadata": {
        "id": "I8s07CyOOPWk",
        "colab_type": "code",
        "colab": {
          "base_uri": "https://localhost:8080/",
          "height": 269
        },
        "outputId": "dede765a-c8f9-4b7b-a1dd-8b0cd0236e37"
      },
      "source": [
        "# print rows with consistent categories only\n",
        "print(airlines[~cat_clean_rows])"
      ],
      "execution_count": 78,
      "outputs": [
        {
          "output_type": "stream",
          "text": [
            "        id        day  ...         safety        satisfaction\n",
            "0     1351    Tuesday  ...        Neutral      Very satisfied\n",
            "1      373     Friday  ...      Very safe      Very satisfied\n",
            "2     2820   Thursday  ...  Somewhat safe             Neutral\n",
            "3     1157    Tuesday  ...      Very safe  Somewhat satsified\n",
            "4     2992  Wednesday  ...      Very safe  Somewhat satsified\n",
            "...    ...        ...  ...            ...                 ...\n",
            "2472  1475    Tuesday  ...        Neutral  Somewhat satsified\n",
            "2473  2222   Thursday  ...      Very safe      Very satisfied\n",
            "2474  2684     Friday  ...      Very safe      Very satisfied\n",
            "2475  2549    Tuesday  ...  Somewhat safe      Very satisfied\n",
            "2476  2162   Saturday  ...      Very safe  Somewhat satsified\n",
            "\n",
            "[2477 rows x 12 columns]\n"
          ],
          "name": "stdout"
        }
      ]
    },
    {
      "cell_type": "markdown",
      "metadata": {
        "id": "Kxqc2DL9PET-",
        "colab_type": "text"
      },
      "source": [
        "# Categorical Variable\n",
        "## Inconsistent categories"
      ]
    },
    {
      "cell_type": "code",
      "metadata": {
        "id": "XQc3UszROZIh",
        "colab_type": "code",
        "colab": {
          "base_uri": "https://localhost:8080/",
          "height": 71
        },
        "outputId": "9f2af2e8-0c5c-4234-dafe-4a8943c167fc"
      },
      "source": [
        "# Print unique values of both columns\n",
        "print(airlines['dest_region'].unique())"
      ],
      "execution_count": 81,
      "outputs": [
        {
          "output_type": "stream",
          "text": [
            "['Asia' 'Canada/Mexico' 'West US' 'East US' 'Midwest US' 'EAST US'\n",
            " 'Middle East' 'Europe' 'eur' 'Central/South America'\n",
            " 'Australia/New Zealand' 'middle east']\n"
          ],
          "name": "stdout"
        }
      ]
    },
    {
      "cell_type": "code",
      "metadata": {
        "id": "_ThNpRGVPQkR",
        "colab_type": "code",
        "colab": {
          "base_uri": "https://localhost:8080/",
          "height": 53
        },
        "outputId": "951e50b1-f205-4672-af0a-3899361ad32d"
      },
      "source": [
        "print(airlines['dest_size'].unique())"
      ],
      "execution_count": 80,
      "outputs": [
        {
          "output_type": "stream",
          "text": [
            "['Hub' 'Small' '    Hub' 'Medium' 'Large' 'Hub     ' '    Small'\n",
            " 'Medium     ' '    Medium' 'Small     ' '    Large' 'Large     ']\n"
          ],
          "name": "stdout"
        }
      ]
    },
    {
      "cell_type": "code",
      "metadata": {
        "id": "TNhShdqZPVWD",
        "colab_type": "code",
        "colab": {}
      },
      "source": [
        "# Lower dest_region column and then replace 'eur' with 'europe'\n",
        "airlines['dest_region'] = airlines['dest_region'].str.lower()\n",
        "airlines['dest_region'] = airlines['dest_region'].replace({'eur':'europe'})"
      ],
      "execution_count": 82,
      "outputs": []
    },
    {
      "cell_type": "code",
      "metadata": {
        "id": "7gC04tVCP0ll",
        "colab_type": "code",
        "colab": {}
      },
      "source": [
        "# remore white spaces from 'dest_size'\n",
        "airlines['dest_size'] = airlines['dest_size'].str.strip()"
      ],
      "execution_count": 84,
      "outputs": []
    },
    {
      "cell_type": "code",
      "metadata": {
        "id": "LE4POe3KQJ-p",
        "colab_type": "code",
        "colab": {
          "base_uri": "https://localhost:8080/",
          "height": 71
        },
        "outputId": "feab6bd5-e7a5-4e32-9802-17e6f93e1327"
      },
      "source": [
        "# Verify changes have been effected\n",
        "print(airlines['dest_region'].unique())\n",
        "print(airlines['dest_size'].unique())"
      ],
      "execution_count": 85,
      "outputs": [
        {
          "output_type": "stream",
          "text": [
            "['asia' 'canada/mexico' 'west us' 'east us' 'midwest us' 'middle east'\n",
            " 'europe' 'central/south america' 'australia/new zealand']\n",
            "['Hub' 'Small' 'Medium' 'Large']\n"
          ],
          "name": "stdout"
        }
      ]
    },
    {
      "cell_type": "markdown",
      "metadata": {
        "id": "g4iiSrcHQhOM",
        "colab_type": "text"
      },
      "source": [
        "# Remapping Categories"
      ]
    },
    {
      "cell_type": "code",
      "metadata": {
        "id": "7NIyHUVkQdXV",
        "colab_type": "code",
        "colab": {}
      },
      "source": [
        "# Create ranges for categories\n",
        "label_ranges = [0, 60, 180, np.inf]\n",
        "label_names = ['short', 'medium', 'long']"
      ],
      "execution_count": 86,
      "outputs": []
    },
    {
      "cell_type": "code",
      "metadata": {
        "id": "VugU_sKAQygs",
        "colab_type": "code",
        "colab": {}
      },
      "source": [
        "# Create wait_type column\n",
        "airlines['wait_type'] = pd.cut(airlines['wait_min'],\n",
        "                               bins=label_ranges,\n",
        "                               labels=label_names)"
      ],
      "execution_count": 87,
      "outputs": []
    },
    {
      "cell_type": "code",
      "metadata": {
        "id": "APnxBYdDQ-vP",
        "colab_type": "code",
        "colab": {}
      },
      "source": [
        "# Create mappings and replace\n",
        "mappings = {\n",
        "    'Monday':'weekday',\n",
        "    'Tuesday':'weekday',\n",
        "    'Wednesday':'weekday',\n",
        "    'Thursday':'weekday',\n",
        "    'Friday':'weekday',\n",
        "    'Saturday':'weekend',\n",
        "    'Sunday':'weekend'\n",
        "}\n",
        "\n",
        "airlines['day_week'] = airlines['day'].replace(mappings)"
      ],
      "execution_count": 89,
      "outputs": []
    },
    {
      "cell_type": "code",
      "metadata": {
        "id": "L0G_2dfWRext",
        "colab_type": "code",
        "colab": {
          "base_uri": "https://localhost:8080/",
          "height": 53
        },
        "outputId": "c1461bfb-44ff-4f0f-c1d5-2e595cfedca1"
      },
      "source": [
        "print(airlines['wait_type'].unique())"
      ],
      "execution_count": 90,
      "outputs": [
        {
          "output_type": "stream",
          "text": [
            "[medium, long, short]\n",
            "Categories (3, object): [short < medium < long]\n"
          ],
          "name": "stdout"
        }
      ]
    },
    {
      "cell_type": "code",
      "metadata": {
        "id": "D4PKLYSfRtCs",
        "colab_type": "code",
        "colab": {
          "base_uri": "https://localhost:8080/",
          "height": 35
        },
        "outputId": "4df890f8-3f5f-4031-b189-260f6df805b5"
      },
      "source": [
        "print(airlines['day_week'].unique())"
      ],
      "execution_count": 91,
      "outputs": [
        {
          "output_type": "stream",
          "text": [
            "['weekday' 'weekend']\n"
          ],
          "name": "stdout"
        }
      ]
    },
    {
      "cell_type": "markdown",
      "metadata": {
        "id": "TjxlnywlUKg1",
        "colab_type": "text"
      },
      "source": [
        "# **Record Linkage**\n",
        "# Compare strings\n",
        "## The cutoff point"
      ]
    },
    {
      "cell_type": "code",
      "metadata": {
        "id": "2MVd0YMVUZBE",
        "colab_type": "code",
        "colab": {
          "base_uri": "https://localhost:8080/",
          "height": 145
        },
        "outputId": "ab715702-960d-48fe-ef11-e614550c9a86"
      },
      "source": [
        "import pandas as pd\n",
        "!pip install fuzzywuzzy\n",
        "from fuzzywuzzy import process"
      ],
      "execution_count": 97,
      "outputs": [
        {
          "output_type": "stream",
          "text": [
            "Collecting fuzzywuzzy\n",
            "  Downloading https://files.pythonhosted.org/packages/43/ff/74f23998ad2f93b945c0309f825be92e04e0348e062026998b5eefef4c33/fuzzywuzzy-0.18.0-py2.py3-none-any.whl\n",
            "Installing collected packages: fuzzywuzzy\n",
            "Successfully installed fuzzywuzzy-0.18.0\n"
          ],
          "name": "stdout"
        },
        {
          "output_type": "stream",
          "text": [
            "/usr/local/lib/python3.6/dist-packages/fuzzywuzzy/fuzz.py:11: UserWarning: Using slow pure-python SequenceMatcher. Install python-Levenshtein to remove this warning\n",
            "  warnings.warn('Using slow pure-python SequenceMatcher. Install python-Levenshtein to remove this warning')\n"
          ],
          "name": "stderr"
        }
      ]
    },
    {
      "cell_type": "code",
      "metadata": {
        "id": "GOe6DrD9Uj6H",
        "colab_type": "code",
        "colab": {}
      },
      "source": [
        "# Read dataset\n",
        "restaurants = pd.read_csv(restaurants)\n",
        "\n",
        "restaurants_new = pd.read_csv(restaurantsII)"
      ],
      "execution_count": 98,
      "outputs": []
    },
    {
      "cell_type": "code",
      "metadata": {
        "id": "Sy9xICSkVRKL",
        "colab_type": "code",
        "colab": {}
      },
      "source": [
        "# Store the unique values of type in unique_types\n",
        "unique_types = restaurants['type'].unique()"
      ],
      "execution_count": 99,
      "outputs": []
    },
    {
      "cell_type": "code",
      "metadata": {
        "id": "Rm5GPY3xVZ_M",
        "colab_type": "code",
        "colab": {
          "base_uri": "https://localhost:8080/",
          "height": 55
        },
        "outputId": "1f08e4c6-6350-4cbf-9e4c-7772f73652ce"
      },
      "source": [
        "# Calculate similarity of 'asain' to all values types\n",
        "print(process.extract('asian', unique_types, limit=len(unique_types)))"
      ],
      "execution_count": 101,
      "outputs": [
        {
          "output_type": "stream",
          "text": [
            "[('asian', 100), ('italian', 67), ('american', 62), ('mexican', 50), ('cajun', 40), ('southwestern', 36), ('southern', 31), ('coffeebar', 26), ('steakhouses', 25)]\n"
          ],
          "name": "stdout"
        }
      ]
    },
    {
      "cell_type": "code",
      "metadata": {
        "id": "lkg4KM0HVlws",
        "colab_type": "code",
        "colab": {
          "base_uri": "https://localhost:8080/",
          "height": 55
        },
        "outputId": "113719d7-3c1f-4760-f899-d83f2098fe3e"
      },
      "source": [
        "# Calculate similarity of 'american' to all values of type\n",
        "print(process.extract('american', unique_types, limit=len(unique_types)))"
      ],
      "execution_count": 104,
      "outputs": [
        {
          "output_type": "stream",
          "text": [
            "[('american', 100), ('mexican', 80), ('cajun', 68), ('asian', 62), ('italian', 53), ('southwestern', 41), ('southern', 38), ('coffeebar', 24), ('steakhouses', 21)]\n"
          ],
          "name": "stdout"
        }
      ]
    },
    {
      "cell_type": "markdown",
      "metadata": {
        "id": "ErKjaNVoWQr8",
        "colab_type": "text"
      },
      "source": [
        "# Remapping categories II"
      ]
    },
    {
      "cell_type": "code",
      "metadata": {
        "id": "ilgH-f8VV2Oj",
        "colab_type": "code",
        "colab": {
          "base_uri": "https://localhost:8080/",
          "height": 35
        },
        "outputId": "350991bf-a35b-45f2-8252-394f4c714b13"
      },
      "source": [
        "# For each correct type in categories\n",
        "for cuisine in restaurants_new['type']:\n",
        "  # Find matches in type of restaurants\n",
        "  matches = process.extract(cuisine, restaurants['type'], limit=len(restaurants['type']))\n",
        "\n",
        "  # For each possible_match with similarity score >= 80\n",
        "  for possible_match in matches:\n",
        "    if possible_match in matches:\n",
        "        # Find matching cuisine type\n",
        "        matching_cuisine = restaurants['type'] == possible_match[0]\n",
        "        restaurants.loc[matching_cuisine, 'type'] = cuisine\n",
        "\n",
        "# Print unique values to confirm mapping\n",
        "print(restaurants['type'].unique())"
      ],
      "execution_count": 105,
      "outputs": [
        {
          "output_type": "stream",
          "text": [
            "['asian']\n"
          ],
          "name": "stdout"
        }
      ]
    },
    {
      "cell_type": "markdown",
      "metadata": {
        "id": "QBkyxHvcYOe1",
        "colab_type": "text"
      },
      "source": [
        "# Generating pairs\n",
        "## Pairs of restaurants"
      ]
    },
    {
      "cell_type": "code",
      "metadata": {
        "id": "yugSjdD3XhNK",
        "colab_type": "code",
        "colab": {
          "base_uri": "https://localhost:8080/",
          "height": 325
        },
        "outputId": "56a27456-1318-492f-e33a-56ab20d5ecea"
      },
      "source": [
        "!pip install recordlinkage\n",
        "import recordlinkage"
      ],
      "execution_count": 107,
      "outputs": [
        {
          "output_type": "stream",
          "text": [
            "Collecting recordlinkage\n",
            "\u001b[?25l  Downloading https://files.pythonhosted.org/packages/db/26/babbca39d74824e8bc17428a8eb04951a1d63318af7d02beeb2106a1ec26/recordlinkage-0.14-py3-none-any.whl (944kB)\n",
            "\u001b[K     |████████████████████████████████| 952kB 2.8MB/s \n",
            "\u001b[?25hRequirement already satisfied: numpy>=1.13.0 in /usr/local/lib/python3.6/dist-packages (from recordlinkage) (1.18.5)\n",
            "Collecting jellyfish>=0.5.4\n",
            "\u001b[?25l  Downloading https://files.pythonhosted.org/packages/6c/09/927ae35fc5a9f70abb6cc2c27ee88fc48549f7bc4786c1d4b177c22e997d/jellyfish-0.8.2-cp36-cp36m-manylinux2014_x86_64.whl (93kB)\n",
            "\u001b[K     |████████████████████████████████| 102kB 6.7MB/s \n",
            "\u001b[?25hRequirement already satisfied: scikit-learn>=0.19.0 in /usr/local/lib/python3.6/dist-packages (from recordlinkage) (0.22.2.post1)\n",
            "Requirement already satisfied: scipy>=1 in /usr/local/lib/python3.6/dist-packages (from recordlinkage) (1.4.1)\n",
            "Requirement already satisfied: pandas>=0.23 in /usr/local/lib/python3.6/dist-packages (from recordlinkage) (1.0.5)\n",
            "Requirement already satisfied: joblib in /usr/local/lib/python3.6/dist-packages (from recordlinkage) (0.16.0)\n",
            "Requirement already satisfied: pytz>=2017.2 in /usr/local/lib/python3.6/dist-packages (from pandas>=0.23->recordlinkage) (2018.9)\n",
            "Requirement already satisfied: python-dateutil>=2.6.1 in /usr/local/lib/python3.6/dist-packages (from pandas>=0.23->recordlinkage) (2.8.1)\n",
            "Requirement already satisfied: six>=1.5 in /usr/local/lib/python3.6/dist-packages (from python-dateutil>=2.6.1->pandas>=0.23->recordlinkage) (1.15.0)\n",
            "Installing collected packages: jellyfish, recordlinkage\n",
            "Successfully installed jellyfish-0.8.2 recordlinkage-0.14\n"
          ],
          "name": "stdout"
        }
      ]
    },
    {
      "cell_type": "code",
      "metadata": {
        "id": "7ncJTKuyYcPV",
        "colab_type": "code",
        "colab": {}
      },
      "source": [
        "# Create an indexer and object and find possible pairs\n",
        "indexer = recordlinkage.Index()\n",
        "\n",
        "# Block pairing on type\n",
        "indexer.block('type')\n",
        "\n",
        "# Generate pairs\n",
        "pairs = indexer.index(restaurants, restaurants_new)"
      ],
      "execution_count": 108,
      "outputs": []
    },
    {
      "cell_type": "code",
      "metadata": {
        "id": "uZBK9F4EY05z",
        "colab_type": "code",
        "colab": {
          "base_uri": "https://localhost:8080/",
          "height": 35
        },
        "outputId": "38975b76-eb0e-4c97-a779-d4b3671eabe7"
      },
      "source": [
        "# Similar restaurants\n",
        "# Create a comparison object\n",
        "comp_cl = recordlinkage.Compare()\n",
        "\n",
        "# Find exact matches on city, type\n",
        "comp_cl.exact('city', 'city', label='city')\n",
        "comp_cl.exact('type', 'type', label='type')"
      ],
      "execution_count": 109,
      "outputs": [
        {
          "output_type": "execute_result",
          "data": {
            "text/plain": [
              "<Compare>"
            ]
          },
          "metadata": {
            "tags": []
          },
          "execution_count": 109
        }
      ]
    },
    {
      "cell_type": "code",
      "metadata": {
        "id": "IB-So1iPZL2C",
        "colab_type": "code",
        "colab": {}
      },
      "source": [
        ""
      ],
      "execution_count": null,
      "outputs": []
    }
  ]
}