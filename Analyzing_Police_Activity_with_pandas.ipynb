{
  "nbformat": 4,
  "nbformat_minor": 0,
  "metadata": {
    "colab": {
      "name": "Analyzing Police Activity with pandas",
      "provenance": [],
      "authorship_tag": "ABX9TyOYRregDodFtOxHO4RNhMj6",
      "include_colab_link": true
    },
    "kernelspec": {
      "name": "python3",
      "display_name": "Python 3"
    }
  },
  "cells": [
    {
      "cell_type": "markdown",
      "metadata": {
        "id": "view-in-github",
        "colab_type": "text"
      },
      "source": [
        "<a href=\"https://colab.research.google.com/github/1tangyen/yiisugar/blob/master/Analyzing_Police_Activity_with_pandas.ipynb\" target=\"_parent\"><img src=\"https://colab.research.google.com/assets/colab-badge.svg\" alt=\"Open In Colab\"/></a>"
      ]
    },
    {
      "cell_type": "code",
      "metadata": {
        "id": "BBfa3LLNTq2W",
        "colab_type": "code",
        "colab": {}
      },
      "source": [
        "weather_url = 'https://assets.datacamp.com/production/repositories/1497/datasets/02f3fb2d4416d3f6626e1117688e0386784e8e55/weather.csv'"
      ],
      "execution_count": null,
      "outputs": []
    },
    {
      "cell_type": "code",
      "metadata": {
        "id": "F1Up-lM3Tzrb",
        "colab_type": "code",
        "colab": {}
      },
      "source": [
        "police_url = 'https://assets.datacamp.com/production/repositories/1497/datasets/62bd9feef451860db02d26553613a299721882e8/police.csv'"
      ],
      "execution_count": null,
      "outputs": []
    },
    {
      "cell_type": "markdown",
      "metadata": {
        "id": "NFtWhR4hVaSe",
        "colab_type": "text"
      },
      "source": [
        "# **Analyzing Police Activity with Pandas**"
      ]
    },
    {
      "cell_type": "markdown",
      "metadata": {
        "id": "tkMJgeSnVyK9",
        "colab_type": "text"
      },
      "source": [
        "1. Preparing the data for analysis\n",
        "2. Exploring the relationship between gender and policing\n",
        "3. Visual exploratory data analysis\n",
        "4. Analyzing the effect of weather on policing"
      ]
    },
    {
      "cell_type": "markdown",
      "metadata": {
        "id": "qWa5peY7XF-z",
        "colab_type": "text"
      },
      "source": [
        "# **Preparing the data for analysis**\n",
        "\n",
        "\n",
        "*   Stanford Open policing project dataset\n",
        "      Examing the dataset\n",
        "      Dropping columns\n",
        "      Dropping rows\n",
        "*   Using proper data types\n",
        "      Finding an incorrect data type\n",
        "      Fixing a data type\n",
        "*   Creating a DatetimeIndex\n",
        "      Combing object columns\n",
        "      Setting the index\n",
        "\n",
        "\n",
        "\n"
      ]
    },
    {
      "cell_type": "markdown",
      "metadata": {
        "id": "zwLToSRPV6aO",
        "colab_type": "text"
      },
      "source": [
        "# Standford Open policing Project dataset\n",
        "## Examing the dataset"
      ]
    },
    {
      "cell_type": "code",
      "metadata": {
        "id": "ZocTjrqCWHve",
        "colab_type": "code",
        "colab": {
          "base_uri": "https://localhost:8080/",
          "height": 161
        },
        "outputId": "f7873c5b-7de7-4618-cc40-44a0c2370483"
      },
      "source": [
        "# Examing the dataset\n",
        "import pandas as pd\n",
        "\n",
        "# Read 'police.csv' into a DataFrame named ri\n",
        "ri = pd.read_csv(police_url)\n",
        "\n",
        "print(ri.head())"
      ],
      "execution_count": null,
      "outputs": [
        {
          "output_type": "stream",
          "text": [
            "  state   stop_date stop_time  ...  stop_duration drugs_related_stop district\n",
            "0    RI  2005-01-04     12:55  ...       0-15 Min              False  Zone X4\n",
            "1    RI  2005-01-23     23:15  ...       0-15 Min              False  Zone K3\n",
            "2    RI  2005-02-17     04:15  ...       0-15 Min              False  Zone X4\n",
            "3    RI  2005-02-20     17:15  ...      16-30 Min              False  Zone X1\n",
            "4    RI  2005-02-24     01:20  ...       0-15 Min              False  Zone X3\n",
            "\n",
            "[5 rows x 15 columns]\n"
          ],
          "name": "stdout"
        }
      ]
    },
    {
      "cell_type": "code",
      "metadata": {
        "id": "2y7jNHRaYiOy",
        "colab_type": "code",
        "colab": {
          "base_uri": "https://localhost:8080/",
          "height": 305
        },
        "outputId": "c15e854a-1ffe-4226-a47d-a505a269470c"
      },
      "source": [
        "# Count the number of missing values in each column\n",
        "print(ri.isnull().sum())"
      ],
      "execution_count": null,
      "outputs": [
        {
          "output_type": "stream",
          "text": [
            "state                     0\n",
            "stop_date                 0\n",
            "stop_time                 0\n",
            "county_name           91741\n",
            "driver_gender          5205\n",
            "driver_race            5202\n",
            "violation_raw          5202\n",
            "violation              5202\n",
            "search_conducted          0\n",
            "search_type           88434\n",
            "stop_outcome           5202\n",
            "is_arrested            5202\n",
            "stop_duration          5202\n",
            "drugs_related_stop        0\n",
            "district                  0\n",
            "dtype: int64\n"
          ],
          "name": "stdout"
        }
      ]
    },
    {
      "cell_type": "markdown",
      "metadata": {
        "id": "fgfY8kv5Y8Cs",
        "colab_type": "text"
      },
      "source": [
        "### Dropping Columns"
      ]
    },
    {
      "cell_type": "code",
      "metadata": {
        "id": "M3iV2L06ZXBd",
        "colab_type": "code",
        "colab": {
          "base_uri": "https://localhost:8080/",
          "height": 35
        },
        "outputId": "88760d2d-734c-445d-cde5-0fdcd675b6f5"
      },
      "source": [
        "# Examine the shape of the DataFrame\n",
        "print(ri.shape)"
      ],
      "execution_count": null,
      "outputs": [
        {
          "output_type": "stream",
          "text": [
            "(91741, 15)\n"
          ],
          "name": "stdout"
        }
      ]
    },
    {
      "cell_type": "code",
      "metadata": {
        "id": "zpgGyngdZsuz",
        "colab_type": "code",
        "colab": {}
      },
      "source": [
        "# Drop the 'county_name' and  'state' columns\n",
        "ri.drop(['county_name', 'state'], axis='columns', inplace=True)"
      ],
      "execution_count": null,
      "outputs": []
    },
    {
      "cell_type": "code",
      "metadata": {
        "id": "PmeXaiXUaOZ9",
        "colab_type": "code",
        "colab": {
          "base_uri": "https://localhost:8080/",
          "height": 35
        },
        "outputId": "73452cb8-843e-4ae5-e53a-e2bb4cba8e7d"
      },
      "source": [
        "# Examine the shape of the DataFrame\n",
        "print(ri.shape)"
      ],
      "execution_count": null,
      "outputs": [
        {
          "output_type": "stream",
          "text": [
            "(91741, 13)\n"
          ],
          "name": "stdout"
        }
      ]
    },
    {
      "cell_type": "markdown",
      "metadata": {
        "id": "bU0nj2HnawoI",
        "colab_type": "text"
      },
      "source": [
        "## Dropping rows"
      ]
    },
    {
      "cell_type": "code",
      "metadata": {
        "id": "cEV576OuazOn",
        "colab_type": "code",
        "colab": {
          "base_uri": "https://localhost:8080/",
          "height": 269
        },
        "outputId": "e616eab7-742e-4dcc-c455-ad980ee50186"
      },
      "source": [
        "# count the number of missing values in each columns\n",
        "print(ri.isnull().sum())"
      ],
      "execution_count": null,
      "outputs": [
        {
          "output_type": "stream",
          "text": [
            "stop_date                 0\n",
            "stop_time                 0\n",
            "driver_gender          5205\n",
            "driver_race            5202\n",
            "violation_raw          5202\n",
            "violation              5202\n",
            "search_conducted          0\n",
            "search_type           88434\n",
            "stop_outcome           5202\n",
            "is_arrested            5202\n",
            "stop_duration          5202\n",
            "drugs_related_stop        0\n",
            "district                  0\n",
            "dtype: int64\n"
          ],
          "name": "stdout"
        }
      ]
    },
    {
      "cell_type": "code",
      "metadata": {
        "id": "eziFR-45bV8P",
        "colab_type": "code",
        "colab": {
          "base_uri": "https://localhost:8080/",
          "height": 269
        },
        "outputId": "a5f54555-612f-424f-f825-de6517ef9bd0"
      },
      "source": [
        "# Drop all rows that are missing 'driver_gender'\n",
        "ri.dropna(subset=['driver_gender'], inplace=True)\n",
        "\n",
        "# Count the number of missing values in each column\n",
        "print(ri.isnull().sum())"
      ],
      "execution_count": null,
      "outputs": [
        {
          "output_type": "stream",
          "text": [
            "stop_date                 0\n",
            "stop_time                 0\n",
            "driver_gender             0\n",
            "driver_race               0\n",
            "violation_raw             0\n",
            "violation                 0\n",
            "search_conducted          0\n",
            "search_type           83229\n",
            "stop_outcome              0\n",
            "is_arrested               0\n",
            "stop_duration             0\n",
            "drugs_related_stop        0\n",
            "district                  0\n",
            "dtype: int64\n"
          ],
          "name": "stdout"
        }
      ]
    },
    {
      "cell_type": "code",
      "metadata": {
        "id": "vVFbCrERb7r7",
        "colab_type": "code",
        "colab": {
          "base_uri": "https://localhost:8080/",
          "height": 35
        },
        "outputId": "4aa258f3-a6a4-4a36-96eb-38b8ce44e737"
      },
      "source": [
        "# Examine the shape of the DataFrame\n",
        "print(ri.shape)"
      ],
      "execution_count": null,
      "outputs": [
        {
          "output_type": "stream",
          "text": [
            "(86536, 13)\n"
          ],
          "name": "stdout"
        }
      ]
    },
    {
      "cell_type": "markdown",
      "metadata": {
        "id": "uWlRBeGHcJsi",
        "colab_type": "text"
      },
      "source": [
        "# Using proper data types\n",
        "## Finding an incorrect data type\n"
      ]
    },
    {
      "cell_type": "code",
      "metadata": {
        "id": "apls-jLhcUO1",
        "colab_type": "code",
        "colab": {
          "base_uri": "https://localhost:8080/",
          "height": 269
        },
        "outputId": "957e564e-005d-4481-b713-021645dfbdc4"
      },
      "source": [
        "# Check dataframe types and find incorrect data type\n",
        "ri.dtypes"
      ],
      "execution_count": null,
      "outputs": [
        {
          "output_type": "execute_result",
          "data": {
            "text/plain": [
              "stop_date             object\n",
              "stop_time             object\n",
              "driver_gender         object\n",
              "driver_race           object\n",
              "violation_raw         object\n",
              "violation             object\n",
              "search_conducted        bool\n",
              "search_type           object\n",
              "stop_outcome          object\n",
              "is_arrested           object\n",
              "stop_duration         object\n",
              "drugs_related_stop      bool\n",
              "district              object\n",
              "dtype: object"
            ]
          },
          "metadata": {
            "tags": []
          },
          "execution_count": 25
        }
      ]
    },
    {
      "cell_type": "markdown",
      "metadata": {
        "id": "s9fwJTy3dsEA",
        "colab_type": "text"
      },
      "source": [
        "## Fixing a data type"
      ]
    },
    {
      "cell_type": "code",
      "metadata": {
        "id": "9R6yHUNcdw5T",
        "colab_type": "code",
        "colab": {
          "base_uri": "https://localhost:8080/",
          "height": 35
        },
        "outputId": "4ffbabb9-fc89-40b5-8813-8e9ba4aac911"
      },
      "source": [
        "# Examine the head of the 'is_arrested' column\n",
        "print(ri.is_arrested.dtype)"
      ],
      "execution_count": null,
      "outputs": [
        {
          "output_type": "stream",
          "text": [
            "object\n"
          ],
          "name": "stdout"
        }
      ]
    },
    {
      "cell_type": "code",
      "metadata": {
        "id": "QT4sESPLdy4I",
        "colab_type": "code",
        "colab": {
          "base_uri": "https://localhost:8080/",
          "height": 35
        },
        "outputId": "2834b5f7-c696-46b9-b10a-8932dc474caa"
      },
      "source": [
        "# Change the data type of 'is_arrested' to 'bool'\n",
        "ri['is_arrested'] = ri.is_arrested.astype(bool)\n",
        "\n",
        "# Check the data type of 'is_arrested'\n",
        "print(ri.is_arrested.dtype)"
      ],
      "execution_count": null,
      "outputs": [
        {
          "output_type": "stream",
          "text": [
            "bool\n"
          ],
          "name": "stdout"
        }
      ]
    },
    {
      "cell_type": "markdown",
      "metadata": {
        "id": "vpkycdPOds50",
        "colab_type": "text"
      },
      "source": [
        "# Creating a DatetimeIndex\n",
        "## Combing Object columns"
      ]
    },
    {
      "cell_type": "code",
      "metadata": {
        "id": "_s3V6sY1etYU",
        "colab_type": "code",
        "colab": {
          "base_uri": "https://localhost:8080/",
          "height": 287
        },
        "outputId": "1f05bb70-720c-4242-bae5-d0353eb480ae"
      },
      "source": [
        "# Concatenate 'stop_date' and 'stop_time' (separated by a space)\n",
        "combined = ri.stop_date.str.cat(ri.stop_time, sep=' ')\n",
        "\n",
        "# Convert 'combined' to datetime format\n",
        "ri['stop_datetime'] = pd.to_datetime(combined)\n",
        "\n",
        "# Examine the data types of the DataFrame\n",
        "print(ri.dtypes)"
      ],
      "execution_count": null,
      "outputs": [
        {
          "output_type": "stream",
          "text": [
            "stop_date                     object\n",
            "stop_time                     object\n",
            "driver_gender                 object\n",
            "driver_race                   object\n",
            "violation_raw                 object\n",
            "violation                     object\n",
            "search_conducted                bool\n",
            "search_type                   object\n",
            "stop_outcome                  object\n",
            "is_arrested                     bool\n",
            "stop_duration                 object\n",
            "drugs_related_stop              bool\n",
            "district                      object\n",
            "stop_datetime         datetime64[ns]\n",
            "dtype: object\n"
          ],
          "name": "stdout"
        }
      ]
    },
    {
      "cell_type": "markdown",
      "metadata": {
        "id": "rQIORk2seqil",
        "colab_type": "text"
      },
      "source": [
        "## Setting the index"
      ]
    },
    {
      "cell_type": "code",
      "metadata": {
        "id": "jO4RHjzAfVQH",
        "colab_type": "code",
        "colab": {
          "base_uri": "https://localhost:8080/",
          "height": 233
        },
        "outputId": "8f9427ea-ef4d-4807-e8f4-eab1e5d7f68a"
      },
      "source": [
        "# Set 'stop_datetime' as the index\n",
        "ri.set_index('stop_datetime', inplace=True)\n",
        "\n",
        "# Examine the index\n",
        "print(ri.index)"
      ],
      "execution_count": null,
      "outputs": [
        {
          "output_type": "stream",
          "text": [
            "DatetimeIndex(['2005-01-04 12:55:00', '2005-01-23 23:15:00',\n",
            "               '2005-02-17 04:15:00', '2005-02-20 17:15:00',\n",
            "               '2005-02-24 01:20:00', '2005-03-14 10:00:00',\n",
            "               '2005-03-29 21:55:00', '2005-04-04 21:25:00',\n",
            "               '2005-07-14 11:20:00', '2005-07-14 19:55:00',\n",
            "               ...\n",
            "               '2015-12-31 13:23:00', '2015-12-31 18:59:00',\n",
            "               '2015-12-31 19:13:00', '2015-12-31 20:20:00',\n",
            "               '2015-12-31 20:50:00', '2015-12-31 21:21:00',\n",
            "               '2015-12-31 21:59:00', '2015-12-31 22:04:00',\n",
            "               '2015-12-31 22:09:00', '2015-12-31 22:47:00'],\n",
            "              dtype='datetime64[ns]', name='stop_datetime', length=86536, freq=None)\n"
          ],
          "name": "stdout"
        }
      ]
    },
    {
      "cell_type": "code",
      "metadata": {
        "id": "uzy_muKJfXDD",
        "colab_type": "code",
        "colab": {
          "base_uri": "https://localhost:8080/",
          "height": 107
        },
        "outputId": "f64a2cbf-2631-4ffb-e4cb-a5b6ad502338"
      },
      "source": [
        "# Examine the columns\n",
        "print(ri.columns)"
      ],
      "execution_count": null,
      "outputs": [
        {
          "output_type": "stream",
          "text": [
            "Index(['stop_date', 'stop_time', 'driver_gender', 'driver_race',\n",
            "       'violation_raw', 'violation', 'search_conducted', 'search_type',\n",
            "       'stop_outcome', 'is_arrested', 'stop_duration', 'drugs_related_stop',\n",
            "       'district'],\n",
            "      dtype='object')\n"
          ],
          "name": "stdout"
        }
      ]
    },
    {
      "cell_type": "markdown",
      "metadata": {
        "id": "Iaa7gtp8endb",
        "colab_type": "text"
      },
      "source": [
        "## **Exploring the relationship between gender and policing**"
      ]
    },
    {
      "cell_type": "markdown",
      "metadata": {
        "id": "XvlrE2ynfUPD",
        "colab_type": "text"
      },
      "source": [
        "# Do the genders commit different violations?\n",
        "## Examing traffic violations"
      ]
    },
    {
      "cell_type": "code",
      "metadata": {
        "id": "VAnBY-hSf8Ai",
        "colab_type": "code",
        "colab": {
          "base_uri": "https://localhost:8080/",
          "height": 143
        },
        "outputId": "b0497634-4733-4b85-b908-e4d13b218922"
      },
      "source": [
        "# Count the unique values in 'violation'\n",
        "print(ri.violation.value_counts())"
      ],
      "execution_count": null,
      "outputs": [
        {
          "output_type": "stream",
          "text": [
            "Speeding               48423\n",
            "Moving violation       16224\n",
            "Equipment              10921\n",
            "Other                   4409\n",
            "Registration/plates     3703\n",
            "Seat belt               2856\n",
            "Name: violation, dtype: int64\n"
          ],
          "name": "stdout"
        }
      ]
    },
    {
      "cell_type": "code",
      "metadata": {
        "id": "ryZwXH58gWlG",
        "colab_type": "code",
        "colab": {
          "base_uri": "https://localhost:8080/",
          "height": 143
        },
        "outputId": "6119f620-e10e-4f60-c590-91e53bf368f4"
      },
      "source": [
        "# Express the counts as proportions\n",
        "print(ri.violation.value_counts(normalize=True))"
      ],
      "execution_count": null,
      "outputs": [
        {
          "output_type": "stream",
          "text": [
            "Speeding               0.559571\n",
            "Moving violation       0.187483\n",
            "Equipment              0.126202\n",
            "Other                  0.050950\n",
            "Registration/plates    0.042791\n",
            "Seat belt              0.033004\n",
            "Name: violation, dtype: float64\n"
          ],
          "name": "stdout"
        }
      ]
    },
    {
      "cell_type": "markdown",
      "metadata": {
        "id": "py3IOHMkgl7d",
        "colab_type": "text"
      },
      "source": [
        "## Comparing violations by gender"
      ]
    },
    {
      "cell_type": "code",
      "metadata": {
        "id": "ul__sGoighMu",
        "colab_type": "code",
        "colab": {}
      },
      "source": [
        "# Create a DataFrame of female drivers\n",
        "female = ri[ri.driver_gender == 'F']\n",
        "\n",
        "# Create a DataFrame of male drivers\n",
        "male = ri[ri.driver_gender == 'M']"
      ],
      "execution_count": null,
      "outputs": []
    },
    {
      "cell_type": "code",
      "metadata": {
        "id": "Wrs1l8WCg9kH",
        "colab_type": "code",
        "colab": {
          "base_uri": "https://localhost:8080/",
          "height": 143
        },
        "outputId": "d14e5e29-6df2-4620-f1b3-8fd780b15649"
      },
      "source": [
        "# Computer the violations by female drivers(as proportions)\n",
        "print(female.violation.value_counts(normalize=True))"
      ],
      "execution_count": null,
      "outputs": [
        {
          "output_type": "stream",
          "text": [
            "Speeding               0.658114\n",
            "Moving violation       0.138218\n",
            "Equipment              0.105199\n",
            "Registration/plates    0.044418\n",
            "Other                  0.029738\n",
            "Seat belt              0.024312\n",
            "Name: violation, dtype: float64\n"
          ],
          "name": "stdout"
        }
      ]
    },
    {
      "cell_type": "code",
      "metadata": {
        "id": "gmdx51QEhJIW",
        "colab_type": "code",
        "colab": {
          "base_uri": "https://localhost:8080/",
          "height": 143
        },
        "outputId": "2c8b3774-c36c-4a7a-ff36-cb972a02ef1f"
      },
      "source": [
        "# Compute the violations by male drivers(as proportions)\n",
        "print(male.violation.value_counts(normalize=True))"
      ],
      "execution_count": null,
      "outputs": [
        {
          "output_type": "stream",
          "text": [
            "Speeding               0.522243\n",
            "Moving violation       0.206144\n",
            "Equipment              0.134158\n",
            "Other                  0.058985\n",
            "Registration/plates    0.042175\n",
            "Seat belt              0.036296\n",
            "Name: violation, dtype: float64\n"
          ],
          "name": "stdout"
        }
      ]
    },
    {
      "cell_type": "markdown",
      "metadata": {
        "id": "gcg69mbfhYHV",
        "colab_type": "text"
      },
      "source": [
        "# Does gender affect who gets ticket for speeding?\n",
        "## Filting by multiple conditions"
      ]
    },
    {
      "cell_type": "code",
      "metadata": {
        "id": "HDF5grTLhU4h",
        "colab_type": "code",
        "colab": {
          "base_uri": "https://localhost:8080/",
          "height": 640
        },
        "outputId": "9d78ee76-acac-4f3c-d2f3-124be787f44d"
      },
      "source": [
        "# female drivers who were stopped for a speeding violation\n",
        "ri[(ri.driver_gender == 'F') & (ri.violation == 'Speeding')]"
      ],
      "execution_count": null,
      "outputs": [
        {
          "output_type": "execute_result",
          "data": {
            "text/html": [
              "<div>\n",
              "<style scoped>\n",
              "    .dataframe tbody tr th:only-of-type {\n",
              "        vertical-align: middle;\n",
              "    }\n",
              "\n",
              "    .dataframe tbody tr th {\n",
              "        vertical-align: top;\n",
              "    }\n",
              "\n",
              "    .dataframe thead th {\n",
              "        text-align: right;\n",
              "    }\n",
              "</style>\n",
              "<table border=\"1\" class=\"dataframe\">\n",
              "  <thead>\n",
              "    <tr style=\"text-align: right;\">\n",
              "      <th></th>\n",
              "      <th>stop_date</th>\n",
              "      <th>stop_time</th>\n",
              "      <th>driver_gender</th>\n",
              "      <th>driver_race</th>\n",
              "      <th>violation_raw</th>\n",
              "      <th>violation</th>\n",
              "      <th>search_conducted</th>\n",
              "      <th>search_type</th>\n",
              "      <th>stop_outcome</th>\n",
              "      <th>is_arrested</th>\n",
              "      <th>stop_duration</th>\n",
              "      <th>drugs_related_stop</th>\n",
              "      <th>district</th>\n",
              "    </tr>\n",
              "    <tr>\n",
              "      <th>stop_datetime</th>\n",
              "      <th></th>\n",
              "      <th></th>\n",
              "      <th></th>\n",
              "      <th></th>\n",
              "      <th></th>\n",
              "      <th></th>\n",
              "      <th></th>\n",
              "      <th></th>\n",
              "      <th></th>\n",
              "      <th></th>\n",
              "      <th></th>\n",
              "      <th></th>\n",
              "      <th></th>\n",
              "    </tr>\n",
              "  </thead>\n",
              "  <tbody>\n",
              "    <tr>\n",
              "      <th>2005-02-24 01:20:00</th>\n",
              "      <td>2005-02-24</td>\n",
              "      <td>01:20</td>\n",
              "      <td>F</td>\n",
              "      <td>White</td>\n",
              "      <td>Speeding</td>\n",
              "      <td>Speeding</td>\n",
              "      <td>False</td>\n",
              "      <td>NaN</td>\n",
              "      <td>Citation</td>\n",
              "      <td>False</td>\n",
              "      <td>0-15 Min</td>\n",
              "      <td>False</td>\n",
              "      <td>Zone X3</td>\n",
              "    </tr>\n",
              "    <tr>\n",
              "      <th>2005-03-14 10:00:00</th>\n",
              "      <td>2005-03-14</td>\n",
              "      <td>10:00</td>\n",
              "      <td>F</td>\n",
              "      <td>White</td>\n",
              "      <td>Speeding</td>\n",
              "      <td>Speeding</td>\n",
              "      <td>False</td>\n",
              "      <td>NaN</td>\n",
              "      <td>Citation</td>\n",
              "      <td>False</td>\n",
              "      <td>0-15 Min</td>\n",
              "      <td>False</td>\n",
              "      <td>Zone K3</td>\n",
              "    </tr>\n",
              "    <tr>\n",
              "      <th>2005-07-14 11:20:00</th>\n",
              "      <td>2005-07-14</td>\n",
              "      <td>11:20</td>\n",
              "      <td>F</td>\n",
              "      <td>White</td>\n",
              "      <td>Speeding</td>\n",
              "      <td>Speeding</td>\n",
              "      <td>False</td>\n",
              "      <td>NaN</td>\n",
              "      <td>Citation</td>\n",
              "      <td>False</td>\n",
              "      <td>0-15 Min</td>\n",
              "      <td>False</td>\n",
              "      <td>Zone X4</td>\n",
              "    </tr>\n",
              "    <tr>\n",
              "      <th>2005-07-18 19:30:00</th>\n",
              "      <td>2005-07-18</td>\n",
              "      <td>19:30</td>\n",
              "      <td>F</td>\n",
              "      <td>White</td>\n",
              "      <td>Speeding</td>\n",
              "      <td>Speeding</td>\n",
              "      <td>False</td>\n",
              "      <td>NaN</td>\n",
              "      <td>Citation</td>\n",
              "      <td>False</td>\n",
              "      <td>0-15 Min</td>\n",
              "      <td>False</td>\n",
              "      <td>Zone K3</td>\n",
              "    </tr>\n",
              "    <tr>\n",
              "      <th>2005-07-24 20:10:00</th>\n",
              "      <td>2005-07-24</td>\n",
              "      <td>20:10</td>\n",
              "      <td>F</td>\n",
              "      <td>White</td>\n",
              "      <td>Speeding</td>\n",
              "      <td>Speeding</td>\n",
              "      <td>False</td>\n",
              "      <td>NaN</td>\n",
              "      <td>Citation</td>\n",
              "      <td>False</td>\n",
              "      <td>0-15 Min</td>\n",
              "      <td>False</td>\n",
              "      <td>Zone K3</td>\n",
              "    </tr>\n",
              "    <tr>\n",
              "      <th>...</th>\n",
              "      <td>...</td>\n",
              "      <td>...</td>\n",
              "      <td>...</td>\n",
              "      <td>...</td>\n",
              "      <td>...</td>\n",
              "      <td>...</td>\n",
              "      <td>...</td>\n",
              "      <td>...</td>\n",
              "      <td>...</td>\n",
              "      <td>...</td>\n",
              "      <td>...</td>\n",
              "      <td>...</td>\n",
              "      <td>...</td>\n",
              "    </tr>\n",
              "    <tr>\n",
              "      <th>2015-12-30 14:09:00</th>\n",
              "      <td>2015-12-30</td>\n",
              "      <td>14:09</td>\n",
              "      <td>F</td>\n",
              "      <td>White</td>\n",
              "      <td>Speeding</td>\n",
              "      <td>Speeding</td>\n",
              "      <td>False</td>\n",
              "      <td>NaN</td>\n",
              "      <td>Warning</td>\n",
              "      <td>False</td>\n",
              "      <td>0-15 Min</td>\n",
              "      <td>False</td>\n",
              "      <td>Zone X4</td>\n",
              "    </tr>\n",
              "    <tr>\n",
              "      <th>2015-12-30 19:21:00</th>\n",
              "      <td>2015-12-30</td>\n",
              "      <td>19:21</td>\n",
              "      <td>F</td>\n",
              "      <td>White</td>\n",
              "      <td>Speeding</td>\n",
              "      <td>Speeding</td>\n",
              "      <td>False</td>\n",
              "      <td>NaN</td>\n",
              "      <td>Warning</td>\n",
              "      <td>False</td>\n",
              "      <td>0-15 Min</td>\n",
              "      <td>False</td>\n",
              "      <td>Zone X1</td>\n",
              "    </tr>\n",
              "    <tr>\n",
              "      <th>2015-12-30 23:26:00</th>\n",
              "      <td>2015-12-30</td>\n",
              "      <td>23:26</td>\n",
              "      <td>F</td>\n",
              "      <td>Hispanic</td>\n",
              "      <td>Speeding</td>\n",
              "      <td>Speeding</td>\n",
              "      <td>False</td>\n",
              "      <td>NaN</td>\n",
              "      <td>Citation</td>\n",
              "      <td>False</td>\n",
              "      <td>0-15 Min</td>\n",
              "      <td>False</td>\n",
              "      <td>Zone X4</td>\n",
              "    </tr>\n",
              "    <tr>\n",
              "      <th>2015-12-31 07:31:00</th>\n",
              "      <td>2015-12-31</td>\n",
              "      <td>07:31</td>\n",
              "      <td>F</td>\n",
              "      <td>White</td>\n",
              "      <td>Speeding</td>\n",
              "      <td>Speeding</td>\n",
              "      <td>False</td>\n",
              "      <td>NaN</td>\n",
              "      <td>Citation</td>\n",
              "      <td>False</td>\n",
              "      <td>0-15 Min</td>\n",
              "      <td>False</td>\n",
              "      <td>Zone X1</td>\n",
              "    </tr>\n",
              "    <tr>\n",
              "      <th>2015-12-31 21:59:00</th>\n",
              "      <td>2015-12-31</td>\n",
              "      <td>21:59</td>\n",
              "      <td>F</td>\n",
              "      <td>White</td>\n",
              "      <td>Speeding</td>\n",
              "      <td>Speeding</td>\n",
              "      <td>False</td>\n",
              "      <td>NaN</td>\n",
              "      <td>Citation</td>\n",
              "      <td>False</td>\n",
              "      <td>0-15 Min</td>\n",
              "      <td>False</td>\n",
              "      <td>Zone K3</td>\n",
              "    </tr>\n",
              "  </tbody>\n",
              "</table>\n",
              "<p>15646 rows × 13 columns</p>\n",
              "</div>"
            ],
            "text/plain": [
              "                      stop_date stop_time  ... drugs_related_stop district\n",
              "stop_datetime                              ...                            \n",
              "2005-02-24 01:20:00  2005-02-24     01:20  ...              False  Zone X3\n",
              "2005-03-14 10:00:00  2005-03-14     10:00  ...              False  Zone K3\n",
              "2005-07-14 11:20:00  2005-07-14     11:20  ...              False  Zone X4\n",
              "2005-07-18 19:30:00  2005-07-18     19:30  ...              False  Zone K3\n",
              "2005-07-24 20:10:00  2005-07-24     20:10  ...              False  Zone K3\n",
              "...                         ...       ...  ...                ...      ...\n",
              "2015-12-30 14:09:00  2015-12-30     14:09  ...              False  Zone X4\n",
              "2015-12-30 19:21:00  2015-12-30     19:21  ...              False  Zone X1\n",
              "2015-12-30 23:26:00  2015-12-30     23:26  ...              False  Zone X4\n",
              "2015-12-31 07:31:00  2015-12-31     07:31  ...              False  Zone X1\n",
              "2015-12-31 21:59:00  2015-12-31     21:59  ...              False  Zone K3\n",
              "\n",
              "[15646 rows x 13 columns]"
            ]
          },
          "metadata": {
            "tags": []
          },
          "execution_count": 37
        }
      ]
    },
    {
      "cell_type": "markdown",
      "metadata": {
        "id": "ocxo0wlyh8a-",
        "colab_type": "text"
      },
      "source": [
        "## Comparing speeding outcomes by gender"
      ]
    },
    {
      "cell_type": "code",
      "metadata": {
        "id": "AoELuhwEhxyh",
        "colab_type": "code",
        "colab": {}
      },
      "source": [
        "# Create a DataFrame of female drivers stopped for speeding\n",
        "female_and_speeding = ri[(ri.driver_gender == 'F') & (ri.violation == 'Speeding')]\n",
        "\n",
        "# Create a DataFrame of male drivers stopped for speeding\n",
        "male_and_speeding = ri[(ri.driver_gender == 'M') & (ri.violation == 'Speeding')]"
      ],
      "execution_count": null,
      "outputs": []
    },
    {
      "cell_type": "code",
      "metadata": {
        "id": "gMLcmmjCibDF",
        "colab_type": "code",
        "colab": {
          "base_uri": "https://localhost:8080/",
          "height": 143
        },
        "outputId": "3d130884-a3aa-412a-d335-d8e8281f448f"
      },
      "source": [
        "# Compute the stop outcome for felame drivers (as proportions)\n",
        "print(female_and_speeding.stop_outcome.value_counts(normalize=True))"
      ],
      "execution_count": null,
      "outputs": [
        {
          "output_type": "stream",
          "text": [
            "Citation            0.952192\n",
            "Warning             0.040074\n",
            "Arrest Driver       0.005752\n",
            "N/D                 0.000959\n",
            "Arrest Passenger    0.000639\n",
            "No Action           0.000383\n",
            "Name: stop_outcome, dtype: float64\n"
          ],
          "name": "stdout"
        }
      ]
    },
    {
      "cell_type": "code",
      "metadata": {
        "id": "SG_QV7Erik2u",
        "colab_type": "code",
        "colab": {
          "base_uri": "https://localhost:8080/",
          "height": 143
        },
        "outputId": "01af3f03-93de-4f6b-d5df-9cded24e772a"
      },
      "source": [
        "# Compute the stop outcomes for male drivers (as proportions)\n",
        "print(male_and_speeding.stop_outcome.value_counts(normalize=True))"
      ],
      "execution_count": null,
      "outputs": [
        {
          "output_type": "stream",
          "text": [
            "Citation            0.944595\n",
            "Warning             0.036184\n",
            "Arrest Driver       0.015895\n",
            "Arrest Passenger    0.001281\n",
            "No Action           0.001068\n",
            "N/D                 0.000976\n",
            "Name: stop_outcome, dtype: float64\n"
          ],
          "name": "stdout"
        }
      ]
    },
    {
      "cell_type": "markdown",
      "metadata": {
        "id": "3rzkDYPBi7x-",
        "colab_type": "text"
      },
      "source": [
        "# Does gender affect whose vehicle is searched?\n",
        "## Calculating the search rate"
      ]
    },
    {
      "cell_type": "code",
      "metadata": {
        "id": "-FgXB2Mri2gz",
        "colab_type": "code",
        "colab": {
          "base_uri": "https://localhost:8080/",
          "height": 35
        },
        "outputId": "3279e431-47a5-4e70-a4f1-fb110efdbd75"
      },
      "source": [
        "# Check the data type of 'search_conducted'\n",
        "print(ri.search_conducted.dtypes)"
      ],
      "execution_count": null,
      "outputs": [
        {
          "output_type": "stream",
          "text": [
            "bool\n"
          ],
          "name": "stdout"
        }
      ]
    },
    {
      "cell_type": "code",
      "metadata": {
        "id": "-iivh00sjScI",
        "colab_type": "code",
        "colab": {
          "base_uri": "https://localhost:8080/",
          "height": 71
        },
        "outputId": "888ceaf7-ddc5-4c97-ea22-d9e3f7c7f34e"
      },
      "source": [
        "# Calculate the search rate by counting the values\n",
        "print(ri.search_conducted.value_counts(normalize=True))"
      ],
      "execution_count": null,
      "outputs": [
        {
          "output_type": "stream",
          "text": [
            "False    0.961785\n",
            "True     0.038215\n",
            "Name: search_conducted, dtype: float64\n"
          ],
          "name": "stdout"
        }
      ]
    },
    {
      "cell_type": "code",
      "metadata": {
        "id": "cpSFchUDjbPL",
        "colab_type": "code",
        "colab": {
          "base_uri": "https://localhost:8080/",
          "height": 35
        },
        "outputId": "27c76648-abbe-4e55-e19f-cebc5feaacce"
      },
      "source": [
        "# Calculate the search rate by taking the mean\n",
        "print(ri.search_conducted.mean())"
      ],
      "execution_count": null,
      "outputs": [
        {
          "output_type": "stream",
          "text": [
            "0.0382153092354627\n"
          ],
          "name": "stdout"
        }
      ]
    },
    {
      "cell_type": "markdown",
      "metadata": {
        "id": "Au19_Ta9jvgm",
        "colab_type": "text"
      },
      "source": [
        "## Comparing search rates by gender"
      ]
    },
    {
      "cell_type": "code",
      "metadata": {
        "id": "Ff7ZGvYrjtB5",
        "colab_type": "code",
        "colab": {
          "base_uri": "https://localhost:8080/",
          "height": 35
        },
        "outputId": "da61d5ef-d32f-4cad-b0d0-07ca53d08c4b"
      },
      "source": [
        "# Calculate the search rate for female drivers\n",
        "print(ri[ri.driver_gender == 'F'].search_conducted.mean())"
      ],
      "execution_count": null,
      "outputs": [
        {
          "output_type": "stream",
          "text": [
            "0.019180617481282074\n"
          ],
          "name": "stdout"
        }
      ]
    },
    {
      "cell_type": "markdown",
      "metadata": {
        "id": "FsLTo4ppkI8N",
        "colab_type": "text"
      },
      "source": [
        "## Adding a second factor to the analysis"
      ]
    },
    {
      "cell_type": "code",
      "metadata": {
        "id": "NAmcm5jGj-Py",
        "colab_type": "code",
        "colab": {
          "base_uri": "https://localhost:8080/",
          "height": 269
        },
        "outputId": "fe2ad43b-b932-4db6-fbc1-84d9fea4d64e"
      },
      "source": [
        "# Calculate the search rate for each combination of gender and violation\n",
        "print(ri.groupby(['driver_gender', 'violation']).search_conducted.mean())"
      ],
      "execution_count": null,
      "outputs": [
        {
          "output_type": "stream",
          "text": [
            "driver_gender  violation          \n",
            "F              Equipment              0.039984\n",
            "               Moving violation       0.039257\n",
            "               Other                  0.041018\n",
            "               Registration/plates    0.054924\n",
            "               Seat belt              0.017301\n",
            "               Speeding               0.008309\n",
            "M              Equipment              0.071496\n",
            "               Moving violation       0.061524\n",
            "               Other                  0.046191\n",
            "               Registration/plates    0.108802\n",
            "               Seat belt              0.035119\n",
            "               Speeding               0.027885\n",
            "Name: search_conducted, dtype: float64\n"
          ],
          "name": "stdout"
        }
      ]
    },
    {
      "cell_type": "markdown",
      "metadata": {
        "id": "UemoSwUjkgip",
        "colab_type": "text"
      },
      "source": [
        "# Does gender affect who is frisked during a search?\n",
        "## Counting protective frisks"
      ]
    },
    {
      "cell_type": "code",
      "metadata": {
        "id": "7WoR4O_Bkaad",
        "colab_type": "code",
        "colab": {
          "base_uri": "https://localhost:8080/",
          "height": 485
        },
        "outputId": "e9f17c60-a599-4004-e7d3-c79fac98c3ad"
      },
      "source": [
        "# Count the 'search_type' values\n",
        "print(ri.search_type.value_counts())"
      ],
      "execution_count": null,
      "outputs": [
        {
          "output_type": "stream",
          "text": [
            "Incident to Arrest                                          1290\n",
            "Probable Cause                                               924\n",
            "Inventory                                                    219\n",
            "Reasonable Suspicion                                         214\n",
            "Protective Frisk                                             164\n",
            "Incident to Arrest,Inventory                                 123\n",
            "Incident to Arrest,Probable Cause                            100\n",
            "Probable Cause,Reasonable Suspicion                           54\n",
            "Incident to Arrest,Inventory,Probable Cause                   35\n",
            "Probable Cause,Protective Frisk                               35\n",
            "Incident to Arrest,Protective Frisk                           33\n",
            "Inventory,Probable Cause                                      25\n",
            "Protective Frisk,Reasonable Suspicion                         19\n",
            "Incident to Arrest,Inventory,Protective Frisk                 18\n",
            "Incident to Arrest,Probable Cause,Protective Frisk            13\n",
            "Inventory,Protective Frisk                                    12\n",
            "Incident to Arrest,Reasonable Suspicion                        8\n",
            "Incident to Arrest,Probable Cause,Reasonable Suspicion         5\n",
            "Probable Cause,Protective Frisk,Reasonable Suspicion           5\n",
            "Incident to Arrest,Inventory,Reasonable Suspicion              4\n",
            "Inventory,Reasonable Suspicion                                 2\n",
            "Incident to Arrest,Protective Frisk,Reasonable Suspicion       2\n",
            "Inventory,Protective Frisk,Reasonable Suspicion                1\n",
            "Inventory,Probable Cause,Reasonable Suspicion                  1\n",
            "Inventory,Probable Cause,Protective Frisk                      1\n",
            "Name: search_type, dtype: int64\n"
          ],
          "name": "stdout"
        }
      ]
    },
    {
      "cell_type": "code",
      "metadata": {
        "id": "UhuL6hbkk2CA",
        "colab_type": "code",
        "colab": {}
      },
      "source": [
        "# Check if 'search_type' contains the string 'Protective Frisk'\n",
        "ri['frisk'] = ri.search_type.str.contains('Protective Frisk', na=False)"
      ],
      "execution_count": null,
      "outputs": []
    },
    {
      "cell_type": "code",
      "metadata": {
        "id": "j4tT9QlFlGqZ",
        "colab_type": "code",
        "colab": {
          "base_uri": "https://localhost:8080/",
          "height": 35
        },
        "outputId": "095d6be2-fe22-4e7c-d00f-e524f120f58e"
      },
      "source": [
        "# Check the data type of 'frisk'\n",
        "print(ri['frisk'].dtypes)"
      ],
      "execution_count": null,
      "outputs": [
        {
          "output_type": "stream",
          "text": [
            "bool\n"
          ],
          "name": "stdout"
        }
      ]
    },
    {
      "cell_type": "code",
      "metadata": {
        "id": "OUjEcaU5lOI9",
        "colab_type": "code",
        "colab": {
          "base_uri": "https://localhost:8080/",
          "height": 35
        },
        "outputId": "2a6d95f9-d765-4b5b-92c3-a8bc4e408251"
      },
      "source": [
        "# Tke the sum of 'frisk'\n",
        "print(ri['frisk'].sum())"
      ],
      "execution_count": null,
      "outputs": [
        {
          "output_type": "stream",
          "text": [
            "303\n"
          ],
          "name": "stdout"
        }
      ]
    },
    {
      "cell_type": "markdown",
      "metadata": {
        "id": "nxlyNa90lVy6",
        "colab_type": "text"
      },
      "source": [
        "## Comparing frisk rates by gender"
      ]
    },
    {
      "cell_type": "code",
      "metadata": {
        "id": "68ExjcJplTma",
        "colab_type": "code",
        "colab": {
          "base_uri": "https://localhost:8080/",
          "height": 35
        },
        "outputId": "d9f510ba-7ad6-471f-b470-17cac786ba2d"
      },
      "source": [
        "# Create a DataFrame of stops in which a search was conducted\n",
        "searched = ri[ri.search_conducted == True]\n",
        "\n",
        "# Calculate the overall frisk rate by taking the mean of 'frisk'\n",
        "print(searched.frisk.mean())"
      ],
      "execution_count": null,
      "outputs": [
        {
          "output_type": "stream",
          "text": [
            "0.09162382824312065\n"
          ],
          "name": "stdout"
        }
      ]
    },
    {
      "cell_type": "code",
      "metadata": {
        "id": "kR1jzSDdlsSC",
        "colab_type": "code",
        "colab": {
          "base_uri": "https://localhost:8080/",
          "height": 89
        },
        "outputId": "d9c603bf-03e4-4144-cae7-43c406c55076"
      },
      "source": [
        "# Calculate the frisk rate for each gender\n",
        "print(searched.groupby('driver_gender').frisk.mean())"
      ],
      "execution_count": null,
      "outputs": [
        {
          "output_type": "stream",
          "text": [
            "driver_gender\n",
            "F    0.074561\n",
            "M    0.094353\n",
            "Name: frisk, dtype: float64\n"
          ],
          "name": "stdout"
        }
      ]
    },
    {
      "cell_type": "markdown",
      "metadata": {
        "id": "z1REc4iXrFbe",
        "colab_type": "text"
      },
      "source": [
        "#**Visual exploratory data analysis**"
      ]
    },
    {
      "cell_type": "markdown",
      "metadata": {
        "id": "UZC3tnQrrOSb",
        "colab_type": "text"
      },
      "source": [
        "# Does time of day affect arrest rate?\n",
        "## Calculating the hourly arrest rate"
      ]
    },
    {
      "cell_type": "code",
      "metadata": {
        "id": "rmWyu8lklzZT",
        "colab_type": "code",
        "colab": {
          "base_uri": "https://localhost:8080/",
          "height": 35
        },
        "outputId": "ae27f56b-f217-43a8-c40a-4bdf9ec5bc26"
      },
      "source": [
        "# Calculate the overall arrest rate\n",
        "print(ri.is_arrested.mean())"
      ],
      "execution_count": null,
      "outputs": [
        {
          "output_type": "stream",
          "text": [
            "0.0355690117407784\n"
          ],
          "name": "stdout"
        }
      ]
    },
    {
      "cell_type": "code",
      "metadata": {
        "id": "lqTMHxckrb5X",
        "colab_type": "code",
        "colab": {
          "base_uri": "https://localhost:8080/",
          "height": 485
        },
        "outputId": "9a712005-269a-4f03-dee0-2831073d42f6"
      },
      "source": [
        "# Calculate the hourly arrest rate\n",
        "print(ri.groupby(ri.index.hour).is_arrested.mean())"
      ],
      "execution_count": null,
      "outputs": [
        {
          "output_type": "stream",
          "text": [
            "stop_datetime\n",
            "0     0.051431\n",
            "1     0.064932\n",
            "2     0.060798\n",
            "3     0.060549\n",
            "4     0.048000\n",
            "5     0.042781\n",
            "6     0.013813\n",
            "7     0.013032\n",
            "8     0.021854\n",
            "9     0.025206\n",
            "10    0.028213\n",
            "11    0.028897\n",
            "12    0.037399\n",
            "13    0.030776\n",
            "14    0.030605\n",
            "15    0.030679\n",
            "16    0.035281\n",
            "17    0.040619\n",
            "18    0.038204\n",
            "19    0.032245\n",
            "20    0.038107\n",
            "21    0.064541\n",
            "22    0.048666\n",
            "23    0.047592\n",
            "Name: is_arrested, dtype: float64\n"
          ],
          "name": "stdout"
        }
      ]
    },
    {
      "cell_type": "code",
      "metadata": {
        "id": "KsnkXzdjrhyn",
        "colab_type": "code",
        "colab": {}
      },
      "source": [
        "# Save the hourly arrest rate\n",
        "hourly_arrest_rate = ri.groupby(ri.index.hour).is_arrested.mean()"
      ],
      "execution_count": null,
      "outputs": []
    },
    {
      "cell_type": "markdown",
      "metadata": {
        "id": "w2gIHgm1rrny",
        "colab_type": "text"
      },
      "source": [
        "## Plotting the hourly arrest rate"
      ]
    },
    {
      "cell_type": "code",
      "metadata": {
        "id": "YteoB7D1rpQb",
        "colab_type": "code",
        "colab": {}
      },
      "source": [
        "# Import matplotlib.pyplot as plt\n",
        "import matplotlib.pyplot as plt"
      ],
      "execution_count": null,
      "outputs": []
    },
    {
      "cell_type": "code",
      "metadata": {
        "id": "rc710ltrzqZr",
        "colab_type": "code",
        "colab": {
          "base_uri": "https://localhost:8080/",
          "height": 296
        },
        "outputId": "854559a1-c4b6-4a1c-8e4e-35f5a952e61a"
      },
      "source": [
        "# Add the xlabel, ylabel, and title\n",
        "plt.xlabel('Hout')\n",
        "plt.ylabel('Arrest Rate')\n",
        "plt.title('Arrest Rate by Time of Day')\n",
        "\n",
        "# Create a line plot of 'hourly_arrest_rate'\n",
        "hourly_arrest_rate.plot()\n",
        "\n",
        "#Display the plot\n",
        "plt.show()"
      ],
      "execution_count": null,
      "outputs": [
        {
          "output_type": "display_data",
          "data": {
            "image/png": "[encoded data removed]",
            "text/plain": [
              "<Figure size 432x288 with 1 Axes>"
            ]
          },
          "metadata": {
            "tags": [],
            "needs_background": "light"
          }
        }
      ]
    },
    {
      "cell_type": "markdown",
      "metadata": {
        "id": "dTba5PWW0hIj",
        "colab_type": "text"
      },
      "source": [
        "# Are drug-related stops on the rise?\n",
        "## Plotting drug-related stops"
      ]
    },
    {
      "cell_type": "code",
      "metadata": {
        "id": "VN_idb2wz_85",
        "colab_type": "code",
        "colab": {
          "base_uri": "https://localhost:8080/",
          "height": 251
        },
        "outputId": "8ae42406-4a7c-4137-93f9-cbe333f71845"
      },
      "source": [
        "# Calculate the anuual rate of drug-related stops\n",
        "print(ri.drugs_related_stop.resample('A').mean())"
      ],
      "execution_count": null,
      "outputs": [
        {
          "output_type": "stream",
          "text": [
            "stop_datetime\n",
            "2005-12-31    0.006501\n",
            "2006-12-31    0.007258\n",
            "2007-12-31    0.007970\n",
            "2008-12-31    0.007505\n",
            "2009-12-31    0.009889\n",
            "2010-12-31    0.010081\n",
            "2011-12-31    0.009731\n",
            "2012-12-31    0.009921\n",
            "2013-12-31    0.013094\n",
            "2014-12-31    0.013826\n",
            "2015-12-31    0.012266\n",
            "Freq: A-DEC, Name: drugs_related_stop, dtype: float64\n"
          ],
          "name": "stdout"
        }
      ]
    },
    {
      "cell_type": "code",
      "metadata": {
        "id": "lEge4-wA03RI",
        "colab_type": "code",
        "colab": {}
      },
      "source": [
        "# Save the annual rate of drug_related stops\n",
        "annual_drug_rate = ri.drugs_related_stop.resample('A').mean()"
      ],
      "execution_count": null,
      "outputs": []
    },
    {
      "cell_type": "code",
      "metadata": {
        "id": "82zX-ZI51Cw7",
        "colab_type": "code",
        "colab": {
          "base_uri": "https://localhost:8080/",
          "height": 280
        },
        "outputId": "3deba253-e9d1-4f5f-9ded-fca8e5d9b7fd"
      },
      "source": [
        "# Create a line plot of 'annual_drug_rate'\n",
        "annual_drug_rate.plot()\n",
        "\n",
        "# Display the plot\n",
        "plt.show()"
      ],
      "execution_count": null,
      "outputs": [
        {
          "output_type": "display_data",
          "data": {
            "image/png": "[encoded data removed]",
            "text/plain": [
              "<Figure size 432x288 with 1 Axes>"
            ]
          },
          "metadata": {
            "tags": [],
            "needs_background": "light"
          }
        }
      ]
    },
    {
      "cell_type": "markdown",
      "metadata": {
        "id": "Lts3dEEq1Td3",
        "colab_type": "text"
      },
      "source": [
        "## Comparing drug and search rates"
      ]
    },
    {
      "cell_type": "code",
      "metadata": {
        "id": "m-xJEx_P1Mmo",
        "colab_type": "code",
        "colab": {}
      },
      "source": [
        "# Calculate and save the annual search rate\n",
        "annual_search_rate = ri.search_conducted.resample('A').mean()"
      ],
      "execution_count": null,
      "outputs": []
    },
    {
      "cell_type": "code",
      "metadata": {
        "id": "eo1LuJnT1zcx",
        "colab_type": "code",
        "colab": {}
      },
      "source": [
        "# Concatenate 'annual_drug_rate' and 'annual_search_rate'\n",
        "annual = pd.concat([annual_drug_rate, annual_search_rate], axis='columns')"
      ],
      "execution_count": null,
      "outputs": []
    },
    {
      "cell_type": "code",
      "metadata": {
        "id": "mt8Ly5Ht2e2c",
        "colab_type": "code",
        "colab": {
          "base_uri": "https://localhost:8080/",
          "height": 270
        },
        "outputId": "ed032399-74f4-4cd8-f12d-7cf28cc764c6"
      },
      "source": [
        "# Create subplots from 'annual'\n",
        "annual.plot(subplots=True)\n",
        "\n",
        "plt.show()"
      ],
      "execution_count": null,
      "outputs": [
        {
          "output_type": "display_data",
          "data": {
            "image/png": "[encoded data removed]",
            "text/plain": [
              "<Figure size 432x288 with 2 Axes>"
            ]
          },
          "metadata": {
            "tags": [],
            "needs_background": "light"
          }
        }
      ]
    },
    {
      "cell_type": "markdown",
      "metadata": {
        "id": "dBCcjfdW24FX",
        "colab_type": "text"
      },
      "source": [
        "# What violations are caught in each district?\n",
        "## Tallying violations by district"
      ]
    },
    {
      "cell_type": "code",
      "metadata": {
        "id": "PmznPG3R2lIH",
        "colab_type": "code",
        "colab": {
          "base_uri": "https://localhost:8080/",
          "height": 197
        },
        "outputId": "4fd19127-e6e9-4983-fc8b-3342a00cb230"
      },
      "source": [
        "# Create a frequency table of districts and violations\n",
        "print(pd.crosstab(ri.district, ri.violation))"
      ],
      "execution_count": null,
      "outputs": [
        {
          "output_type": "stream",
          "text": [
            "violation  Equipment  Moving violation  ...  Seat belt  Speeding\n",
            "district                                ...                     \n",
            "Zone K1          672              1254  ...          0      5960\n",
            "Zone K2         2061              2962  ...        481     10448\n",
            "Zone K3         2302              2898  ...        638     12322\n",
            "Zone X1          296               671  ...         74      1119\n",
            "Zone X3         2049              3086  ...        820      8779\n",
            "Zone X4         3541              5353  ...        843      9795\n",
            "\n",
            "[6 rows x 6 columns]\n"
          ],
          "name": "stdout"
        }
      ]
    },
    {
      "cell_type": "code",
      "metadata": {
        "id": "3stS9IhU3I3X",
        "colab_type": "code",
        "colab": {}
      },
      "source": [
        "# Save the frequency table as 'all_zones'\n",
        "all_zones = pd.crosstab(ri.district, ri.violation)"
      ],
      "execution_count": null,
      "outputs": []
    },
    {
      "cell_type": "code",
      "metadata": {
        "id": "2iqvwy-W3W9O",
        "colab_type": "code",
        "colab": {
          "base_uri": "https://localhost:8080/",
          "height": 143
        },
        "outputId": "6b247902-af59-49b1-f0f6-a2cbab90d92f"
      },
      "source": [
        "# Select rows 'Zone K1' through 'Zone K3'\n",
        "print(all_zones.loc['Zone K1' : 'Zone K3'])"
      ],
      "execution_count": null,
      "outputs": [
        {
          "output_type": "stream",
          "text": [
            "violation  Equipment  Moving violation  ...  Seat belt  Speeding\n",
            "district                                ...                     \n",
            "Zone K1          672              1254  ...          0      5960\n",
            "Zone K2         2061              2962  ...        481     10448\n",
            "Zone K3         2302              2898  ...        638     12322\n",
            "\n",
            "[3 rows x 6 columns]\n"
          ],
          "name": "stdout"
        }
      ]
    },
    {
      "cell_type": "code",
      "metadata": {
        "id": "p_-5-lnq3gpt",
        "colab_type": "code",
        "colab": {}
      },
      "source": [
        "# Save the smaller table as 'k_zones'\n",
        "k_zones = all_zones.loc['Zone K1' : 'Zone K3']"
      ],
      "execution_count": null,
      "outputs": []
    },
    {
      "cell_type": "markdown",
      "metadata": {
        "id": "9ZRIPH-V32L0",
        "colab_type": "text"
      },
      "source": [
        "## Plotting violations by district"
      ]
    },
    {
      "cell_type": "code",
      "metadata": {
        "id": "TnlhKlKn3zHi",
        "colab_type": "code",
        "colab": {
          "base_uri": "https://localhost:8080/",
          "height": 311
        },
        "outputId": "f05aba2f-9004-496e-80b1-4eea951f42e7"
      },
      "source": [
        "# Create a bar plot of 'k_zones'\n",
        "k_zones.plot(kind='bar')\n",
        "\n",
        "plt.show()"
      ],
      "execution_count": null,
      "outputs": [
        {
          "output_type": "display_data",
          "data": {
            "image/png": "[encoded data removed]",
            "text/plain": [
              "<Figure size 432x288 with 1 Axes>"
            ]
          },
          "metadata": {
            "tags": [],
            "needs_background": "light"
          }
        }
      ]
    },
    {
      "cell_type": "markdown",
      "metadata": {
        "id": "m2OKMOzA4HHi",
        "colab_type": "text"
      },
      "source": [
        "# How long might you be stopped for violation?\n",
        "## Converting stop durations to numbers"
      ]
    },
    {
      "cell_type": "code",
      "metadata": {
        "id": "o8rr3u9e4AvW",
        "colab_type": "code",
        "colab": {
          "base_uri": "https://localhost:8080/",
          "height": 35
        },
        "outputId": "33b6b882-e364-4bc5-ff5f-5f91c8872ff8"
      },
      "source": [
        "# Print the unique values in 'stop_duration'\n",
        "print(ri.stop_duration.unique())"
      ],
      "execution_count": null,
      "outputs": [
        {
          "output_type": "stream",
          "text": [
            "['0-15 Min' '16-30 Min' '30+ Min']\n"
          ],
          "name": "stdout"
        }
      ]
    },
    {
      "cell_type": "code",
      "metadata": {
        "id": "bfyY1tGx4VAP",
        "colab_type": "code",
        "colab": {
          "base_uri": "https://localhost:8080/",
          "height": 35
        },
        "outputId": "55d3840d-5e52-4a86-e269-11f0e229702f"
      },
      "source": [
        "# Create a dictionary that maps strings to integers\n",
        "mapping = {'0-15 Min':8, '16-30 Min':23, '30+ Min':45}\n",
        "\n",
        "# Convert the 'stop_duration' strings to integers using the 'mapping'\n",
        "ri['stop_minutes'] = ri.stop_duration.map(mapping)\n",
        "\n",
        "# Print the unique values in 'stop_minutes'\n",
        "print(ri.stop_minutes.unique())"
      ],
      "execution_count": null,
      "outputs": [
        {
          "output_type": "stream",
          "text": [
            "[ 8 23 45]\n"
          ],
          "name": "stdout"
        }
      ]
    },
    {
      "cell_type": "markdown",
      "metadata": {
        "id": "SfzwmbGU47Or",
        "colab_type": "text"
      },
      "source": [
        "## Plotting stop length"
      ]
    },
    {
      "cell_type": "code",
      "metadata": {
        "id": "p3B5qlAo4wFs",
        "colab_type": "code",
        "colab": {
          "base_uri": "https://localhost:8080/",
          "height": 269
        },
        "outputId": "a51849bf-4125-4074-a209-59c0040cb519"
      },
      "source": [
        "# Calculate the mean 'stop_minutes' for each value in 'violation_raw'\n",
        "print(ri.groupby('violation_raw').stop_minutes.mean())"
      ],
      "execution_count": null,
      "outputs": [
        {
          "output_type": "stream",
          "text": [
            "violation_raw\n",
            "APB                                 17.967033\n",
            "Call for Service                    22.124371\n",
            "Equipment/Inspection Violation      11.445655\n",
            "Motorist Assist/Courtesy            17.741463\n",
            "Other Traffic Violation             13.844490\n",
            "Registration Violation              13.736970\n",
            "Seatbelt Violation                   9.662815\n",
            "Special Detail/Directed Patrol      15.123632\n",
            "Speeding                            10.581562\n",
            "Suspicious Person                   14.910714\n",
            "Violation of City/Town Ordinance    13.254144\n",
            "Warrant                             24.055556\n",
            "Name: stop_minutes, dtype: float64\n"
          ],
          "name": "stdout"
        }
      ]
    },
    {
      "cell_type": "code",
      "metadata": {
        "id": "2BH7ZmRU5QXE",
        "colab_type": "code",
        "colab": {}
      },
      "source": [
        "# Save the resulting Series as 'stop_length'\n",
        "stop_length = ri.groupby('violation_raw').stop_minutes.mean()"
      ],
      "execution_count": null,
      "outputs": []
    },
    {
      "cell_type": "code",
      "metadata": {
        "id": "WCC4jneG5kwU",
        "colab_type": "code",
        "colab": {
          "base_uri": "https://localhost:8080/",
          "height": 265
        },
        "outputId": "86799729-9f0a-4c98-cfcb-b5297bea787e"
      },
      "source": [
        "# Sort 'stop_length' by its values and create a horizontal bar plot\n",
        "stop_length.sort_values().plot(kind='barh')\n",
        "\n",
        "plt.show()"
      ],
      "execution_count": null,
      "outputs": [
        {
          "output_type": "display_data",
          "data": {
            "image/png": "[encoded data removed]",
            "text/plain": [
              "<Figure size 432x288 with 1 Axes>"
            ]
          },
          "metadata": {
            "tags": [],
            "needs_background": "light"
          }
        }
      ]
    },
    {
      "cell_type": "code",
      "metadata": {
        "id": "2ovhULRN52vO",
        "colab_type": "code",
        "colab": {}
      },
      "source": [
        ""
      ],
      "execution_count": null,
      "outputs": []
    },
    {
      "cell_type": "markdown",
      "metadata": {
        "id": "0zdYw-N65zwo",
        "colab_type": "text"
      },
      "source": [
        "#**Analyzing the effect of weather on policing**\n",
        "# Exploring the weather dataset\n",
        "## Plotting the temperature"
      ]
    },
    {
      "cell_type": "code",
      "metadata": {
        "id": "3iXMbWbT5vq2",
        "colab_type": "code",
        "colab": {}
      },
      "source": [
        "# Read 'weather.csv' into a DataFrame named 'weather'\n",
        "weather = pd.read_csv(weather_url)"
      ],
      "execution_count": null,
      "outputs": []
    },
    {
      "cell_type": "code",
      "metadata": {
        "id": "l9tudgF06IzC",
        "colab_type": "code",
        "colab": {
          "base_uri": "https://localhost:8080/",
          "height": 179
        },
        "outputId": "542b375d-380a-425a-8d37-624439b44cf7"
      },
      "source": [
        "# Describe the temperature columns\n",
        "print(weather[['TMIN', 'TAVG', 'TMAX']].describe())"
      ],
      "execution_count": null,
      "outputs": [
        {
          "output_type": "stream",
          "text": [
            "              TMIN         TAVG         TMAX\n",
            "count  4017.000000  1217.000000  4017.000000\n",
            "mean     43.484441    52.493016    61.268608\n",
            "std      17.020298    17.830714    18.199517\n",
            "min      -5.000000     6.000000    15.000000\n",
            "25%      30.000000    39.000000    47.000000\n",
            "50%      44.000000    54.000000    62.000000\n",
            "75%      58.000000    68.000000    77.000000\n",
            "max      77.000000    86.000000   102.000000\n"
          ],
          "name": "stdout"
        }
      ]
    },
    {
      "cell_type": "code",
      "metadata": {
        "id": "TdOlMPPE6SAs",
        "colab_type": "code",
        "colab": {
          "base_uri": "https://localhost:8080/",
          "height": 265
        },
        "outputId": "359c622a-ea60-466d-de4c-5a75d6417002"
      },
      "source": [
        "# Create a box plot of the temperature columns\n",
        "weather.plot(kind='box')\n",
        "\n",
        "plt.show()"
      ],
      "execution_count": null,
      "outputs": [
        {
          "output_type": "display_data",
          "data": {
            "image/png": "[encoded data removed]",
            "text/plain": [
              "<Figure size 432x288 with 1 Axes>"
            ]
          },
          "metadata": {
            "tags": [],
            "needs_background": "light"
          }
        }
      ]
    },
    {
      "cell_type": "markdown",
      "metadata": {
        "id": "CTSMzJBF6Ze8",
        "colab_type": "text"
      },
      "source": [
        "# Categorizing the weather\n",
        "## Counting bad weather conditions"
      ]
    },
    {
      "cell_type": "code",
      "metadata": {
        "id": "VbcXWxMD6YUN",
        "colab_type": "code",
        "colab": {
          "base_uri": "https://localhost:8080/",
          "height": 265
        },
        "outputId": "f3d7bec2-9da4-4d98-e2de-bc1287830aa4"
      },
      "source": [
        "# Copy 'WT01' through 'WT22' to a new DataFrame\n",
        "WT = weather.loc[:, 'WT01':'WT22']\n",
        "\n",
        "# Calculate the sum of each row in 'WT'\n",
        "weather['bad_conditions'] = WT.sum(axis='columns')\n",
        "\n",
        "# Replace missing values in 'bad_conditions' with '0'\n",
        "weather['bad_conditions'] = weather.bad_conditions.fillna(0).astype('int')\n",
        "\n",
        "# Create a histogram to visualize 'bad_conditions'\n",
        "weather.bad_conditions.plot(kind='hist')\n",
        "\n",
        "plt.show()"
      ],
      "execution_count": null,
      "outputs": [
        {
          "output_type": "display_data",
          "data": {
            "image/png": "[encoded data removed]",
            "text/plain": [
              "<Figure size 432x288 with 1 Axes>"
            ]
          },
          "metadata": {
            "tags": [],
            "needs_background": "light"
          }
        }
      ]
    },
    {
      "cell_type": "markdown",
      "metadata": {
        "id": "QcOZDfzJ7x3I",
        "colab_type": "text"
      },
      "source": [
        "## Rating the weather conditions"
      ]
    },
    {
      "cell_type": "code",
      "metadata": {
        "id": "luqteL427SwR",
        "colab_type": "code",
        "colab": {
          "base_uri": "https://localhost:8080/",
          "height": 215
        },
        "outputId": "a56aa064-efb0-49cc-983f-8af4fb84fd20"
      },
      "source": [
        "# Count the unique values in 'bad_conditions' and sort the index\n",
        "print(weather.bad_conditions.value_counts().sort_index())"
      ],
      "execution_count": null,
      "outputs": [
        {
          "output_type": "stream",
          "text": [
            "0    1749\n",
            "1     613\n",
            "2     367\n",
            "3     380\n",
            "4     476\n",
            "5     282\n",
            "6     101\n",
            "7      41\n",
            "8       4\n",
            "9       4\n",
            "Name: bad_conditions, dtype: int64\n"
          ],
          "name": "stdout"
        }
      ]
    },
    {
      "cell_type": "code",
      "metadata": {
        "id": "dngO4JKl8Ceq",
        "colab_type": "code",
        "colab": {
          "base_uri": "https://localhost:8080/",
          "height": 89
        },
        "outputId": "98dccdad-d9fe-4b98-d2ac-9c31ff9fa028"
      },
      "source": [
        "# Create a dictionary that maps integers to strings\n",
        "mapping = {0:'good', 1:'bad', 2:'bad', 3:'bad', 4:'bad', 5:'worse', 6:'worse', 7:'worse', 8:'worse', 9:'worse'}\n",
        "\n",
        "# Convert the 'bad_conditions' integers to strings using the 'mapping'\n",
        "weather['rating'] = weather.bad_conditions.map(mapping)\n",
        "\n",
        "# Count the unique values in 'rating'\n",
        "print(weather.rating.value_counts())"
      ],
      "execution_count": null,
      "outputs": [
        {
          "output_type": "stream",
          "text": [
            "bad      1836\n",
            "good     1749\n",
            "worse     432\n",
            "Name: rating, dtype: int64\n"
          ],
          "name": "stdout"
        }
      ]
    },
    {
      "cell_type": "markdown",
      "metadata": {
        "id": "shkZh2J-9Jab",
        "colab_type": "text"
      },
      "source": [
        "## Changing the data type to category"
      ]
    },
    {
      "cell_type": "code",
      "metadata": {
        "id": "DFlWJKyx8yGm",
        "colab_type": "code",
        "colab": {
          "base_uri": "https://localhost:8080/",
          "height": 143
        },
        "outputId": "12a022f5-48ed-4cd9-ada9-1198fa3ad0ed"
      },
      "source": [
        "# Create a list of weather ratings in logical order\n",
        "cats = ['good', 'bad', 'worse']\n",
        "\n",
        "# Change the data type of 'rating' to category\n",
        "weather['rating'] = weather.rating.astype('category')\n",
        "\n",
        "# Examine the head of 'rating'\n",
        "print(weather.rating.head())"
      ],
      "execution_count": null,
      "outputs": [
        {
          "output_type": "stream",
          "text": [
            "0    bad\n",
            "1    bad\n",
            "2    bad\n",
            "3    bad\n",
            "4    bad\n",
            "Name: rating, dtype: category\n",
            "Categories (3, object): [bad, good, worse]\n"
          ],
          "name": "stdout"
        }
      ]
    },
    {
      "cell_type": "markdown",
      "metadata": {
        "id": "GR34CKwu-dzh",
        "colab_type": "text"
      },
      "source": [
        "# Merging datasets\n",
        "## Preparing the DataFrames"
      ]
    },
    {
      "cell_type": "code",
      "metadata": {
        "id": "QnLhFVBg94Qk",
        "colab_type": "code",
        "colab": {
          "base_uri": "https://localhost:8080/",
          "height": 161
        },
        "outputId": "74548f7e-0009-4575-de44-366e782c869c"
      },
      "source": [
        "# Reseet the index of 'ri'\n",
        "ri.reset_index(inplace=True)\n",
        "\n",
        "# Examine the head of 'ri'\n",
        "print(ri.head())"
      ],
      "execution_count": null,
      "outputs": [
        {
          "output_type": "stream",
          "text": [
            "        stop_datetime   stop_date stop_time  ... district  frisk stop_minutes\n",
            "0 2005-01-04 12:55:00  2005-01-04     12:55  ...  Zone X4  False            8\n",
            "1 2005-01-23 23:15:00  2005-01-23     23:15  ...  Zone K3  False            8\n",
            "2 2005-02-17 04:15:00  2005-02-17     04:15  ...  Zone X4  False            8\n",
            "3 2005-02-20 17:15:00  2005-02-20     17:15  ...  Zone X1  False           23\n",
            "4 2005-02-24 01:20:00  2005-02-24     01:20  ...  Zone X3  False            8\n",
            "\n",
            "[5 rows x 16 columns]\n"
          ],
          "name": "stdout"
        }
      ]
    },
    {
      "cell_type": "code",
      "metadata": {
        "id": "hNJlnkL4-xJ4",
        "colab_type": "code",
        "colab": {
          "base_uri": "https://localhost:8080/",
          "height": 125
        },
        "outputId": "cd44e576-203a-4a38-9288-2d54f1e20572"
      },
      "source": [
        "# Create a DataFrame from the 'DATE' and 'rating' columns\n",
        "weather_rating = weather[['DATE', 'rating']]\n",
        "\n",
        "# Examine the head of 'weather_rating'\n",
        "print(weather_rating.head())"
      ],
      "execution_count": null,
      "outputs": [
        {
          "output_type": "stream",
          "text": [
            "         DATE rating\n",
            "0  2005-01-01    bad\n",
            "1  2005-01-02    bad\n",
            "2  2005-01-03    bad\n",
            "3  2005-01-04    bad\n",
            "4  2005-01-05    bad\n"
          ],
          "name": "stdout"
        }
      ]
    },
    {
      "cell_type": "markdown",
      "metadata": {
        "id": "F1F5fxrf_G4g",
        "colab_type": "text"
      },
      "source": [
        "## Merging the DataFrames"
      ]
    },
    {
      "cell_type": "code",
      "metadata": {
        "id": "BcvyjutA_A3l",
        "colab_type": "code",
        "colab": {
          "base_uri": "https://localhost:8080/",
          "height": 35
        },
        "outputId": "933413f0-61f1-4a64-a724-f4f6f22c13c1"
      },
      "source": [
        "# Examine the shape of 'ri'\n",
        "print(ri.shape)"
      ],
      "execution_count": null,
      "outputs": [
        {
          "output_type": "stream",
          "text": [
            "(86536, 16)\n"
          ],
          "name": "stdout"
        }
      ]
    },
    {
      "cell_type": "code",
      "metadata": {
        "id": "a1jPaUsy_P-2",
        "colab_type": "code",
        "colab": {
          "base_uri": "https://localhost:8080/",
          "height": 35
        },
        "outputId": "a2d3dd4d-94a4-4e65-f6ae-32485a191ce9"
      },
      "source": [
        "# Merge 'ri' and 'weather_rating' using a left join\n",
        "ri_weather = pd.merge(left = ri, right = weather_rating, left_on = 'stop_date', right_on = 'DATE', how= 'left')\n",
        "\n",
        "# Examine the shape of 'ri_weather'\n",
        "print(ri_weather.shape)"
      ],
      "execution_count": null,
      "outputs": [
        {
          "output_type": "stream",
          "text": [
            "(86536, 18)\n"
          ],
          "name": "stdout"
        }
      ]
    },
    {
      "cell_type": "code",
      "metadata": {
        "id": "t1ojG4yl_rYw",
        "colab_type": "code",
        "colab": {}
      },
      "source": [
        "# Set 'stop_datetime' as the index of 'ri_weathre'\n",
        "ri_weather.set_index('stop_datetime', inplace=True)"
      ],
      "execution_count": null,
      "outputs": []
    },
    {
      "cell_type": "markdown",
      "metadata": {
        "id": "1sfPVjOO_7_3",
        "colab_type": "text"
      },
      "source": [
        "# Does weather affect the arrest rate?\n",
        "## Comparing arrest rates by weather rate?"
      ]
    },
    {
      "cell_type": "code",
      "metadata": {
        "id": "-2Oz2MKo_3cf",
        "colab_type": "code",
        "colab": {
          "base_uri": "https://localhost:8080/",
          "height": 35
        },
        "outputId": "07c46fd3-d275-4653-f8f1-2843d29386ce"
      },
      "source": [
        "# Calculate the overall arrest rate\n",
        "print(ri_weather.is_arrested.mean())"
      ],
      "execution_count": null,
      "outputs": [
        {
          "output_type": "stream",
          "text": [
            "0.0355690117407784\n"
          ],
          "name": "stdout"
        }
      ]
    },
    {
      "cell_type": "code",
      "metadata": {
        "id": "-Tg8Er9BALoU",
        "colab_type": "code",
        "colab": {
          "base_uri": "https://localhost:8080/",
          "height": 107
        },
        "outputId": "2117a8a7-6b95-4f17-8762-eeb20f90308a"
      },
      "source": [
        "# Calculate the arrest rate for each ' rating'\n",
        "print(ri_weather.groupby('rating').is_arrested.mean())"
      ],
      "execution_count": null,
      "outputs": [
        {
          "output_type": "stream",
          "text": [
            "rating\n",
            "bad      0.036261\n",
            "good     0.033715\n",
            "worse    0.041667\n",
            "Name: is_arrested, dtype: float64\n"
          ],
          "name": "stdout"
        }
      ]
    },
    {
      "cell_type": "code",
      "metadata": {
        "id": "seqznwyJAT5z",
        "colab_type": "code",
        "colab": {
          "base_uri": "https://localhost:8080/",
          "height": 377
        },
        "outputId": "d1c1a8d3-d17c-4f8e-a843-6670eabbfe0a"
      },
      "source": [
        "# Calculate the arrest rate for reach 'violation' and 'rating'\n",
        "print(ri_weather.groupby(['violation', 'rating']).is_arrested.mean())"
      ],
      "execution_count": null,
      "outputs": [
        {
          "output_type": "stream",
          "text": [
            "violation            rating\n",
            "Equipment            bad       0.066311\n",
            "                     good      0.059007\n",
            "                     worse     0.097357\n",
            "Moving violation     bad       0.058050\n",
            "                     good      0.056227\n",
            "                     worse     0.065860\n",
            "Other                bad       0.087443\n",
            "                     good      0.076966\n",
            "                     worse     0.062893\n",
            "Registration/plates  bad       0.098160\n",
            "                     good      0.081574\n",
            "                     worse     0.115625\n",
            "Seat belt            bad       0.022493\n",
            "                     good      0.028587\n",
            "                     worse     0.000000\n",
            "Speeding             bad       0.013314\n",
            "                     good      0.013405\n",
            "                     worse     0.016886\n",
            "Name: is_arrested, dtype: float64\n"
          ],
          "name": "stdout"
        }
      ]
    },
    {
      "cell_type": "markdown",
      "metadata": {
        "id": "CAH1fichAuvu",
        "colab_type": "text"
      },
      "source": [
        "## Selecting from a multi_index Series "
      ]
    },
    {
      "cell_type": "code",
      "metadata": {
        "id": "KWqtbU_-Am9M",
        "colab_type": "code",
        "colab": {
          "base_uri": "https://localhost:8080/",
          "height": 377
        },
        "outputId": "88052888-d86c-43be-c500-65378b0a128b"
      },
      "source": [
        "# Save the output of the groupby operation from the last exercise\n",
        "arrest_rate = ri_weather.groupby(['violation', 'rating']).is_arrested.mean()\n",
        "\n",
        "print(arrest_rate)"
      ],
      "execution_count": null,
      "outputs": [
        {
          "output_type": "stream",
          "text": [
            "violation            rating\n",
            "Equipment            bad       0.066311\n",
            "                     good      0.059007\n",
            "                     worse     0.097357\n",
            "Moving violation     bad       0.058050\n",
            "                     good      0.056227\n",
            "                     worse     0.065860\n",
            "Other                bad       0.087443\n",
            "                     good      0.076966\n",
            "                     worse     0.062893\n",
            "Registration/plates  bad       0.098160\n",
            "                     good      0.081574\n",
            "                     worse     0.115625\n",
            "Seat belt            bad       0.022493\n",
            "                     good      0.028587\n",
            "                     worse     0.000000\n",
            "Speeding             bad       0.013314\n",
            "                     good      0.013405\n",
            "                     worse     0.016886\n",
            "Name: is_arrested, dtype: float64\n"
          ],
          "name": "stdout"
        }
      ]
    },
    {
      "cell_type": "code",
      "metadata": {
        "id": "yg4-Wvd9BIWi",
        "colab_type": "code",
        "colab": {
          "base_uri": "https://localhost:8080/",
          "height": 35
        },
        "outputId": "3189349c-5974-48de-bed4-50722f43d140"
      },
      "source": [
        "# Print the arrest rate for moving violations in bad weather\n",
        "print(arrest_rate.loc['Moving violation', 'bad'])"
      ],
      "execution_count": null,
      "outputs": [
        {
          "output_type": "stream",
          "text": [
            "0.05804964058049641\n"
          ],
          "name": "stdout"
        }
      ]
    },
    {
      "cell_type": "code",
      "metadata": {
        "id": "oITmGtkeBIkH",
        "colab_type": "code",
        "colab": {
          "base_uri": "https://localhost:8080/",
          "height": 107
        },
        "outputId": "7e8c6702-3da6-41ba-bd95-0907882e1d97"
      },
      "source": [
        "# Print the arrest rates for speeding violations in all three weather conditions\n",
        "print(arrest_rate.loc['Speeding'])"
      ],
      "execution_count": null,
      "outputs": [
        {
          "output_type": "stream",
          "text": [
            "rating\n",
            "bad      0.013314\n",
            "good     0.013405\n",
            "worse    0.016886\n",
            "Name: is_arrested, dtype: float64\n"
          ],
          "name": "stdout"
        }
      ]
    },
    {
      "cell_type": "markdown",
      "metadata": {
        "id": "ZXRU5leyAvG6",
        "colab_type": "text"
      },
      "source": [
        "## Reshaping the arrest data\n",
        "\n"
      ]
    },
    {
      "cell_type": "code",
      "metadata": {
        "id": "Y83srCmGBiP2",
        "colab_type": "code",
        "colab": {
          "base_uri": "https://localhost:8080/",
          "height": 161
        },
        "outputId": "05713d2d-e535-4ebc-8d6c-660cd10f5ed0"
      },
      "source": [
        "# Unstack the 'arrest_rate' Series into a DataFrame\n",
        "print(arrest_rate.unstack())"
      ],
      "execution_count": null,
      "outputs": [
        {
          "output_type": "stream",
          "text": [
            "rating                    bad      good     worse\n",
            "violation                                        \n",
            "Equipment            0.066311  0.059007  0.097357\n",
            "Moving violation     0.058050  0.056227  0.065860\n",
            "Other                0.087443  0.076966  0.062893\n",
            "Registration/plates  0.098160  0.081574  0.115625\n",
            "Seat belt            0.022493  0.028587  0.000000\n",
            "Speeding             0.013314  0.013405  0.016886\n"
          ],
          "name": "stdout"
        }
      ]
    },
    {
      "cell_type": "code",
      "metadata": {
        "id": "UX2-XgVXBqsC",
        "colab_type": "code",
        "colab": {
          "base_uri": "https://localhost:8080/",
          "height": 161
        },
        "outputId": "400c26d9-c2ee-4303-9073-f6ffd3efddc5"
      },
      "source": [
        "# Create the same DateFrame using a pivot table\n",
        "print(ri_weather.pivot_table(index='violation', columns='rating', values='is_arrested'))"
      ],
      "execution_count": null,
      "outputs": [
        {
          "output_type": "stream",
          "text": [
            "rating                    bad      good     worse\n",
            "violation                                        \n",
            "Equipment            0.066311  0.059007  0.097357\n",
            "Moving violation     0.058050  0.056227  0.065860\n",
            "Other                0.087443  0.076966  0.062893\n",
            "Registration/plates  0.098160  0.081574  0.115625\n",
            "Seat belt            0.022493  0.028587  0.000000\n",
            "Speeding             0.013314  0.013405  0.016886\n"
          ],
          "name": "stdout"
        }
      ]
    },
    {
      "cell_type": "code",
      "metadata": {
        "id": "WK_jy738B3S6",
        "colab_type": "code",
        "colab": {}
      },
      "source": [
        ""
      ],
      "execution_count": null,
      "outputs": []
    }
  ]
}