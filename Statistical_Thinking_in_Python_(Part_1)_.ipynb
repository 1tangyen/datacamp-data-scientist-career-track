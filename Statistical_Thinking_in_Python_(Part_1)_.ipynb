{
  "nbformat": 4,
  "nbformat_minor": 0,
  "metadata": {
    "colab": {
      "name": "Statistical Thinking in Python (Part 1) .ipynb",
      "provenance": [],
      "authorship_tag": "ABX9TyM/N06WOIzoFB8IfQUx5Gbp"
    },
    "kernelspec": {
      "name": "python3",
      "display_name": "Python 3"
    }
  },
  "cells": [
    {
      "cell_type": "markdown",
      "metadata": {
        "id": "7KcUMVZwpkn3",
        "colab_type": "text"
      },
      "source": [
        "1. Graphical exploratory data analysis\n",
        "2. Quantitative exploratory data analysis\n",
        "3. Thinking probabilistically-- Discrete variables\n",
        "4. Thinking probabilistically-- Continuous variables\n"
      ]
    },
    {
      "cell_type": "markdown",
      "metadata": {
        "id": "edXVbY0oqOo5",
        "colab_type": "text"
      },
      "source": [
        "# Graphical exploratory data analysis\n",
        "## Introduction to Exploratory data analysis\n",
        "## Plotting a histogram"
      ]
    },
    {
      "cell_type": "code",
      "metadata": {
        "id": "_Lv8YgxNpKbW",
        "colab_type": "code",
        "colab": {}
      },
      "source": [
        "import pandas as pd\n",
        "import numpy as np\n",
        "import warnings\n",
        "warnings.filterwarnings('ignore')"
      ],
      "execution_count": 30,
      "outputs": []
    },
    {
      "cell_type": "code",
      "metadata": {
        "id": "-h4kyU53vP_3",
        "colab_type": "code",
        "colab": {}
      },
      "source": [
        "from sklearn.datasets import load_iris\n",
        "data = load_iris()\n",
        "df = pd.DataFrame(data['data'])\n",
        "df.columns = ['sepal length (cm)', 'sepal width (cm)', 'petal length (cm)', 'petal width (cm)']\n",
        "df['species'] = '' \n",
        "\n",
        "df['species'][:50] = 'setosa'\n",
        "df['species'][50:100] = 'versicolor'\n",
        "df['species'][100:150] = 'virginica'\n",
        "df.head()\n",
        "\n",
        "versicolor_petal_length = df[df['species']=='versicolor']['petal length (cm)'].values\n",
        "setosa_petal_length = df[df['species'] == 'setosa']['petal length (cm)'].values\n",
        "virginica_petal_length = df[df['species'] == 'virginica']['petal length (cm)'].values"
      ],
      "execution_count": 3,
      "outputs": []
    },
    {
      "cell_type": "code",
      "metadata": {
        "id": "oQSsQubnvRsZ",
        "colab_type": "code",
        "colab": {
          "base_uri": "https://localhost:8080/",
          "height": 268
        },
        "outputId": "70dcd112-032b-4b6c-9c08-9ec39d441b0e"
      },
      "source": [
        "import matplotlib.pyplot as plt\n",
        "import seaborn as sns\n",
        "\n",
        "sns.set()\n",
        "\n",
        "plt.hist(versicolor_petal_length)\n",
        "plt.show()"
      ],
      "execution_count": 4,
      "outputs": [
        {
          "output_type": "display_data",
          "data": {
            "image/png": "[encoded data removed]",
            "text/plain": [
              "<Figure size 432x288 with 1 Axes>"
            ]
          },
          "metadata": {
            "tags": []
          }
        }
      ]
    },
    {
      "cell_type": "markdown",
      "metadata": {
        "id": "st85Ez6Fx9mI",
        "colab_type": "text"
      },
      "source": [
        "## Axis labels!"
      ]
    },
    {
      "cell_type": "code",
      "metadata": {
        "id": "Bfy4--TkwbFv",
        "colab_type": "code",
        "colab": {
          "base_uri": "https://localhost:8080/",
          "height": 285
        },
        "outputId": "8327d83a-a541-4502-90c2-87f15dc37cdb"
      },
      "source": [
        "_ = plt.hist(versicolor_petal_length)\n",
        "_ = plt.xlabel('petal length (cm)')\n",
        "_ = plt.ylabel('count')\n",
        "\n",
        "plt.show()"
      ],
      "execution_count": 5,
      "outputs": [
        {
          "output_type": "display_data",
          "data": {
            "image/png": "[encoded data removed]",
            "text/plain": [
              "<Figure size 432x288 with 1 Axes>"
            ]
          },
          "metadata": {
            "tags": []
          }
        }
      ]
    },
    {
      "cell_type": "markdown",
      "metadata": {
        "id": "jhcO6HAuyWKg",
        "colab_type": "text"
      },
      "source": [
        "## Adjusting the number of bins in a histogram"
      ]
    },
    {
      "cell_type": "code",
      "metadata": {
        "id": "MeL0MIqfyJS4",
        "colab_type": "code",
        "colab": {
          "base_uri": "https://localhost:8080/",
          "height": 285
        },
        "outputId": "a180762a-f080-42ed-83c5-0c680a1fd766"
      },
      "source": [
        "n_data = len(versicolor_petal_length)\n",
        "n_bins = np.sqrt(n_data).astype(int)\n",
        "\n",
        "_ = plt.hist(versicolor_petal_length, bins=n_bins)\n",
        "_ = plt.xlabel('petal length (cm)')\n",
        "_ = plt.ylabel('count')\n",
        "\n",
        "plt.show()"
      ],
      "execution_count": 6,
      "outputs": [
        {
          "output_type": "display_data",
          "data": {
            "image/png": "[encoded data removed]",
            "text/plain": [
              "<Figure size 432x288 with 1 Axes>"
            ]
          },
          "metadata": {
            "tags": []
          }
        }
      ]
    },
    {
      "cell_type": "markdown",
      "metadata": {
        "id": "yh-757_Wy8PB",
        "colab_type": "text"
      },
      "source": [
        "# Plot all your data: Bee swarm plots\n",
        "## Bee swarm plot"
      ]
    },
    {
      "cell_type": "code",
      "metadata": {
        "id": "Otq-07Hdyq3o",
        "colab_type": "code",
        "colab": {
          "base_uri": "https://localhost:8080/",
          "height": 285
        },
        "outputId": "85806fc6-d2f8-48dd-a6ce-d880119a9fcc"
      },
      "source": [
        "_ = sns.swarmplot(x='species', y='petal length (cm)', data=df)\n",
        "_ = plt.xlabel('species')\n",
        "_ = plt.ylabel('petal length(cm')\n",
        "plt.show()"
      ],
      "execution_count": 7,
      "outputs": [
        {
          "output_type": "display_data",
          "data": {
            "image/png": "[encoded data removed]",
            "text/plain": [
              "<Figure size 432x288 with 1 Axes>"
            ]
          },
          "metadata": {
            "tags": []
          }
        }
      ]
    },
    {
      "cell_type": "markdown",
      "metadata": {
        "id": "gNrX9_egzmpo",
        "colab_type": "text"
      },
      "source": [
        "# Plot all of your data: ECDFs\n",
        "## Computing the ECDF"
      ]
    },
    {
      "cell_type": "code",
      "metadata": {
        "id": "nixsIOa5zXLg",
        "colab_type": "code",
        "colab": {}
      },
      "source": [
        "def ecdf(data):\n",
        "  \"\"\" Compute ECDF for a one-dimensioal array of measurements\"\"\"\n",
        "  n = len(data)\n",
        "  x = np.sort(data)\n",
        "  y = np.arange(1, n+1)/n\n",
        "\n",
        "  return x, y"
      ],
      "execution_count": 8,
      "outputs": []
    },
    {
      "cell_type": "markdown",
      "metadata": {
        "id": "nlAXhoRb1H85",
        "colab_type": "text"
      },
      "source": [
        "## Plotting the ECDF"
      ]
    },
    {
      "cell_type": "code",
      "metadata": {
        "id": "9LcLea-F1ECO",
        "colab_type": "code",
        "colab": {
          "base_uri": "https://localhost:8080/",
          "height": 285
        },
        "outputId": "4e9d81df-f96c-44fb-be8e-985c50405d2f"
      },
      "source": [
        "x_vers, y_vers = ecdf(versicolor_petal_length)\n",
        "\n",
        "_ = plt.plot(x_vers, y_vers, marker='.', linestyle='none')\n",
        "_ = plt.xlabel('data')\n",
        "_ = plt.ylabel('ECDF')\n",
        "\n",
        "plt.show()"
      ],
      "execution_count": 9,
      "outputs": [
        {
          "output_type": "display_data",
          "data": {
            "image/png": "[encoded data removed]",
            "text/plain": [
              "<Figure size 432x288 with 1 Axes>"
            ]
          },
          "metadata": {
            "tags": []
          }
        }
      ]
    },
    {
      "cell_type": "markdown",
      "metadata": {
        "id": "0ykxrthQ1r2o",
        "colab_type": "text"
      },
      "source": [
        "## Comparsion of ECDFs"
      ]
    },
    {
      "cell_type": "code",
      "metadata": {
        "id": "9vzAyMlq1mIN",
        "colab_type": "code",
        "colab": {
          "base_uri": "https://localhost:8080/",
          "height": 285
        },
        "outputId": "704317ec-eeee-41af-d7b8-778f56443117"
      },
      "source": [
        "x_set, y_set = ecdf(setosa_petal_length)\n",
        "x_vers, y_vers = ecdf(versicolor_petal_length)\n",
        "x_virg, y_virg = ecdf(virginica_petal_length)\n",
        "\n",
        "_ = plt.plot(x_set, y_set, marker='.', linestyle='none')\n",
        "_ = plt.plot(x_vers, y_vers, marker='.', linestyle='none')\n",
        "_ = plt.plot(x_virg, y_virg, marker='.', linestyle='none')\n",
        "\n",
        "_ = plt.xlabel('petal length (cm)')\n",
        "_ = plt.ylabel('ECDF')\n",
        "\n",
        "plt.legend(('setosa', 'versicolor', 'virginica'), loc='lower right')\n",
        "plt.show()"
      ],
      "execution_count": 10,
      "outputs": [
        {
          "output_type": "display_data",
          "data": {
            "image/png": "[encoded data removed]",
            "text/plain": [
              "<Figure size 432x288 with 1 Axes>"
            ]
          },
          "metadata": {
            "tags": []
          }
        }
      ]
    },
    {
      "cell_type": "markdown",
      "metadata": {
        "id": "xBgvxIOR7qQt",
        "colab_type": "text"
      },
      "source": [
        "# Quantitative exploratory data analysis\n",
        "# Introduction to summary statistics: The sample mean and median\n",
        "## Computing means"
      ]
    },
    {
      "cell_type": "code",
      "metadata": {
        "id": "Yac4pN7h2fIW",
        "colab_type": "code",
        "colab": {
          "base_uri": "https://localhost:8080/",
          "height": 35
        },
        "outputId": "4acc47e3-b953-4399-d4ba-7d2788e7a1e3"
      },
      "source": [
        "mean_length_vers = np.mean(versicolor_petal_length)\n",
        "\n",
        "print('I. versicolor:', mean_length_vers, 'cm')"
      ],
      "execution_count": 11,
      "outputs": [
        {
          "output_type": "stream",
          "text": [
            "I. versicolor: 4.26 cm\n"
          ],
          "name": "stdout"
        }
      ]
    },
    {
      "cell_type": "markdown",
      "metadata": {
        "id": "___ZmAE9ZQw0",
        "colab_type": "text"
      },
      "source": [
        "# Percentiles, outliers, and box plots\n",
        "## Computing percentiles"
      ]
    },
    {
      "cell_type": "code",
      "metadata": {
        "id": "wzGySBmHZBlS",
        "colab_type": "code",
        "colab": {
          "base_uri": "https://localhost:8080/",
          "height": 35
        },
        "outputId": "7243ee1c-694e-410b-e405-dc7c9e3df5de"
      },
      "source": [
        "percentiles = np.array([2.5, 25, 50, 75, 97.5])\n",
        "\n",
        "ptitles_vers = np.percentile(versicolor_petal_length, percentiles)\n",
        "\n",
        "print(ptitles_vers)"
      ],
      "execution_count": 12,
      "outputs": [
        {
          "output_type": "stream",
          "text": [
            "[3.3    4.     4.35   4.6    4.9775]\n"
          ],
          "name": "stdout"
        }
      ]
    },
    {
      "cell_type": "markdown",
      "metadata": {
        "id": "TQpee_0NZ6hp",
        "colab_type": "text"
      },
      "source": [
        "## Comparing percentiles to ECDF"
      ]
    },
    {
      "cell_type": "code",
      "metadata": {
        "id": "U9toko3fZnsi",
        "colab_type": "code",
        "colab": {
          "base_uri": "https://localhost:8080/",
          "height": 285
        },
        "outputId": "90d90e67-645d-42fc-a8eb-071b39942664"
      },
      "source": [
        "_ = plt.plot(x_vers, y_vers, '.')\n",
        "_ = plt.xlabel('petal length (cm)')\n",
        "_ = plt.ylabel('ECDF')\n",
        "\n",
        "_ = plt.plot(ptitles_vers, percentiles/100, marker='D', color='red', linestyle='none')\n",
        "\n",
        "plt.show()"
      ],
      "execution_count": 13,
      "outputs": [
        {
          "output_type": "display_data",
          "data": {
            "image/png": "[encoded data removed]",
            "text/plain": [
              "<Figure size 432x288 with 1 Axes>"
            ]
          },
          "metadata": {
            "tags": []
          }
        }
      ]
    },
    {
      "cell_type": "markdown",
      "metadata": {
        "id": "0W9vjL9KalBP",
        "colab_type": "text"
      },
      "source": [
        "## Box-and-whisker plot"
      ]
    },
    {
      "cell_type": "code",
      "metadata": {
        "id": "Rl56QgYQaPnx",
        "colab_type": "code",
        "colab": {
          "base_uri": "https://localhost:8080/",
          "height": 285
        },
        "outputId": "386dc564-8c7a-43a9-a58b-030cb1dae63f"
      },
      "source": [
        "_ = sns.boxplot(x='species', y='petal length (cm)', data=df)\n",
        "_ = plt.xlabel('species')\n",
        "_ = plt.ylabel('petal length (cm)')\n",
        "\n",
        "plt.show()"
      ],
      "execution_count": 14,
      "outputs": [
        {
          "output_type": "display_data",
          "data": {
            "image/png": "[encoded data removed]",
            "text/plain": [
              "<Figure size 432x288 with 1 Axes>"
            ]
          },
          "metadata": {
            "tags": []
          }
        }
      ]
    },
    {
      "cell_type": "markdown",
      "metadata": {
        "id": "BA6Ta75NbK23",
        "colab_type": "text"
      },
      "source": [
        "# Variance and standard deviation\n",
        "## Computing the variance"
      ]
    },
    {
      "cell_type": "code",
      "metadata": {
        "id": "dRL4SS9DbEvq",
        "colab_type": "code",
        "colab": {
          "base_uri": "https://localhost:8080/",
          "height": 35
        },
        "outputId": "78882c42-56cb-4964-def0-27df32feeb96"
      },
      "source": [
        "differences = np.array(versicolor_petal_length - np.mean(versicolor_petal_length))\n",
        "diff_sq = differences ** 2\n",
        "\n",
        "variance_explicit = np.mean(diff_sq)\n",
        "variance_np = np.var(differences)\n",
        "\n",
        "print(variance_explicit, variance_np)"
      ],
      "execution_count": 15,
      "outputs": [
        {
          "output_type": "stream",
          "text": [
            "0.21640000000000004 0.21640000000000004\n"
          ],
          "name": "stdout"
        }
      ]
    },
    {
      "cell_type": "markdown",
      "metadata": {
        "id": "uqbra3alb80N",
        "colab_type": "text"
      },
      "source": [
        "## The standard deviation and the variance"
      ]
    },
    {
      "cell_type": "code",
      "metadata": {
        "id": "RIBIZ0F2b7R5",
        "colab_type": "code",
        "colab": {
          "base_uri": "https://localhost:8080/",
          "height": 53
        },
        "outputId": "e9537228-3b75-4413-82c9-4f7cf362ac1c"
      },
      "source": [
        "variance = np.var(versicolor_petal_length)\n",
        "print(np.sqrt(variance))\n",
        "print(np.std(versicolor_petal_length))"
      ],
      "execution_count": 16,
      "outputs": [
        {
          "output_type": "stream",
          "text": [
            "0.4651881339845203\n",
            "0.4651881339845203\n"
          ],
          "name": "stdout"
        }
      ]
    },
    {
      "cell_type": "markdown",
      "metadata": {
        "id": "uHyEJ60qeI8_",
        "colab_type": "text"
      },
      "source": [
        "# Covariance and the Pearson correlation coefficient\n",
        "## Scatter plots"
      ]
    },
    {
      "cell_type": "code",
      "metadata": {
        "id": "I-TlJo2letrk",
        "colab_type": "code",
        "colab": {}
      },
      "source": [
        "versicolor_petal_width = df[df['species']=='versicolor']['petal width (cm)'].values\n",
        "setosa_petal_width = df[df['species'] == 'setosa']['petal width (cm)'].values\n",
        "virginica_petal_width = df[df['species'] == 'virginica']['petal width (cm)'].values"
      ],
      "execution_count": 17,
      "outputs": []
    },
    {
      "cell_type": "code",
      "metadata": {
        "id": "ZLZTtkxOdrN-",
        "colab_type": "code",
        "colab": {
          "base_uri": "https://localhost:8080/",
          "height": 285
        },
        "outputId": "46609249-cd15-4b14-9c50-9a2c36d98a4a"
      },
      "source": [
        "_ = plt.plot(versicolor_petal_length, versicolor_petal_width, marker='.', linestyle='none')\n",
        "_ = plt.xlabel('petal length')\n",
        "_ = plt.ylabel('petal width')\n",
        "\n",
        "plt.show()"
      ],
      "execution_count": 18,
      "outputs": [
        {
          "output_type": "display_data",
          "data": {
            "image/png": "[encoded data removed]",
            "text/plain": [
              "<Figure size 432x288 with 1 Axes>"
            ]
          },
          "metadata": {
            "tags": []
          }
        }
      ]
    },
    {
      "cell_type": "markdown",
      "metadata": {
        "id": "z62u4QXEe1Hz",
        "colab_type": "text"
      },
      "source": [
        "## Computing the covariance"
      ]
    },
    {
      "cell_type": "code",
      "metadata": {
        "id": "z26xmgOveGWu",
        "colab_type": "code",
        "colab": {
          "base_uri": "https://localhost:8080/",
          "height": 53
        },
        "outputId": "abad1a93-199c-48f1-af0d-b5af68b29ba2"
      },
      "source": [
        "covariance_matrix = np.cov(versicolor_petal_length, versicolor_petal_width)\n",
        "\n",
        "print(covariance_matrix)"
      ],
      "execution_count": 19,
      "outputs": [
        {
          "output_type": "stream",
          "text": [
            "[[0.22081633 0.07310204]\n",
            " [0.07310204 0.03910612]]\n"
          ],
          "name": "stdout"
        }
      ]
    },
    {
      "cell_type": "code",
      "metadata": {
        "id": "6KNh5DeGfHTa",
        "colab_type": "code",
        "colab": {
          "base_uri": "https://localhost:8080/",
          "height": 35
        },
        "outputId": "8dfd6a8c-75d3-4ffa-fccd-db5a704ab7d6"
      },
      "source": [
        "petal_cov = covariance_matrix[0, 1]\n",
        "print(petal_cov)"
      ],
      "execution_count": 20,
      "outputs": [
        {
          "output_type": "stream",
          "text": [
            "0.07310204081632653\n"
          ],
          "name": "stdout"
        }
      ]
    },
    {
      "cell_type": "markdown",
      "metadata": {
        "id": "gqVOxYrgfc33",
        "colab_type": "text"
      },
      "source": [
        "## Computing the Pearson correlation coefficient"
      ]
    },
    {
      "cell_type": "code",
      "metadata": {
        "id": "jCpI4UrTfNup",
        "colab_type": "code",
        "colab": {
          "base_uri": "https://localhost:8080/",
          "height": 35
        },
        "outputId": "1a8897c4-3ea3-4743-9ec9-304086fcabdb"
      },
      "source": [
        "def pearson_r(x, y):\n",
        "  \"\"\"Compute Pearson correlation coefficient between two arrays\"\"\"\n",
        "  corr_mat = np.corrcoef(x, y)\n",
        "  return corr_mat[0, 1]\n",
        "\n",
        "r = pearson_r(versicolor_petal_length, versicolor_petal_width)\n",
        "\n",
        "print(r)"
      ],
      "execution_count": 21,
      "outputs": [
        {
          "output_type": "stream",
          "text": [
            "0.7866680885228169\n"
          ],
          "name": "stdout"
        }
      ]
    },
    {
      "cell_type": "markdown",
      "metadata": {
        "id": "ch6PkZL6PV1a",
        "colab_type": "text"
      },
      "source": [
        "# Thinking probabilistically -- Discrete variables"
      ]
    },
    {
      "cell_type": "markdown",
      "metadata": {
        "id": "ZZSkxNfagC-n",
        "colab_type": "text"
      },
      "source": [
        "\n",
        "# Random number generators and hacker statistics\n",
        "## Generating random numbers using the np.random module"
      ]
    },
    {
      "cell_type": "code",
      "metadata": {
        "id": "MQ8aCKKmf5nD",
        "colab_type": "code",
        "colab": {
          "base_uri": "https://localhost:8080/",
          "height": 268
        },
        "outputId": "169bf3fe-ed94-4367-b40a-09c045dc5d95"
      },
      "source": [
        "np.random.seed(42)\n",
        "random_numbers = np.empty(100000)\n",
        "for i in range(100000):\n",
        "  random_numbers[i] = np.random.random()\n",
        "\n",
        "_ = plt.hist(random_numbers)\n",
        "plt.show()"
      ],
      "execution_count": 22,
      "outputs": [
        {
          "output_type": "display_data",
          "data": {
            "image/png": "[encoded data removed]",
            "text/plain": [
              "<Figure size 432x288 with 1 Axes>"
            ]
          },
          "metadata": {
            "tags": []
          }
        }
      ]
    },
    {
      "cell_type": "markdown",
      "metadata": {
        "id": "Cjf0Hyxlg0NP",
        "colab_type": "text"
      },
      "source": [
        "## The np.random module and Bernoulli trials"
      ]
    },
    {
      "cell_type": "code",
      "metadata": {
        "id": "OosO0HoKgjlD",
        "colab_type": "code",
        "colab": {}
      },
      "source": [
        "def perform_bernoulli_trials(n, p):\n",
        "    \"\"\"Perform n Bernoulli trials with success probability p and return number of successes.\"\"\"\n",
        "    n_success = 0\n",
        "    \n",
        "    for i in range(n):\n",
        "\n",
        "        random_number = np.random.random()\n",
        "        \n",
        "        if random_number < p:\n",
        "            n_success += 1\n",
        "            \n",
        "    return n_success"
      ],
      "execution_count": 23,
      "outputs": []
    },
    {
      "cell_type": "markdown",
      "metadata": {
        "id": "BBJ1zAjbiiFC",
        "colab_type": "text"
      },
      "source": [
        "## How many defaults might we expect?"
      ]
    },
    {
      "cell_type": "code",
      "metadata": {
        "id": "543Nmsi3hrb4",
        "colab_type": "code",
        "colab": {
          "base_uri": "https://localhost:8080/",
          "height": 285
        },
        "outputId": "f7cd3283-ed53-4187-ad8a-41590b37ea05"
      },
      "source": [
        "np.random.seed(42)\n",
        "n_defaults = np.empty(1000)\n",
        "\n",
        "for i in range(1000):\n",
        "   \n",
        "    n_defaults[i] = perform_bernoulli_trials(100, 0.05)\n",
        "\n",
        "\n",
        "_ = plt.hist(n_defaults, density=True)\n",
        "_ = plt.xlabel('number of defaults out of 100 loans')\n",
        "_ = plt.ylabel('probability')\n",
        "\n",
        "plt.show()"
      ],
      "execution_count": 24,
      "outputs": [
        {
          "output_type": "display_data",
          "data": {
            "image/png": "[encoded data removed]",
            "text/plain": [
              "<Figure size 432x288 with 1 Axes>"
            ]
          },
          "metadata": {
            "tags": []
          }
        }
      ]
    },
    {
      "cell_type": "markdown",
      "metadata": {
        "id": "HtY1cbg1lai2",
        "colab_type": "text"
      },
      "source": [
        "## Will the bank fail?"
      ]
    },
    {
      "cell_type": "code",
      "metadata": {
        "id": "strkmXPFkOnF",
        "colab_type": "code",
        "colab": {
          "base_uri": "https://localhost:8080/",
          "height": 285
        },
        "outputId": "9760cc53-5a06-45b6-9cab-7d98627de97e"
      },
      "source": [
        "x, y = ecdf(n_defaults)\n",
        "\n",
        "_ = plt.plot(x, y, marker='.', linestyle='none')\n",
        "_ = plt.xlabel('x')\n",
        "_ = plt.ylabel('y')\n",
        "\n",
        "plt.show()"
      ],
      "execution_count": 25,
      "outputs": [
        {
          "output_type": "display_data",
          "data": {
            "image/png": "[encoded data removed]",
            "text/plain": [
              "<Figure size 432x288 with 1 Axes>"
            ]
          },
          "metadata": {
            "tags": []
          }
        }
      ]
    },
    {
      "cell_type": "code",
      "metadata": {
        "id": "oiS3YUXylo2N",
        "colab_type": "code",
        "colab": {
          "base_uri": "https://localhost:8080/",
          "height": 35
        },
        "outputId": "6d916d70-11a7-4d71-e207-6f852f256ec8"
      },
      "source": [
        "n_lose_money = np.sum(n_defaults >= 10)\n",
        "\n",
        "print('Probability of losing money =', n_lose_money / len(n_defaults))"
      ],
      "execution_count": 26,
      "outputs": [
        {
          "output_type": "stream",
          "text": [
            "Probability of losing money = 0.022\n"
          ],
          "name": "stdout"
        }
      ]
    },
    {
      "cell_type": "markdown",
      "metadata": {
        "id": "rpzcRSBLmGlp",
        "colab_type": "text"
      },
      "source": [
        "# Probability distributions and stories: Binomial distribution\n",
        "## Sampling out of the Binomial distribution"
      ]
    },
    {
      "cell_type": "code",
      "metadata": {
        "id": "D-4wwQLGl5q9",
        "colab_type": "code",
        "colab": {
          "base_uri": "https://localhost:8080/",
          "height": 285
        },
        "outputId": "62b49ca6-dc0f-45b8-9b6e-35437468c297"
      },
      "source": [
        "n_defaults = np.random.binomial(n=100, p=0.05, size=10000)\n",
        "\n",
        "x, y = ecdf(n_defaults)\n",
        "\n",
        "_ = plt.plot(x, y, marker='.', linestyle='none')\n",
        "_ = plt.xlabel('x')\n",
        "_ = plt.ylabel('y')\n",
        "\n",
        "plt.show()"
      ],
      "execution_count": 27,
      "outputs": [
        {
          "output_type": "display_data",
          "data": {
            "image/png": "[encoded data removed]",
            "text/plain": [
              "<Figure size 432x288 with 1 Axes>"
            ]
          },
          "metadata": {
            "tags": []
          }
        }
      ]
    },
    {
      "cell_type": "markdown",
      "metadata": {
        "id": "FMt-BPg0nEyA",
        "colab_type": "text"
      },
      "source": [
        "## Plotting the Binomial PMF"
      ]
    },
    {
      "cell_type": "code",
      "metadata": {
        "id": "V-YzhE33m2Oa",
        "colab_type": "code",
        "colab": {
          "base_uri": "https://localhost:8080/",
          "height": 285
        },
        "outputId": "57badd35-dac0-4709-8eed-91565e2a5f3e"
      },
      "source": [
        "bins = np.arange(0, max(n_defaults)+2) - 0.5\n",
        "\n",
        "_ = plt.hist(n_defaults, bins=bins, density=True)\n",
        "_ = plt.xlabel('x')\n",
        "_ = plt.ylabel('y')\n",
        "\n",
        "plt.show()"
      ],
      "execution_count": 28,
      "outputs": [
        {
          "output_type": "display_data",
          "data": {
            "image/png": "[encoded data removed]",
            "text/plain": [
              "<Figure size 432x288 with 1 Axes>"
            ]
          },
          "metadata": {
            "tags": []
          }
        }
      ]
    },
    {
      "cell_type": "markdown",
      "metadata": {
        "id": "V_zNyjo3MF3U",
        "colab_type": "text"
      },
      "source": [
        "# Poisson processes and the Poisson distribution\n",
        "## Relationship between Binomial and Poisson distributions"
      ]
    },
    {
      "cell_type": "code",
      "metadata": {
        "id": "ddQDuMInnVzA",
        "colab_type": "code",
        "colab": {
          "base_uri": "https://localhost:8080/",
          "height": 35
        },
        "outputId": "ab8b58fc-917d-46a1-d0ca-6d25872b7a54"
      },
      "source": [
        "samples_poisson = np.random.poisson(10, 10000)\n",
        "\n",
        "print('Poisson:     ', np.mean(samples_poisson),\n",
        "                       np.std(samples_poisson))"
      ],
      "execution_count": 31,
      "outputs": [
        {
          "output_type": "stream",
          "text": [
            "Poisson:      10.0145 3.1713545607516043\n"
          ],
          "name": "stdout"
        }
      ]
    },
    {
      "cell_type": "code",
      "metadata": {
        "id": "0SIudNNAMpcO",
        "colab_type": "code",
        "colab": {
          "base_uri": "https://localhost:8080/",
          "height": 71
        },
        "outputId": "14b9c265-e0f3-467c-a448-5ed311ef0796"
      },
      "source": [
        "n = [20, 100, 1000]\n",
        "p = [0.5, 0.1, 0.01]\n",
        "\n",
        "for i in range(3):\n",
        "    samples_bionomial = np.random.binomial(n[i], p[i], size=10000)\n",
        "\n",
        "    print('n =', n[i], 'Binom:', np.mean(samples_poisson), np.std(samples_poisson))"
      ],
      "execution_count": 33,
      "outputs": [
        {
          "output_type": "stream",
          "text": [
            "n = 20 Binom: 10.0145 3.1713545607516043\n",
            "n = 100 Binom: 10.0145 3.1713545607516043\n",
            "n = 1000 Binom: 10.0145 3.1713545607516043\n"
          ],
          "name": "stdout"
        }
      ]
    },
    {
      "cell_type": "markdown",
      "metadata": {
        "id": "pFkVxliyNz8X",
        "colab_type": "text"
      },
      "source": [
        "## Was 2015 anomalous?"
      ]
    },
    {
      "cell_type": "code",
      "metadata": {
        "id": "zVnqZ8UPNSvI",
        "colab_type": "code",
        "colab": {
          "base_uri": "https://localhost:8080/",
          "height": 35
        },
        "outputId": "69ed91a2-667b-413a-d6bc-bc4337ee046d"
      },
      "source": [
        "n_nohitters = np.random.poisson(251/115, 10000)\n",
        "n_large = np.sum(n_nohitters >= 7)\n",
        "p_large = n_large / 10000\n",
        "\n",
        "print('Probability of seven or more no-hitters:', p_large)"
      ],
      "execution_count": 35,
      "outputs": [
        {
          "output_type": "stream",
          "text": [
            "Probability of seven or more no-hitters: 0.0062\n"
          ],
          "name": "stdout"
        }
      ]
    },
    {
      "cell_type": "code",
      "metadata": {
        "id": "B45LFzOgOY4Q",
        "colab_type": "code",
        "colab": {
          "base_uri": "https://localhost:8080/",
          "height": 35
        },
        "outputId": "0f5d3f04-702b-4bd3-d00b-ff1ed355adc9"
      },
      "source": [
        "p_large"
      ],
      "execution_count": 38,
      "outputs": [
        {
          "output_type": "execute_result",
          "data": {
            "text/plain": [
              "0.0062"
            ]
          },
          "metadata": {
            "tags": []
          },
          "execution_count": 38
        }
      ]
    },
    {
      "cell_type": "markdown",
      "metadata": {
        "id": "WXizWjQXO9LC",
        "colab_type": "text"
      },
      "source": [
        "# Thinking probabilistically -- Continuous variables\n",
        "# Introduction to the Normal distribution\n",
        "# The Normal PDF"
      ]
    },
    {
      "cell_type": "code",
      "metadata": {
        "id": "AUjsefOZOytQ",
        "colab_type": "code",
        "colab": {}
      },
      "source": [
        "samples_std1 = np.random.normal(20, 1, 100000)\n",
        "samples_std3 = np.random.normal(20, 3, 100000)\n",
        "samples_std10 = np.random.normal(20, 10, 100000)"
      ],
      "execution_count": 39,
      "outputs": []
    },
    {
      "cell_type": "code",
      "metadata": {
        "id": "RfActNV_PtlG",
        "colab_type": "code",
        "colab": {
          "base_uri": "https://localhost:8080/",
          "height": 268
        },
        "outputId": "f9212e97-8a2d-4b38-cb9d-fc0ae49f7b39"
      },
      "source": [
        "_ = plt.hist(samples_std1, histtype='step', density=True, bins=100)\n",
        "_ = plt.hist(samples_std3, histtype='step', density=True, bins=100)\n",
        "_ = plt.hist(samples_std10, histtype='step', density=True, bins=100)\n",
        "\n",
        "_ = plt.legend(('std = 1', 'std = 3', 'std = 10'))\n",
        "plt.ylim(-0.01, 0.42)\n",
        "plt.show()"
      ],
      "execution_count": 43,
      "outputs": [
        {
          "output_type": "display_data",
          "data": {
            "image/png": "[encoded data removed]",
            "text/plain": [
              "<Figure size 432x288 with 1 Axes>"
            ]
          },
          "metadata": {
            "tags": []
          }
        }
      ]
    },
    {
      "cell_type": "markdown",
      "metadata": {
        "id": "IO4YwVBYQpYs",
        "colab_type": "text"
      },
      "source": [
        "# The normal CDF"
      ]
    },
    {
      "cell_type": "code",
      "metadata": {
        "id": "pu8bcjFoP2Ic",
        "colab_type": "code",
        "colab": {}
      },
      "source": [
        "def ecdf(data):\n",
        "    \"\"\"Computer ECDF for a one-dimentional array of measurements.\"\"\"\n",
        "    n = len(data)\n",
        "    x = np.sort(data)\n",
        "    y = np.arange(1, n+1) / n\n",
        "    return x, y"
      ],
      "execution_count": 44,
      "outputs": []
    },
    {
      "cell_type": "code",
      "metadata": {
        "id": "4iGIHS52Rf5W",
        "colab_type": "code",
        "colab": {
          "base_uri": "https://localhost:8080/",
          "height": 286
        },
        "outputId": "440d3ef3-0a3a-41e6-b70b-4c1cacf27b38"
      },
      "source": [
        "x_std1, y_std1 = ecdf(samples_std1)\n",
        "x_std3, y_std3 = ecdf(samples_std3)\n",
        "x_std10, y_std10 = ecdf(samples_std10)\n",
        "\n",
        "plt.plot(x_std1, y_std1, marker='.', linestyle='none')\n",
        "plt.plot(x_std3, y_std3, marker='.', linestyle='none')\n",
        "plt.plot(x_std10, y_std10, marker='.', linestyle='none')\n",
        "\n",
        "plt.legend(('std = 1', 'std = 3', 'std = 10'), loc='lower right')"
      ],
      "execution_count": 46,
      "outputs": [
        {
          "output_type": "execute_result",
          "data": {
            "text/plain": [
              "<matplotlib.legend.Legend at 0x7fe843ef4e10>"
            ]
          },
          "metadata": {
            "tags": []
          },
          "execution_count": 46
        },
        {
          "output_type": "display_data",
          "data": {
            "image/png": "[encoded data removed]",
            "text/plain": [
              "<Figure size 432x288 with 1 Axes>"
            ]
          },
          "metadata": {
            "tags": []
          }
        }
      ]
    },
    {
      "cell_type": "markdown",
      "metadata": {
        "id": "tysCz8l_R57_",
        "colab_type": "text"
      },
      "source": [
        "# The Normal distribution: Properties and warnings\n",
        "## Are the Belmont Stakes results Normally distributed?"
      ]
    },
    {
      "cell_type": "code",
      "metadata": {
        "id": "XWecwTkHRkRY",
        "colab_type": "code",
        "colab": {}
      },
      "source": [
        "belmont_no_outliers = np.array([148.51, 146.65, 148.52, 150.7 , 150.42, 150.88, 151.57, 147.54,\n",
        "       149.65, 148.74, 147.86, 148.75, 147.5 , 148.26, 149.71, 146.56,\n",
        "       151.19, 147.88, 149.16, 148.82, 148.96, 152.02, 146.82, 149.97,\n",
        "       146.13, 148.1 , 147.2 , 146.  , 146.4 , 148.2 , 149.8 , 147.  ,\n",
        "       147.2 , 147.8 , 148.2 , 149.  , 149.8 , 148.6 , 146.8 , 149.6 ,\n",
        "       149.  , 148.2 , 149.2 , 148.  , 150.4 , 148.8 , 147.2 , 148.8 ,\n",
        "       149.6 , 148.4 , 148.4 , 150.2 , 148.8 , 149.2 , 149.2 , 148.4 ,\n",
        "       150.2 , 146.6 , 149.8 , 149.  , 150.8 , 148.6 , 150.2 , 149.  ,\n",
        "       148.6 , 150.2 , 148.2 , 149.4 , 150.8 , 150.2 , 152.2 , 148.2 ,\n",
        "       149.2 , 151.  , 149.6 , 149.6 , 149.4 , 148.6 , 150.  , 150.6 ,\n",
        "       149.2 , 152.6 , 152.8 , 149.6 , 151.6 , 152.8 , 153.2 , 152.4 ,\n",
        "       152.2 ])"
      ],
      "execution_count": 47,
      "outputs": []
    },
    {
      "cell_type": "code",
      "metadata": {
        "id": "RhVccbKXSeA_",
        "colab_type": "code",
        "colab": {
          "base_uri": "https://localhost:8080/",
          "height": 285
        },
        "outputId": "73872986-42f3-4519-cad8-1513dc039813"
      },
      "source": [
        "mu = np.mean(belmont_no_outliers)\n",
        "sigma = np.std(belmont_no_outliers)\n",
        "\n",
        "samples = np.random.normal(mu, sigma, size=10000)\n",
        "\n",
        "x_theor, y_theor = ecdf(samples)\n",
        "x, y = ecdf(belmont_no_outliers)\n",
        "\n",
        "_ = plt.plot(x_theor, y_theor)\n",
        "_ = plt.plot(x, y, marker='.', linestyle='none')\n",
        "_ = plt.xlabel('Belmont winning time (sec.)')\n",
        "_ = plt.ylabel('CDF')\n",
        "\n",
        "plt.show()"
      ],
      "execution_count": 50,
      "outputs": [
        {
          "output_type": "display_data",
          "data": {
            "image/png": "[encoded data removed]",
            "text/plain": [
              "<Figure size 432x288 with 1 Axes>"
            ]
          },
          "metadata": {
            "tags": []
          }
        }
      ]
    },
    {
      "cell_type": "markdown",
      "metadata": {
        "id": "CsOpgPKRTSq-",
        "colab_type": "text"
      },
      "source": [
        "## What are the chances of a horse matching or beating Secretariat's record"
      ]
    },
    {
      "cell_type": "code",
      "metadata": {
        "id": "gwRYroF9TDyw",
        "colab_type": "code",
        "colab": {
          "base_uri": "https://localhost:8080/",
          "height": 35
        },
        "outputId": "0b348536-c010-46de-bd84-b37bb5c90317"
      },
      "source": [
        "samples = np.random.normal(mu, sigma, size=1000000)\n",
        "prob = np.sum(samples < 144) / len(samples)\n",
        "print('Probability of besting Secretarist:', prob)"
      ],
      "execution_count": 51,
      "outputs": [
        {
          "output_type": "stream",
          "text": [
            "Probability of besting Secretarist: 0.000596\n"
          ],
          "name": "stdout"
        }
      ]
    },
    {
      "cell_type": "markdown",
      "metadata": {
        "id": "Aw_IUdCLTuMj",
        "colab_type": "text"
      },
      "source": [
        "# The Exponential distribution\n",
        "## If you have a story, you can simulate it!"
      ]
    },
    {
      "cell_type": "code",
      "metadata": {
        "id": "hD1O9nNjTsAg",
        "colab_type": "code",
        "colab": {}
      },
      "source": [
        "def successive_poisson(tau1, tau2, size=1):\n",
        "    \"\"\"Compute time for arrival of 2 successive Poisson processes.\"\"\"\n",
        "    # Draw samples out of first exponential distribution: t1\n",
        "    t1 = np.random.exponential(tau1, size)\n",
        "\n",
        "    # Draw samples out of second exponential distribution: t2\n",
        "    t2 = np.random.exponential(tau2, size)\n",
        "\n",
        "    return t1 + t2"
      ],
      "execution_count": 52,
      "outputs": []
    },
    {
      "cell_type": "markdown",
      "metadata": {
        "id": "NMCtZoIbT76e",
        "colab_type": "text"
      },
      "source": [
        "## Distribution of no-hitters and cycles"
      ]
    },
    {
      "cell_type": "code",
      "metadata": {
        "id": "yxAm2UAzT66y",
        "colab_type": "code",
        "colab": {
          "base_uri": "https://localhost:8080/",
          "height": 285
        },
        "outputId": "da040f9a-0824-4bac-852d-1178028014b7"
      },
      "source": [
        "waiting_times = successive_poisson(764, 715, size=100000)\n",
        "\n",
        "# Make the histogram\n",
        "_ = plt.hist(waiting_times, bins=100, density=True, histtype='step')\n",
        "\n",
        "# Label axes\n",
        "_ = plt.xlabel('waiting times')\n",
        "_ = plt.ylabel('PDF')"
      ],
      "execution_count": 53,
      "outputs": [
        {
          "output_type": "display_data",
          "data": {
            "image/png": "[encoded data removed]",
            "text/plain": [
              "<Figure size 432x288 with 1 Axes>"
            ]
          },
          "metadata": {
            "tags": []
          }
        }
      ]
    },
    {
      "cell_type": "code",
      "metadata": {
        "id": "H5LpzBwKUDdb",
        "colab_type": "code",
        "colab": {}
      },
      "source": [
        ""
      ],
      "execution_count": null,
      "outputs": []
    }
  ]
}